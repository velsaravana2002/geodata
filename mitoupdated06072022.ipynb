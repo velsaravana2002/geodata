{
 "cells": [
  {
   "cell_type": "code",
   "execution_count": 1,
   "id": "1afee75d",
   "metadata": {},
   "outputs": [
    {
     "name": "stdout",
     "output_type": "stream",
     "text": [
      "Requirement already satisfied: mitoinstaller in c:\\users\\s.subramanian2\\anaconda3\\envs\\work1\\lib\\site-packages (0.0.161)Note: you may need to restart the kernel to use updated packages.\n",
      "Requirement already satisfied: colorama in c:\\users\\s.subramanian2\\anaconda3\\envs\\work1\\lib\\site-packages (from mitoinstaller) (0.4.4)\n",
      "Requirement already satisfied: analytics-python in c:\\users\\s.subramanian2\\anaconda3\\envs\\work1\\lib\\site-packages (from mitoinstaller) (1.4.0)\n",
      "Requirement already satisfied: termcolor in c:\\users\\s.subramanian2\\anaconda3\\envs\\work1\\lib\\site-packages (from mitoinstaller) (1.1.0)\n",
      "Requirement already satisfied: requests<3.0,>=2.7 in c:\\users\\s.subramanian2\\anaconda3\\envs\\work1\\lib\\site-packages (from analytics-python->mitoinstaller) (2.27.1)\n",
      "Requirement already satisfied: six>=1.5 in c:\\users\\s.subramanian2\\anaconda3\\envs\\work1\\lib\\site-packages (from analytics-python->mitoinstaller) (1.16.0)\n",
      "Requirement already satisfied: backoff==1.10.0 in c:\\users\\s.subramanian2\\anaconda3\\envs\\work1\\lib\\site-packages (from analytics-python->mitoinstaller) (1.10.0)\n",
      "Requirement already satisfied: monotonic>=1.5 in c:\\users\\s.subramanian2\\anaconda3\\envs\\work1\\lib\\site-packages (from analytics-python->mitoinstaller) (1.6)\n",
      "Requirement already satisfied: python-dateutil>2.1 in c:\\users\\s.subramanian2\\anaconda3\\envs\\work1\\lib\\site-packages (from analytics-python->mitoinstaller) (2.8.2)\n",
      "Requirement already satisfied: charset-normalizer~=2.0.0 in c:\\users\\s.subramanian2\\anaconda3\\envs\\work1\\lib\\site-packages (from requests<3.0,>=2.7->analytics-python->mitoinstaller) (2.0.7)\n",
      "Requirement already satisfied: idna<4,>=2.5 in c:\\users\\s.subramanian2\\anaconda3\\envs\\work1\\lib\\site-packages (from requests<3.0,>=2.7->analytics-python->mitoinstaller) (3.3)\n",
      "Requirement already satisfied: urllib3<1.27,>=1.21.1 in c:\\users\\s.subramanian2\\anaconda3\\envs\\work1\\lib\\site-packages (from requests<3.0,>=2.7->analytics-python->mitoinstaller) (1.26.7)\n",
      "Requirement already satisfied: certifi>=2017.4.17 in c:\\users\\s.subramanian2\\anaconda3\\envs\\work1\\lib\\site-packages (from requests<3.0,>=2.7->analytics-python->mitoinstaller) (2021.10.8)\n",
      "\n"
     ]
    }
   ],
   "source": [
    "pip install mitoinstaller"
   ]
  },
  {
   "cell_type": "code",
   "execution_count": 2,
   "id": "ec26a06e",
   "metadata": {},
   "outputs": [
    {
     "name": "stdout",
     "output_type": "stream",
     "text": [
      "Requirement already satisfied: mitosheet in c:\\users\\s.subramanian2\\anaconda3\\envs\\work1\\lib\\site-packages (0.1.428)\n",
      "Requirement already satisfied: openpyxl in c:\\users\\s.subramanian2\\anaconda3\\envs\\work1\\lib\\site-packages (from mitosheet) (3.0.10)\n",
      "Requirement already satisfied: jupyterlab-widgets~=1.0.0 in c:\\users\\s.subramanian2\\anaconda3\\envs\\work1\\lib\\site-packages (from mitosheet) (1.0.0)\n",
      "Requirement already satisfied: pandas>=0.24.2 in c:\\users\\s.subramanian2\\anaconda3\\envs\\work1\\lib\\site-packages (from mitosheet) (1.3.4)\n",
      "Requirement already satisfied: xlsxwriter<=3.0.2,>=0.6.9 in c:\\users\\s.subramanian2\\anaconda3\\envs\\work1\\lib\\site-packages (from mitosheet) (3.0.2)\n",
      "Requirement already satisfied: plotly>=4.14.3 in c:\\users\\s.subramanian2\\anaconda3\\envs\\work1\\lib\\site-packages (from mitosheet) (5.3.1)\n",
      "Requirement already satisfied: jupyterlab~=3.0 in c:\\users\\s.subramanian2\\anaconda3\\envs\\work1\\lib\\site-packages (from mitosheet) (3.4.2)\n",
      "Requirement already satisfied: ipywidgets>=7.0.0 in c:\\users\\s.subramanian2\\anaconda3\\envs\\work1\\lib\\site-packages (from mitosheet) (7.6.5)\n",
      "Requirement already satisfied: chardet>=3.0.4 in c:\\users\\s.subramanian2\\anaconda3\\envs\\work1\\lib\\site-packages (from mitosheet) (4.0.0)\n",
      "Requirement already satisfied: analytics-python in c:\\users\\s.subramanian2\\anaconda3\\envs\\work1\\lib\\site-packages (from mitosheet) (1.4.0)\n",
      "Requirement already satisfied: nbformat>=4.2.0 in c:\\users\\s.subramanian2\\anaconda3\\envs\\work1\\lib\\site-packages (from ipywidgets>=7.0.0->mitosheet) (5.4.0)\n",
      "Requirement already satisfied: traitlets>=4.3.1 in c:\\users\\s.subramanian2\\anaconda3\\envs\\work1\\lib\\site-packages (from ipywidgets>=7.0.0->mitosheet) (5.1.0)\n",
      "Requirement already satisfied: ipython>=4.0.0 in c:\\users\\s.subramanian2\\anaconda3\\envs\\work1\\lib\\site-packages (from ipywidgets>=7.0.0->mitosheet) (7.29.0)\n",
      "Requirement already satisfied: widgetsnbextension~=3.5.0 in c:\\users\\s.subramanian2\\anaconda3\\envs\\work1\\lib\\site-packages (from ipywidgets>=7.0.0->mitosheet) (3.5.1)\n",
      "Requirement already satisfied: ipykernel>=4.5.1 in c:\\users\\s.subramanian2\\anaconda3\\envs\\work1\\lib\\site-packages (from ipywidgets>=7.0.0->mitosheet) (6.4.1)\n",
      "Requirement already satisfied: ipython-genutils~=0.2.0 in c:\\users\\s.subramanian2\\anaconda3\\envs\\work1\\lib\\site-packages (from ipywidgets>=7.0.0->mitosheet) (0.2.0)\n",
      "Requirement already satisfied: jupyter-client<8.0 in c:\\users\\s.subramanian2\\anaconda3\\envs\\work1\\lib\\site-packages (from ipykernel>=4.5.1->ipywidgets>=7.0.0->mitosheet) (7.0.1)\n",
      "Requirement already satisfied: debugpy<2.0,>=1.0.0 in c:\\users\\s.subramanian2\\anaconda3\\envs\\work1\\lib\\site-packages (from ipykernel>=4.5.1->ipywidgets>=7.0.0->mitosheet) (1.4.1)\n",
      "Requirement already satisfied: tornado<7.0,>=4.2 in c:\\users\\s.subramanian2\\anaconda3\\envs\\work1\\lib\\site-packages (from ipykernel>=4.5.1->ipywidgets>=7.0.0->mitosheet) (6.1)\n",
      "Requirement already satisfied: matplotlib-inline<0.2.0,>=0.1.0 in c:\\users\\s.subramanian2\\anaconda3\\envs\\work1\\lib\\site-packages (from ipykernel>=4.5.1->ipywidgets>=7.0.0->mitosheet) (0.1.2)\n",
      "Requirement already satisfied: pickleshare in c:\\users\\s.subramanian2\\anaconda3\\envs\\work1\\lib\\site-packages (from ipython>=4.0.0->ipywidgets>=7.0.0->mitosheet) (0.7.5)\n",
      "Requirement already satisfied: colorama in c:\\users\\s.subramanian2\\anaconda3\\envs\\work1\\lib\\site-packages (from ipython>=4.0.0->ipywidgets>=7.0.0->mitosheet) (0.4.4)\n",
      "Requirement already satisfied: setuptools>=18.5 in c:\\users\\s.subramanian2\\anaconda3\\envs\\work1\\lib\\site-packages (from ipython>=4.0.0->ipywidgets>=7.0.0->mitosheet) (58.0.4)\n",
      "Requirement already satisfied: decorator in c:\\users\\s.subramanian2\\anaconda3\\envs\\work1\\lib\\site-packages (from ipython>=4.0.0->ipywidgets>=7.0.0->mitosheet) (5.1.0)\n",
      "Requirement already satisfied: jedi>=0.16 in c:\\users\\s.subramanian2\\anaconda3\\envs\\work1\\lib\\site-packages (from ipython>=4.0.0->ipywidgets>=7.0.0->mitosheet) (0.18.0)\n",
      "Requirement already satisfied: pygments in c:\\users\\s.subramanian2\\anaconda3\\envs\\work1\\lib\\site-packages (from ipython>=4.0.0->ipywidgets>=7.0.0->mitosheet) (2.10.0)\n",
      "Requirement already satisfied: prompt-toolkit!=3.0.0,!=3.0.1,<3.1.0,>=2.0.0 in c:\\users\\s.subramanian2\\anaconda3\\envs\\work1\\lib\\site-packages (from ipython>=4.0.0->ipywidgets>=7.0.0->mitosheet) (3.0.20)\n",
      "Requirement already satisfied: backcall in c:\\users\\s.subramanian2\\anaconda3\\envs\\work1\\lib\\site-packages (from ipython>=4.0.0->ipywidgets>=7.0.0->mitosheet) (0.2.0)\n",
      "Requirement already satisfied: parso<0.9.0,>=0.8.0 in c:\\users\\s.subramanian2\\anaconda3\\envs\\work1\\lib\\site-packages (from jedi>=0.16->ipython>=4.0.0->ipywidgets>=7.0.0->mitosheet) (0.8.2)\n",
      "Requirement already satisfied: jupyter-core>=4.6.0 in c:\\users\\s.subramanian2\\anaconda3\\envs\\work1\\lib\\site-packages (from jupyter-client<8.0->ipykernel>=4.5.1->ipywidgets>=7.0.0->mitosheet) (4.8.1)\n",
      "Requirement already satisfied: pyzmq>=13 in c:\\users\\s.subramanian2\\anaconda3\\envs\\work1\\lib\\site-packages (from jupyter-client<8.0->ipykernel>=4.5.1->ipywidgets>=7.0.0->mitosheet) (22.2.1)\n",
      "Requirement already satisfied: entrypoints in c:\\users\\s.subramanian2\\anaconda3\\envs\\work1\\lib\\site-packages (from jupyter-client<8.0->ipykernel>=4.5.1->ipywidgets>=7.0.0->mitosheet) (0.3)\n",
      "Requirement already satisfied: python-dateutil>=2.1 in c:\\users\\s.subramanian2\\anaconda3\\envs\\work1\\lib\\site-packages (from jupyter-client<8.0->ipykernel>=4.5.1->ipywidgets>=7.0.0->mitosheet) (2.8.2)\n",
      "Requirement already satisfied: nest-asyncio>=1.5 in c:\\users\\s.subramanian2\\anaconda3\\envs\\work1\\lib\\site-packages (from jupyter-client<8.0->ipykernel>=4.5.1->ipywidgets>=7.0.0->mitosheet) (1.5.1)\n",
      "Requirement already satisfied: pywin32>=1.0 in c:\\users\\s.subramanian2\\anaconda3\\envs\\work1\\lib\\site-packages (from jupyter-core>=4.6.0->jupyter-client<8.0->ipykernel>=4.5.1->ipywidgets>=7.0.0->mitosheet) (228)\n",
      "Requirement already satisfied: nbclassic~=0.2 in c:\\users\\s.subramanian2\\anaconda3\\envs\\work1\\lib\\site-packages (from jupyterlab~=3.0->mitosheet) (0.3.7)\n",
      "Requirement already satisfied: jinja2>=2.1 in c:\\users\\s.subramanian2\\anaconda3\\envs\\work1\\lib\\site-packages (from jupyterlab~=3.0->mitosheet) (3.1.2)\n",
      "Requirement already satisfied: jupyter-server~=1.16 in c:\\users\\s.subramanian2\\anaconda3\\envs\\work1\\lib\\site-packages (from jupyterlab~=3.0->mitosheet) (1.17.0)\n",
      "Requirement already satisfied: jupyterlab-server~=2.10 in c:\\users\\s.subramanian2\\anaconda3\\envs\\work1\\lib\\site-packages (from jupyterlab~=3.0->mitosheet) (2.14.0)\n",
      "Requirement already satisfied: packaging in c:\\users\\s.subramanian2\\anaconda3\\envs\\work1\\lib\\site-packages (from jupyterlab~=3.0->mitosheet) (21.0)\n",
      "Requirement already satisfied: MarkupSafe>=2.0 in c:\\users\\s.subramanian2\\anaconda3\\envs\\work1\\lib\\site-packages (from jinja2>=2.1->jupyterlab~=3.0->mitosheet) (2.0.1)\n",
      "Requirement already satisfied: prometheus-client in c:\\users\\s.subramanian2\\anaconda3\\envs\\work1\\lib\\site-packages (from jupyter-server~=1.16->jupyterlab~=3.0->mitosheet) (0.11.0)\n",
      "Requirement already satisfied: nbconvert>=6.4.4 in c:\\users\\s.subramanian2\\anaconda3\\envs\\work1\\lib\\site-packages (from jupyter-server~=1.16->jupyterlab~=3.0->mitosheet) (6.5.0)\n",
      "Requirement already satisfied: Send2Trash in c:\\users\\s.subramanian2\\anaconda3\\envs\\work1\\lib\\site-packages (from jupyter-server~=1.16->jupyterlab~=3.0->mitosheet) (1.8.0)\n",
      "Requirement already satisfied: terminado>=0.8.3 in c:\\users\\s.subramanian2\\anaconda3\\envs\\work1\\lib\\site-packages (from jupyter-server~=1.16->jupyterlab~=3.0->mitosheet) (0.9.4)\n",
      "Requirement already satisfied: anyio<4,>=3.1.0 in c:\\users\\s.subramanian2\\anaconda3\\envs\\work1\\lib\\site-packages (from jupyter-server~=1.16->jupyterlab~=3.0->mitosheet) (3.6.1)\n",
      "Requirement already satisfied: websocket-client in c:\\users\\s.subramanian2\\anaconda3\\envs\\work1\\lib\\site-packages (from jupyter-server~=1.16->jupyterlab~=3.0->mitosheet) (1.3.2)\n",
      "Requirement already satisfied: pywinpty in c:\\users\\s.subramanian2\\anaconda3\\envs\\work1\\lib\\site-packages (from jupyter-server~=1.16->jupyterlab~=3.0->mitosheet) (0.5.7)\n",
      "Requirement already satisfied: argon2-cffi in c:\\users\\s.subramanian2\\anaconda3\\envs\\work1\\lib\\site-packages (from jupyter-server~=1.16->jupyterlab~=3.0->mitosheet) (20.1.0)\n",
      "Requirement already satisfied: idna>=2.8 in c:\\users\\s.subramanian2\\anaconda3\\envs\\work1\\lib\\site-packages (from anyio<4,>=3.1.0->jupyter-server~=1.16->jupyterlab~=3.0->mitosheet) (3.3)\n",
      "Requirement already satisfied: sniffio>=1.1 in c:\\users\\s.subramanian2\\anaconda3\\envs\\work1\\lib\\site-packages (from anyio<4,>=3.1.0->jupyter-server~=1.16->jupyterlab~=3.0->mitosheet) (1.2.0)\n",
      "Requirement already satisfied: jsonschema>=3.0.1 in c:\\users\\s.subramanian2\\anaconda3\\envs\\work1\\lib\\site-packages (from jupyterlab-server~=2.10->jupyterlab~=3.0->mitosheet) (3.2.0)\n",
      "Requirement already satisfied: requests in c:\\users\\s.subramanian2\\anaconda3\\envs\\work1\\lib\\site-packages (from jupyterlab-server~=2.10->jupyterlab~=3.0->mitosheet) (2.27.1)\n",
      "Requirement already satisfied: importlib-metadata>=3.6 in c:\\users\\s.subramanian2\\anaconda3\\envs\\work1\\lib\\site-packages (from jupyterlab-server~=2.10->jupyterlab~=3.0->mitosheet) (4.8.1)\n",
      "Requirement already satisfied: json5 in c:\\users\\s.subramanian2\\anaconda3\\envs\\work1\\lib\\site-packages (from jupyterlab-server~=2.10->jupyterlab~=3.0->mitosheet) (0.9.8)\n",
      "Requirement already satisfied: babel in c:\\users\\s.subramanian2\\anaconda3\\envs\\work1\\lib\\site-packages (from jupyterlab-server~=2.10->jupyterlab~=3.0->mitosheet) (2.10.1)\n",
      "Requirement already satisfied: zipp>=0.5 in c:\\users\\s.subramanian2\\anaconda3\\envs\\work1\\lib\\site-packages (from importlib-metadata>=3.6->jupyterlab-server~=2.10->jupyterlab~=3.0->mitosheet) (3.6.0)\n",
      "Requirement already satisfied: pyrsistent>=0.14.0 in c:\\users\\s.subramanian2\\anaconda3\\envs\\work1\\lib\\site-packages (from jsonschema>=3.0.1->jupyterlab-server~=2.10->jupyterlab~=3.0->mitosheet) (0.18.0)\n",
      "Requirement already satisfied: six>=1.11.0 in c:\\users\\s.subramanian2\\anaconda3\\envs\\work1\\lib\\site-packages (from jsonschema>=3.0.1->jupyterlab-server~=2.10->jupyterlab~=3.0->mitosheet) (1.16.0)\n",
      "Requirement already satisfied: attrs>=17.4.0 in c:\\users\\s.subramanian2\\anaconda3\\envs\\work1\\lib\\site-packages (from jsonschema>=3.0.1->jupyterlab-server~=2.10->jupyterlab~=3.0->mitosheet) (21.2.0)\n",
      "Requirement already satisfied: notebook<7 in c:\\users\\s.subramanian2\\anaconda3\\envs\\work1\\lib\\site-packages (from nbclassic~=0.2->jupyterlab~=3.0->mitosheet) (6.4.5)\n",
      "Requirement already satisfied: notebook-shim>=0.1.0 in c:\\users\\s.subramanian2\\anaconda3\\envs\\work1\\lib\\site-packages (from nbclassic~=0.2->jupyterlab~=3.0->mitosheet) (0.1.0)\n",
      "Requirement already satisfied: tinycss2 in c:\\users\\s.subramanian2\\anaconda3\\envs\\work1\\lib\\site-packages (from nbconvert>=6.4.4->jupyter-server~=1.16->jupyterlab~=3.0->mitosheet) (1.1.1)\n",
      "Requirement already satisfied: pandocfilters>=1.4.1 in c:\\users\\s.subramanian2\\anaconda3\\envs\\work1\\lib\\site-packages (from nbconvert>=6.4.4->jupyter-server~=1.16->jupyterlab~=3.0->mitosheet) (1.4.3)\n",
      "Requirement already satisfied: defusedxml in c:\\users\\s.subramanian2\\anaconda3\\envs\\work1\\lib\\site-packages (from nbconvert>=6.4.4->jupyter-server~=1.16->jupyterlab~=3.0->mitosheet) (0.7.1)\n",
      "Requirement already satisfied: jupyterlab-pygments in c:\\users\\s.subramanian2\\anaconda3\\envs\\work1\\lib\\site-packages (from nbconvert>=6.4.4->jupyter-server~=1.16->jupyterlab~=3.0->mitosheet) (0.1.2)\n",
      "Requirement already satisfied: nbclient>=0.5.0 in c:\\users\\s.subramanian2\\anaconda3\\envs\\work1\\lib\\site-packages (from nbconvert>=6.4.4->jupyter-server~=1.16->jupyterlab~=3.0->mitosheet) (0.5.3)\n",
      "Requirement already satisfied: mistune<2,>=0.8.1 in c:\\users\\s.subramanian2\\anaconda3\\envs\\work1\\lib\\site-packages (from nbconvert>=6.4.4->jupyter-server~=1.16->jupyterlab~=3.0->mitosheet) (0.8.4)\n",
      "Requirement already satisfied: bleach in c:\\users\\s.subramanian2\\anaconda3\\envs\\work1\\lib\\site-packages (from nbconvert>=6.4.4->jupyter-server~=1.16->jupyterlab~=3.0->mitosheet) (4.0.0)\n",
      "Requirement already satisfied: beautifulsoup4 in c:\\users\\s.subramanian2\\anaconda3\\envs\\work1\\lib\\site-packages (from nbconvert>=6.4.4->jupyter-server~=1.16->jupyterlab~=3.0->mitosheet) (4.11.1)\n",
      "Requirement already satisfied: async-generator in c:\\users\\s.subramanian2\\anaconda3\\envs\\work1\\lib\\site-packages (from nbclient>=0.5.0->nbconvert>=6.4.4->jupyter-server~=1.16->jupyterlab~=3.0->mitosheet) (1.10)\n",
      "Requirement already satisfied: fastjsonschema in c:\\users\\s.subramanian2\\anaconda3\\envs\\work1\\lib\\site-packages (from nbformat>=4.2.0->ipywidgets>=7.0.0->mitosheet) (2.15.3)\n",
      "Requirement already satisfied: pytz>=2017.3 in c:\\users\\s.subramanian2\\anaconda3\\envs\\work1\\lib\\site-packages (from pandas>=0.24.2->mitosheet) (2021.3)\n",
      "Requirement already satisfied: numpy>=1.17.3 in c:\\users\\s.subramanian2\\anaconda3\\envs\\work1\\lib\\site-packages (from pandas>=0.24.2->mitosheet) (1.21.2)\n",
      "Requirement already satisfied: tenacity>=6.2.0 in c:\\users\\s.subramanian2\\anaconda3\\envs\\work1\\lib\\site-packages (from plotly>=4.14.3->mitosheet) (8.0.1)\n",
      "Requirement already satisfied: wcwidth in c:\\users\\s.subramanian2\\anaconda3\\envs\\work1\\lib\\site-packages (from prompt-toolkit!=3.0.0,!=3.0.1,<3.1.0,>=2.0.0->ipython>=4.0.0->ipywidgets>=7.0.0->mitosheet) (0.2.5)\n",
      "Requirement already satisfied: backoff==1.10.0 in c:\\users\\s.subramanian2\\anaconda3\\envs\\work1\\lib\\site-packages (from analytics-python->mitosheet) (1.10.0)\n",
      "Requirement already satisfied: monotonic>=1.5 in c:\\users\\s.subramanian2\\anaconda3\\envs\\work1\\lib\\site-packages (from analytics-python->mitosheet) (1.6)\n",
      "Requirement already satisfied: certifi>=2017.4.17 in c:\\users\\s.subramanian2\\anaconda3\\envs\\work1\\lib\\site-packages (from requests->jupyterlab-server~=2.10->jupyterlab~=3.0->mitosheet) (2021.10.8)\n",
      "Requirement already satisfied: urllib3<1.27,>=1.21.1 in c:\\users\\s.subramanian2\\anaconda3\\envs\\work1\\lib\\site-packages (from requests->jupyterlab-server~=2.10->jupyterlab~=3.0->mitosheet) (1.26.7)\n",
      "Requirement already satisfied: charset-normalizer~=2.0.0 in c:\\users\\s.subramanian2\\anaconda3\\envs\\work1\\lib\\site-packages (from requests->jupyterlab-server~=2.10->jupyterlab~=3.0->mitosheet) (2.0.7)\n",
      "Requirement already satisfied: cffi>=1.0.0 in c:\\users\\s.subramanian2\\anaconda3\\envs\\work1\\lib\\site-packages (from argon2-cffi->jupyter-server~=1.16->jupyterlab~=3.0->mitosheet) (1.14.6)\n",
      "Requirement already satisfied: pycparser in c:\\users\\s.subramanian2\\anaconda3\\envs\\work1\\lib\\site-packages (from cffi>=1.0.0->argon2-cffi->jupyter-server~=1.16->jupyterlab~=3.0->mitosheet) (2.20)\n",
      "Requirement already satisfied: soupsieve>1.2 in c:\\users\\s.subramanian2\\anaconda3\\envs\\work1\\lib\\site-packages (from beautifulsoup4->nbconvert>=6.4.4->jupyter-server~=1.16->jupyterlab~=3.0->mitosheet) (2.3.2.post1)\n",
      "Requirement already satisfied: webencodings in c:\\users\\s.subramanian2\\anaconda3\\envs\\work1\\lib\\site-packages (from bleach->nbconvert>=6.4.4->jupyter-server~=1.16->jupyterlab~=3.0->mitosheet) (0.5.1)\n",
      "Requirement already satisfied: et-xmlfile in c:\\users\\s.subramanian2\\anaconda3\\envs\\work1\\lib\\site-packages (from openpyxl->mitosheet) (1.1.0)\n",
      "Requirement already satisfied: pyparsing>=2.0.2 in c:\\users\\s.subramanian2\\anaconda3\\envs\\work1\\lib\\site-packages (from packaging->jupyterlab~=3.0->mitosheet) (3.0.4)\n",
      "Note: you may need to restart the kernel to use updated packages.\n"
     ]
    }
   ],
   "source": [
    "pip install mitosheet"
   ]
  },
  {
   "cell_type": "code",
   "execution_count": 2,
   "id": "7d21edd1",
   "metadata": {},
   "outputs": [],
   "source": [
    "import mitosheet"
   ]
  },
  {
   "cell_type": "code",
   "execution_count": 3,
   "id": "37f699e7",
   "metadata": {},
   "outputs": [
    {
     "data": {
      "application/vnd.jupyter.widget-view+json": {
       "model_id": "c13023298681471f9bdec268ae285fd6",
       "version_major": 2,
       "version_minor": 0
      },
      "text/plain": [
       "MitoWidget(analysis_data_json='{\"analysisName\": \"id-ljqoaqjixb\", \"analysisToReplay\": {\"analysisName\": \"id-lect…"
      ]
     },
     "metadata": {},
     "output_type": "display_data"
    },
    {
     "name": "stderr",
     "output_type": "stream",
     "text": [
      "C:\\Users\\S.Subramanian2\\Anaconda3\\envs\\work1\\lib\\site-packages\\mitosheet\\step_performers\\import_steps\\simple_import.py:63: DtypeWarning: Columns (11,13,14,25,28,30,37,42,61,62,63,64,70,109) have mixed types.Specify dtype option on import or set low_memory=False.\n",
      "  df, delimeter, encoding = read_csv_get_delimeter_and_encoding(file_name)\n",
      "C:\\Users\\S.Subramanian2\\Anaconda3\\envs\\work1\\lib\\site-packages\\mitosheet\\step_performers\\import_steps\\simple_import.py:63: DtypeWarning:\n",
      "\n",
      "Columns (11,13,14,25,28,30,37,42,61,62,63,64,70,109) have mixed types.Specify dtype option on import or set low_memory=False.\n",
      "\n"
     ]
    }
   ],
   "source": [
    "mitosheet.sheet(analysis_to_replay=\"id-lectqtruri\")"
   ]
  },
  {
   "cell_type": "code",
   "execution_count": null,
   "id": "0cce25c6",
   "metadata": {},
   "outputs": [],
   "source": [
    "from mitosheet import *; register_analysis(\"id-lectqtruri\");\n",
    "    \n",
    "# Imported cust0602.csv\n",
    "import pandas as pd\n",
    "cust0602 = pd.read_csv(r'cust0602.csv')\n"
   ]
  },
  {
   "cell_type": "code",
   "execution_count": null,
   "id": "27b3c838",
   "metadata": {},
   "outputs": [],
   "source": []
  }
 ],
 "metadata": {
  "kernelspec": {
   "display_name": "Python 3 (ipykernel)",
   "language": "python",
   "name": "python3"
  },
  "language_info": {
   "codemirror_mode": {
    "name": "ipython",
    "version": 3
   },
   "file_extension": ".py",
   "mimetype": "text/x-python",
   "name": "python",
   "nbconvert_exporter": "python",
   "pygments_lexer": "ipython3",
   "version": "3.8.12"
  }
 },
 "nbformat": 4,
 "nbformat_minor": 5
}
