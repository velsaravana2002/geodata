{
 "cells": [
  {
   "cell_type": "code",
   "execution_count": 7,
   "id": "e8c84931",
   "metadata": {},
   "outputs": [],
   "source": [
    "import os\n",
    "\n",
    "\n",
    "def sample_classify_document_multi_categories():\n",
    "    from azure.core.credentials import AzureKeyCredential\n",
    "    from azure.ai.textanalytics import (\n",
    "        TextAnalyticsClient,\n",
    "        MultiCategoryClassifyAction\n",
    "    )"
   ]
  },
  {
   "cell_type": "code",
   "execution_count": 8,
   "id": "930e3682",
   "metadata": {},
   "outputs": [
    {
     "ename": "IndentationError",
     "evalue": "unexpected indent (Temp/ipykernel_8360/1475953625.py, line 2)",
     "output_type": "error",
     "traceback": [
      "\u001b[1;36m  File \u001b[1;32m\"C:\\Users\\S8782~1.SUB\\AppData\\Local\\Temp/ipykernel_8360/1475953625.py\"\u001b[1;36m, line \u001b[1;32m2\u001b[0m\n\u001b[1;33m    key = os.environ[\"d51e433d98774fae82317ae435f102ad\"]\u001b[0m\n\u001b[1;37m    ^\u001b[0m\n\u001b[1;31mIndentationError\u001b[0m\u001b[1;31m:\u001b[0m unexpected indent\n"
     ]
    }
   ],
   "source": [
    "endpoint = os.environ[\"https://eastus2.api.cognitive.microsoft.com/\"]\n",
    "    key = os.environ[\"d51e433d98774fae82317ae435f102ad\"]\n",
    "    project_name = os.environ[\"MULTI_CATEGORY_CLASSIFY_PROJECT_NAME\"]\n",
    "    deployment_name = os.environ[\"MULTI_CATEGORY_CLASSIFY_DEPLOYMENT_NAME\"]\n",
    "    path_to_sample_document = os.path.abspath(\n",
    "        os.path.join(\n",
    "            os.path.abspath(__file__),\n",
    "            \"..\",\n",
    "            \"./text_samples/custom_classify_sample.txt\",\n",
    "        )\n",
    "    )\n",
    "\n",
    "    text_analytics_client = TextAnalyticsClient(\n",
    "        endpoint=endpoint,\n",
    "        credential=AzureKeyCredential(key),\n",
    "    )\n",
    "\n",
    "    with open(path_to_sample_document) as fd:\n",
    "        document = [fd.read()]\n",
    "\n",
    "    poller = text_analytics_client.begin_analyze_actions(\n",
    "        document,\n",
    "        actions=[\n",
    "            MultiCategoryClassifyAction(\n",
    "                project_name=project_name,\n",
    "                deployment_name=deployment_name\n",
    "            ),\n",
    "        ],\n",
    "    )\n",
    "\n",
    "    document_results = poller.result()\n",
    "    for doc, classification_results in zip(document, document_results):\n",
    "        for classification_result in classification_results:\n",
    "            if not classification_result.is_error:\n",
    "                classifications = classification_result.classifications\n",
    "                print(f\"\\nThe movie plot '{doc}' was classified as the following genres:\\n\")\n",
    "                for classification in classifications:\n",
    "                    print(\"'{}' with confidence score {}.\".format(\n",
    "                        classification.category, classification.confidence_score\n",
    "                    ))\n",
    "            else:\n",
    "                print(\"Movie plot '{}' has an error with code '{}' and message '{}'\".format(\n",
    "                    doc, classification_result.code, classification_result.message\n",
    "                ))\n",
    "\n",
    "\n",
    "if __name__ == \"__main__\":\n",
    "    sample_classify_document_multi_categories()"
   ]
  }
 ],
 "metadata": {
  "kernelspec": {
   "display_name": "Python 3.8.12 ('work1')",
   "language": "python",
   "name": "python3"
  },
  "language_info": {
   "codemirror_mode": {
    "name": "ipython",
    "version": 3
   },
   "file_extension": ".py",
   "mimetype": "text/x-python",
   "name": "python",
   "nbconvert_exporter": "python",
   "pygments_lexer": "ipython3",
   "version": "3.8.12"
  },
  "vscode": {
   "interpreter": {
    "hash": "a772d6747e7b0a853677c045c718d96805722a1c0a953f769eeb8867ba6c0f40"
   }
  }
 },
 "nbformat": 4,
 "nbformat_minor": 5
}
