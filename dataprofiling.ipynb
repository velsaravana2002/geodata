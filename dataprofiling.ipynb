{
 "cells": [
  {
   "cell_type": "code",
   "execution_count": 6,
   "metadata": {},
   "outputs": [],
   "source": [
    "import numpy as np\n",
    "import pandas as pd\n",
    "from pandas_profiling import ProfileReport"
   ]
  },
  {
   "cell_type": "code",
   "execution_count": 7,
   "metadata": {},
   "outputs": [],
   "source": [
    "import pandas as pd"
   ]
  },
  {
   "cell_type": "code",
   "execution_count": 8,
   "metadata": {},
   "outputs": [
    {
     "name": "stderr",
     "output_type": "stream",
     "text": [
      "c:\\Users\\S.Subramanian2\\Anaconda3\\envs\\work1\\lib\\site-packages\\IPython\\core\\interactiveshell.py:3444: DtypeWarning: Columns (29,40) have mixed types.Specify dtype option on import or set low_memory=False.\n",
      "  exec(code_obj, self.user_global_ns, self.user_ns)\n"
     ]
    }
   ],
   "source": [
    "df = pd.read_csv(\"datadpt.csv\")"
   ]
  },
  {
   "cell_type": "code",
   "execution_count": 9,
   "metadata": {},
   "outputs": [
    {
     "data": {
      "text/html": [
       "<div>\n",
       "<style scoped>\n",
       "    .dataframe tbody tr th:only-of-type {\n",
       "        vertical-align: middle;\n",
       "    }\n",
       "\n",
       "    .dataframe tbody tr th {\n",
       "        vertical-align: top;\n",
       "    }\n",
       "\n",
       "    .dataframe thead th {\n",
       "        text-align: right;\n",
       "    }\n",
       "</style>\n",
       "<table border=\"1\" class=\"dataframe\">\n",
       "  <thead>\n",
       "    <tr style=\"text-align: right;\">\n",
       "      <th></th>\n",
       "      <th>Company Code</th>\n",
       "      <th>Document Number</th>\n",
       "      <th>Fiscal Year</th>\n",
       "      <th>Document Type</th>\n",
       "      <th>Document Date</th>\n",
       "      <th>Invoice_Date</th>\n",
       "      <th>Posting_Date</th>\n",
       "      <th>Entry_Date</th>\n",
       "      <th>Clearing_Date</th>\n",
       "      <th>Line item</th>\n",
       "      <th>...</th>\n",
       "      <th>Document Header Text</th>\n",
       "      <th>Reference</th>\n",
       "      <th>Payment Method</th>\n",
       "      <th>Client</th>\n",
       "      <th>Partner Bank Type</th>\n",
       "      <th>Parked_Doc_Cash_discount_days</th>\n",
       "      <th>Due_Date_Parked_Cash-discount-days</th>\n",
       "      <th>status_Parked_Cash-discount-days</th>\n",
       "      <th>Baseline + Cash Discount</th>\n",
       "      <th>Unnamed: 43</th>\n",
       "    </tr>\n",
       "  </thead>\n",
       "  <tbody>\n",
       "    <tr>\n",
       "      <th>0</th>\n",
       "      <td>DE01</td>\n",
       "      <td>1500261835</td>\n",
       "      <td>2022</td>\n",
       "      <td>KE</td>\n",
       "      <td>Apr 1 2022 12:00 AM</td>\n",
       "      <td>Apr 1 2022 12:00 AM</td>\n",
       "      <td>Apr 1 2022 12:00 AM</td>\n",
       "      <td>Apr 1 2022 12:00 AM</td>\n",
       "      <td>NaN</td>\n",
       "      <td>2</td>\n",
       "      <td>...</td>\n",
       "      <td>PGSI614-SUG-JV-5040463</td>\n",
       "      <td>JV-5040463</td>\n",
       "      <td>E</td>\n",
       "      <td>110</td>\n",
       "      <td>EUR0</td>\n",
       "      <td>NaN</td>\n",
       "      <td>NaN</td>\n",
       "      <td>-</td>\n",
       "      <td>Jun 24 2022 12:00 AM</td>\n",
       "      <td>True</td>\n",
       "    </tr>\n",
       "    <tr>\n",
       "      <th>1</th>\n",
       "      <td>DE01</td>\n",
       "      <td>1500262678</td>\n",
       "      <td>2022</td>\n",
       "      <td>KN</td>\n",
       "      <td>Apr 5 2022 12:00 AM</td>\n",
       "      <td>Apr 5 2022 12:00 AM</td>\n",
       "      <td>Apr 26 2022 12:00 AM</td>\n",
       "      <td>Apr 27 2022 12:00 AM</td>\n",
       "      <td>NaN</td>\n",
       "      <td>1</td>\n",
       "      <td>...</td>\n",
       "      <td>CENTRAL//</td>\n",
       "      <td>ATC4000004804202</td>\n",
       "      <td>K</td>\n",
       "      <td>110</td>\n",
       "      <td>NaN</td>\n",
       "      <td>NaN</td>\n",
       "      <td>NaN</td>\n",
       "      <td>-</td>\n",
       "      <td>May 25 2022 12:00 AM</td>\n",
       "      <td>True</td>\n",
       "    </tr>\n",
       "    <tr>\n",
       "      <th>2</th>\n",
       "      <td>DE01</td>\n",
       "      <td>1500262678</td>\n",
       "      <td>2022</td>\n",
       "      <td>KN</td>\n",
       "      <td>Apr 5 2022 12:00 AM</td>\n",
       "      <td>Apr 5 2022 12:00 AM</td>\n",
       "      <td>Apr 26 2022 12:00 AM</td>\n",
       "      <td>Apr 27 2022 12:00 AM</td>\n",
       "      <td>NaN</td>\n",
       "      <td>1</td>\n",
       "      <td>...</td>\n",
       "      <td>CENTRAL//</td>\n",
       "      <td>ATC4000004804202</td>\n",
       "      <td>K</td>\n",
       "      <td>110</td>\n",
       "      <td>NaN</td>\n",
       "      <td>NaN</td>\n",
       "      <td>NaN</td>\n",
       "      <td>-</td>\n",
       "      <td>May 25 2022 12:00 AM</td>\n",
       "      <td>True</td>\n",
       "    </tr>\n",
       "    <tr>\n",
       "      <th>3</th>\n",
       "      <td>DE01</td>\n",
       "      <td>1500262678</td>\n",
       "      <td>2022</td>\n",
       "      <td>KN</td>\n",
       "      <td>Apr 5 2022 12:00 AM</td>\n",
       "      <td>Apr 5 2022 12:00 AM</td>\n",
       "      <td>Apr 26 2022 12:00 AM</td>\n",
       "      <td>Apr 27 2022 12:00 AM</td>\n",
       "      <td>NaN</td>\n",
       "      <td>1</td>\n",
       "      <td>...</td>\n",
       "      <td>CENTRAL//</td>\n",
       "      <td>ATC4000004804202</td>\n",
       "      <td>K</td>\n",
       "      <td>110</td>\n",
       "      <td>NaN</td>\n",
       "      <td>NaN</td>\n",
       "      <td>NaN</td>\n",
       "      <td>-</td>\n",
       "      <td>May 25 2022 12:00 AM</td>\n",
       "      <td>True</td>\n",
       "    </tr>\n",
       "    <tr>\n",
       "      <th>4</th>\n",
       "      <td>DE01</td>\n",
       "      <td>1500262678</td>\n",
       "      <td>2022</td>\n",
       "      <td>KN</td>\n",
       "      <td>Apr 5 2022 12:00 AM</td>\n",
       "      <td>Apr 5 2022 12:00 AM</td>\n",
       "      <td>Apr 26 2022 12:00 AM</td>\n",
       "      <td>Apr 27 2022 12:00 AM</td>\n",
       "      <td>NaN</td>\n",
       "      <td>1</td>\n",
       "      <td>...</td>\n",
       "      <td>CENTRAL//</td>\n",
       "      <td>ATC4000004804202</td>\n",
       "      <td>K</td>\n",
       "      <td>110</td>\n",
       "      <td>NaN</td>\n",
       "      <td>NaN</td>\n",
       "      <td>NaN</td>\n",
       "      <td>-</td>\n",
       "      <td>May 25 2022 12:00 AM</td>\n",
       "      <td>True</td>\n",
       "    </tr>\n",
       "  </tbody>\n",
       "</table>\n",
       "<p>5 rows × 44 columns</p>\n",
       "</div>"
      ],
      "text/plain": [
       "  Company Code  Document Number  Fiscal Year Document Type  \\\n",
       "0         DE01       1500261835         2022            KE   \n",
       "1         DE01       1500262678         2022            KN   \n",
       "2         DE01       1500262678         2022            KN   \n",
       "3         DE01       1500262678         2022            KN   \n",
       "4         DE01       1500262678         2022            KN   \n",
       "\n",
       "         Document Date         Invoice_Date          Posting_Date  \\\n",
       "0  Apr 1 2022 12:00 AM  Apr 1 2022 12:00 AM   Apr 1 2022 12:00 AM   \n",
       "1  Apr 5 2022 12:00 AM  Apr 5 2022 12:00 AM  Apr 26 2022 12:00 AM   \n",
       "2  Apr 5 2022 12:00 AM  Apr 5 2022 12:00 AM  Apr 26 2022 12:00 AM   \n",
       "3  Apr 5 2022 12:00 AM  Apr 5 2022 12:00 AM  Apr 26 2022 12:00 AM   \n",
       "4  Apr 5 2022 12:00 AM  Apr 5 2022 12:00 AM  Apr 26 2022 12:00 AM   \n",
       "\n",
       "             Entry_Date Clearing_Date  Line item  ...    Document Header Text  \\\n",
       "0   Apr 1 2022 12:00 AM           NaN          2  ...  PGSI614-SUG-JV-5040463   \n",
       "1  Apr 27 2022 12:00 AM           NaN          1  ...               CENTRAL//   \n",
       "2  Apr 27 2022 12:00 AM           NaN          1  ...               CENTRAL//   \n",
       "3  Apr 27 2022 12:00 AM           NaN          1  ...               CENTRAL//   \n",
       "4  Apr 27 2022 12:00 AM           NaN          1  ...               CENTRAL//   \n",
       "\n",
       "          Reference  Payment Method  Client Partner Bank Type  \\\n",
       "0        JV-5040463               E     110              EUR0   \n",
       "1  ATC4000004804202               K     110               NaN   \n",
       "2  ATC4000004804202               K     110               NaN   \n",
       "3  ATC4000004804202               K     110               NaN   \n",
       "4  ATC4000004804202               K     110               NaN   \n",
       "\n",
       "   Parked_Doc_Cash_discount_days Due_Date_Parked_Cash-discount-days  \\\n",
       "0                            NaN                                NaN   \n",
       "1                            NaN                                NaN   \n",
       "2                            NaN                                NaN   \n",
       "3                            NaN                                NaN   \n",
       "4                            NaN                                NaN   \n",
       "\n",
       "  status_Parked_Cash-discount-days Baseline + Cash Discount  Unnamed: 43  \n",
       "0                                -     Jun 24 2022 12:00 AM         True  \n",
       "1                                -     May 25 2022 12:00 AM         True  \n",
       "2                                -     May 25 2022 12:00 AM         True  \n",
       "3                                -     May 25 2022 12:00 AM         True  \n",
       "4                                -     May 25 2022 12:00 AM         True  \n",
       "\n",
       "[5 rows x 44 columns]"
      ]
     },
     "execution_count": 9,
     "metadata": {},
     "output_type": "execute_result"
    }
   ],
   "source": [
    "df.head()"
   ]
  },
  {
   "cell_type": "code",
   "execution_count": 15,
   "metadata": {},
   "outputs": [],
   "source": [
    "profile1 = ProfileReport(df)"
   ]
  },
  {
   "cell_type": "code",
   "execution_count": 16,
   "metadata": {},
   "outputs": [
    {
     "data": {
      "application/vnd.jupyter.widget-view+json": {
       "model_id": "1a5b5b7c85d04306b9872a626c66a821",
       "version_major": 2,
       "version_minor": 0
      },
      "text/plain": [
       "Summarize dataset:   0%|          | 0/5 [00:00<?, ?it/s]"
      ]
     },
     "metadata": {},
     "output_type": "display_data"
    },
    {
     "name": "stderr",
     "output_type": "stream",
     "text": [
      "c:\\Users\\S.Subramanian2\\Anaconda3\\envs\\work1\\lib\\site-packages\\pandas_profiling\\model\\correlations.py:55: UserWarning: There was an attempt to calculate the cramers correlation, but this failed.\n",
      "To hide this warning, disable the calculation\n",
      "(using `df.profile_report(correlations={\"cramers\": {\"calculate\": False}})`\n",
      "If this is problematic for your use case, please report this as an issue:\n",
      "https://github.com/pandas-profiling/pandas-profiling/issues\n",
      "(include the error message: 'No data; `observed` has size 0.')\n",
      "  warnings.warn(\n"
     ]
    },
    {
     "data": {
      "application/vnd.jupyter.widget-view+json": {
       "model_id": "86636e3ab19c4bb481f07129bebd890b",
       "version_major": 2,
       "version_minor": 0
      },
      "text/plain": [
       "Generate report structure:   0%|          | 0/1 [00:00<?, ?it/s]"
      ]
     },
     "metadata": {},
     "output_type": "display_data"
    },
    {
     "data": {
      "application/vnd.jupyter.widget-view+json": {
       "model_id": "681a0137f6364036a46c0ea4459bc24a",
       "version_major": 2,
       "version_minor": 0
      },
      "text/plain": [
       "Render HTML:   0%|          | 0/1 [00:00<?, ?it/s]"
      ]
     },
     "metadata": {},
     "output_type": "display_data"
    },
    {
     "data": {
      "application/vnd.jupyter.widget-view+json": {
       "model_id": "0993a53fecf549c9b330dff90e3c8c77",
       "version_major": 2,
       "version_minor": 0
      },
      "text/plain": [
       "Export report to file:   0%|          | 0/1 [00:00<?, ?it/s]"
      ]
     },
     "metadata": {},
     "output_type": "display_data"
    }
   ],
   "source": [
    "profile.to_file(\"profile1.html\")"
   ]
  }
 ],
 "metadata": {
  "interpreter": {
   "hash": "a772d6747e7b0a853677c045c718d96805722a1c0a953f769eeb8867ba6c0f40"
  },
  "kernelspec": {
   "display_name": "Python 3.8.12 ('work1')",
   "language": "python",
   "name": "python3"
  },
  "language_info": {
   "codemirror_mode": {
    "name": "ipython",
    "version": 3
   },
   "file_extension": ".py",
   "mimetype": "text/x-python",
   "name": "python",
   "nbconvert_exporter": "python",
   "pygments_lexer": "ipython3",
   "version": "3.8.12"
  },
  "orig_nbformat": 4
 },
 "nbformat": 4,
 "nbformat_minor": 2
}
