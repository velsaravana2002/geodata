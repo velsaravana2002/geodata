{
 "cells": [
  {
   "cell_type": "code",
   "execution_count": 5,
   "id": "38d56806",
   "metadata": {},
   "outputs": [
    {
     "name": "stdout",
     "output_type": "stream",
     "text": [
      "Requirement already satisfied: azure-ai-textanalytics==5.1.0 in c:\\users\\s.subramanian2\\anaconda3\\envs\\work1\\lib\\site-packages (5.1.0)\n",
      "Requirement already satisfied: six>=1.11.0 in c:\\users\\s.subramanian2\\anaconda3\\envs\\work1\\lib\\site-packages (from azure-ai-textanalytics==5.1.0) (1.16.0)\n",
      "Requirement already satisfied: msrest>=0.6.21 in c:\\users\\s.subramanian2\\anaconda3\\envs\\work1\\lib\\site-packages (from azure-ai-textanalytics==5.1.0) (0.7.1)\n",
      "Requirement already satisfied: azure-common~=1.1 in c:\\users\\s.subramanian2\\anaconda3\\envs\\work1\\lib\\site-packages (from azure-ai-textanalytics==5.1.0) (1.1.28)\n",
      "Requirement already satisfied: azure-core<2.0.0,>=1.14.0 in c:\\users\\s.subramanian2\\anaconda3\\envs\\work1\\lib\\site-packages (from azure-ai-textanalytics==5.1.0) (1.24.2)\n",
      "Requirement already satisfied: requests>=2.18.4 in c:\\users\\s.subramanian2\\anaconda3\\envs\\work1\\lib\\site-packages (from azure-core<2.0.0,>=1.14.0->azure-ai-textanalytics==5.1.0) (2.27.1)\n",
      "Requirement already satisfied: typing-extensions>=4.0.1 in c:\\users\\s.subramanian2\\anaconda3\\envs\\work1\\lib\\site-packages (from azure-core<2.0.0,>=1.14.0->azure-ai-textanalytics==5.1.0) (4.2.0)\n",
      "Requirement already satisfied: certifi>=2017.4.17 in c:\\users\\s.subramanian2\\anaconda3\\envs\\work1\\lib\\site-packages (from msrest>=0.6.21->azure-ai-textanalytics==5.1.0) (2021.10.8)\n",
      "Requirement already satisfied: requests-oauthlib>=0.5.0 in c:\\users\\s.subramanian2\\anaconda3\\envs\\work1\\lib\\site-packages (from msrest>=0.6.21->azure-ai-textanalytics==5.1.0) (1.3.1)\n",
      "Requirement already satisfied: isodate>=0.6.0 in c:\\users\\s.subramanian2\\anaconda3\\envs\\work1\\lib\\site-packages (from msrest>=0.6.21->azure-ai-textanalytics==5.1.0) (0.6.1)\n",
      "Requirement already satisfied: urllib3<1.27,>=1.21.1 in c:\\users\\s.subramanian2\\anaconda3\\envs\\work1\\lib\\site-packages (from requests>=2.18.4->azure-core<2.0.0,>=1.14.0->azure-ai-textanalytics==5.1.0) (1.26.7)\n",
      "Requirement already satisfied: charset-normalizer~=2.0.0 in c:\\users\\s.subramanian2\\anaconda3\\envs\\work1\\lib\\site-packages (from requests>=2.18.4->azure-core<2.0.0,>=1.14.0->azure-ai-textanalytics==5.1.0) (2.0.7)\n",
      "Requirement already satisfied: idna<4,>=2.5 in c:\\users\\s.subramanian2\\anaconda3\\envs\\work1\\lib\\site-packages (from requests>=2.18.4->azure-core<2.0.0,>=1.14.0->azure-ai-textanalytics==5.1.0) (2.10)\n",
      "Requirement already satisfied: oauthlib>=3.0.0 in c:\\users\\s.subramanian2\\anaconda3\\envs\\work1\\lib\\site-packages (from requests-oauthlib>=0.5.0->msrest>=0.6.21->azure-ai-textanalytics==5.1.0) (3.2.0)\n",
      "Note: you may need to restart the kernel to use updated packages.\n"
     ]
    }
   ],
   "source": [
    "pip install azure-ai-textanalytics==5.1.0"
   ]
  },
  {
   "cell_type": "code",
   "execution_count": 6,
   "id": "9a0ef9b8",
   "metadata": {},
   "outputs": [
    {
     "name": "stdout",
     "output_type": "stream",
     "text": [
      "Named Entities:\n",
      "\n",
      "\tText: \t bag \tCategory: \t Product \tSubCategory: \t None \n",
      "\tConfidence Score: \t 0.88 \tLength: \t 3 \tOffset: \t 7 \n",
      "\n",
      "\tText: \t food \tCategory: \t Product \tSubCategory: \t None \n",
      "\tConfidence Score: \t 0.6 \tLength: \t 4 \tOffset: \t 15 \n",
      "\n"
     ]
    }
   ],
   "source": [
    "key = \"d51e433d98774fae82317ae435f102ad\"\n",
    "endpoint = \"https://eastus2.api.cognitive.microsoft.com/\"\n",
    "\n",
    "from azure.ai.textanalytics import TextAnalyticsClient\n",
    "from azure.core.credentials import AzureKeyCredential\n",
    "\n",
    "# Authenticate the client using your key and endpoint \n",
    "def authenticate_client():\n",
    "    ta_credential = AzureKeyCredential(key)\n",
    "    text_analytics_client = TextAnalyticsClient(\n",
    "            endpoint=endpoint, \n",
    "            credential=ta_credential)\n",
    "    return text_analytics_client\n",
    "\n",
    "client = authenticate_client()\n",
    "\n",
    "# Example function for recognizing entities from text\n",
    "def entity_recognition_example(client):\n",
    "\n",
    "    try:\n",
    "        documents = [\"Cooler bag for food\"]\n",
    "        result = client.recognize_entities(documents = documents)[0]\n",
    "\n",
    "        print(\"Named Entities:\\n\")\n",
    "        for entity in result.entities:\n",
    "            print(\"\\tText: \\t\", entity.text, \"\\tCategory: \\t\", entity.category, \"\\tSubCategory: \\t\", entity.subcategory,\n",
    "                    \"\\n\\tConfidence Score: \\t\", round(entity.confidence_score, 2), \"\\tLength: \\t\", entity.length, \"\\tOffset: \\t\", entity.offset, \"\\n\")\n",
    "\n",
    "    except Exception as err:\n",
    "        print(\"Encountered exception. {}\".format(err))\n",
    "entity_recognition_example(client)"
   ]
  }
 ],
 "metadata": {
  "kernelspec": {
   "display_name": "Python 3.8.12 ('work1')",
   "language": "python",
   "name": "python3"
  },
  "language_info": {
   "codemirror_mode": {
    "name": "ipython",
    "version": 3
   },
   "file_extension": ".py",
   "mimetype": "text/x-python",
   "name": "python",
   "nbconvert_exporter": "python",
   "pygments_lexer": "ipython3",
   "version": "3.8.12"
  },
  "vscode": {
   "interpreter": {
    "hash": "a772d6747e7b0a853677c045c718d96805722a1c0a953f769eeb8867ba6c0f40"
   }
  }
 },
 "nbformat": 4,
 "nbformat_minor": 5
}
