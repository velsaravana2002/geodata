{
 "cells": [
  {
   "cell_type": "code",
   "execution_count": 72,
   "metadata": {},
   "outputs": [
    {
     "name": "stdout",
     "output_type": "stream",
     "text": [
      "Requirement already satisfied: plotly_express in c:\\users\\s.subramanian2\\anaconda3\\envs\\work1\\lib\\site-packages (0.4.1)\n",
      "Requirement already satisfied: numpy>=1.11 in c:\\users\\s.subramanian2\\anaconda3\\envs\\work1\\lib\\site-packages (from plotly_express) (1.21.2)\n",
      "Requirement already satisfied: patsy>=0.5 in c:\\users\\s.subramanian2\\anaconda3\\envs\\work1\\lib\\site-packages (from plotly_express) (0.5.2)\n",
      "Requirement already satisfied: plotly>=4.1.0 in c:\\users\\s.subramanian2\\anaconda3\\envs\\work1\\lib\\site-packages (from plotly_express) (5.3.1)\n",
      "Requirement already satisfied: statsmodels>=0.9.0 in c:\\users\\s.subramanian2\\anaconda3\\envs\\work1\\lib\\site-packages (from plotly_express) (0.13.0)\n",
      "Requirement already satisfied: scipy>=0.18 in c:\\users\\s.subramanian2\\anaconda3\\envs\\work1\\lib\\site-packages (from plotly_express) (1.7.1)\n",
      "Requirement already satisfied: pandas>=0.20.0 in c:\\users\\s.subramanian2\\anaconda3\\envs\\work1\\lib\\site-packages (from plotly_express) (1.3.4)\n",
      "Requirement already satisfied: pytz>=2017.3 in c:\\users\\s.subramanian2\\anaconda3\\envs\\work1\\lib\\site-packages (from pandas>=0.20.0->plotly_express) (2021.3)\n",
      "Requirement already satisfied: python-dateutil>=2.7.3 in c:\\users\\s.subramanian2\\anaconda3\\envs\\work1\\lib\\site-packages (from pandas>=0.20.0->plotly_express) (2.8.2)\n",
      "Requirement already satisfied: six in c:\\users\\s.subramanian2\\anaconda3\\envs\\work1\\lib\\site-packages (from patsy>=0.5->plotly_express) (1.16.0)\n",
      "Requirement already satisfied: tenacity>=6.2.0 in c:\\users\\s.subramanian2\\anaconda3\\envs\\work1\\lib\\site-packages (from plotly>=4.1.0->plotly_express) (8.0.1)\n",
      "Note: you may need to restart the kernel to use updated packages.\n",
      "time: 1.56 s (started: 2021-11-11 20:28:08 +05:30)\n"
     ]
    }
   ],
   "source": [
    "pip install plotly_express"
   ]
  },
  {
   "cell_type": "code",
   "execution_count": 73,
   "metadata": {},
   "outputs": [
    {
     "name": "stdout",
     "output_type": "stream",
     "text": [
      "Collecting package metadata (current_repodata.json): ...working... done\n",
      "Solving environment: ...working... done\n",
      "\n",
      "# All requested packages already installed.\n",
      "\n",
      "\n",
      "Note: you may need to restart the kernel to use updated packages.\n",
      "time: 9.39 s (started: 2021-11-11 20:28:10 +05:30)\n"
     ]
    }
   ],
   "source": [
    "conda install -c conda-forge tqdm"
   ]
  },
  {
   "cell_type": "code",
   "execution_count": 74,
   "metadata": {},
   "outputs": [
    {
     "name": "stdout",
     "output_type": "stream",
     "text": [
      "Requirement already satisfied: tqdm in c:\\users\\s.subramanian2\\anaconda3\\envs\\work1\\lib\\site-packages (4.62.3)\n",
      "Requirement already satisfied: colorama in c:\\users\\s.subramanian2\\anaconda3\\envs\\work1\\lib\\site-packages (from tqdm) (0.4.4)\n",
      "Note: you may need to restart the kernel to use updated packages.\n",
      "time: 1.42 s (started: 2021-11-11 20:28:19 +05:30)\n"
     ]
    }
   ],
   "source": [
    "pip install tqdm"
   ]
  },
  {
   "cell_type": "code",
   "execution_count": 75,
   "metadata": {},
   "outputs": [
    {
     "name": "stdout",
     "output_type": "stream",
     "text": [
      "Note: you may need to restart the kernel to use updated packages.\n",
      "time: 1.39 s (started: 2021-11-11 20:28:20 +05:30)\n"
     ]
    }
   ],
   "source": [
    "pip install descartes --quiet"
   ]
  },
  {
   "cell_type": "code",
   "execution_count": 76,
   "metadata": {},
   "outputs": [
    {
     "name": "stdout",
     "output_type": "stream",
     "text": [
      "Collecting tqdm==4.36.0\n",
      "  Using cached tqdm-4.36.0-py2.py3-none-any.whl (52 kB)\n",
      "Installing collected packages: tqdmNote: you may need to restart the kernel to use updated packages.\n",
      "  Attempting uninstall: tqdm\n",
      "\n",
      "    Found existing installation: tqdm 4.62.3time: 2.19 s (started: 2021-11-11 20:28:22 +05:30)\n",
      "\n",
      "    Uninstalling tqdm-4.62.3:\n",
      "      Successfully uninstalled tqdm-4.62.3\n",
      "Successfully installed tqdm-4.36.0\n"
     ]
    }
   ],
   "source": [
    "pip install tqdm==4.36.0"
   ]
  },
  {
   "cell_type": "code",
   "execution_count": 77,
   "metadata": {},
   "outputs": [
    {
     "name": "stdout",
     "output_type": "stream",
     "text": [
      "The autotime extension is already loaded. To reload it, use:\n",
      "  %reload_ext autotime\n",
      "time: 15 ms (started: 2021-11-11 20:28:24 +05:30)\n"
     ]
    }
   ],
   "source": [
    "%load_ext autotime\n",
    "import pandas as pd\n",
    "\n",
    "import geopandas as gpd\n",
    "import geopy\n",
    "from geopy.geocoders import Nominatim\n",
    "from geopy.extra.rate_limiter import RateLimiter\n",
    "\n",
    "import matplotlib.pyplot as plt\n",
    "import plotly_express as px\n",
    "import tqdm\n",
    "from tqdm import tqdm\n",
    "from tqdm._tqdm_notebook import tqdm_notebook"
   ]
  },
  {
   "cell_type": "code",
   "execution_count": 78,
   "metadata": {},
   "outputs": [
    {
     "name": "stdout",
     "output_type": "stream",
     "text": [
      "time: 1.56 s (started: 2021-11-11 20:28:24 +05:30)\n"
     ]
    }
   ],
   "source": [
    "locator = Nominatim(user_agent=\"myGeocoder\")\n",
    "coordinates = \"53.480837, -2.244914\"\n",
    "location = locator.reverse(coordinates)"
   ]
  },
  {
   "cell_type": "code",
   "execution_count": 79,
   "metadata": {},
   "outputs": [
    {
     "data": {
      "text/plain": [
       "{'place_id': 111086121,\n",
       " 'licence': 'Data © OpenStreetMap contributors, ODbL 1.0. https://osm.org/copyright',\n",
       " 'osm_type': 'way',\n",
       " 'osm_id': 37139875,\n",
       " 'lat': '53.4809597',\n",
       " 'lon': '-2.2450668274629235',\n",
       " 'display_name': 'Eagle Insurance Buildings, 68, Cross Street, Gay Village, City Centre, Manchester, Greater Manchester, North West England, England, M2 4NJ, United Kingdom',\n",
       " 'address': {'building': 'Eagle Insurance Buildings',\n",
       "  'house_number': '68',\n",
       "  'road': 'Cross Street',\n",
       "  'neighbourhood': 'Gay Village',\n",
       "  'suburb': 'City Centre',\n",
       "  'city': 'Manchester',\n",
       "  'county': 'Greater Manchester',\n",
       "  'state_district': 'North West England',\n",
       "  'state': 'England',\n",
       "  'postcode': 'M2 4NJ',\n",
       "  'country': 'United Kingdom',\n",
       "  'country_code': 'gb'},\n",
       " 'boundingbox': ['53.480856', '53.4810634', '-2.2451761', '-2.2449576']}"
      ]
     },
     "execution_count": 79,
     "metadata": {},
     "output_type": "execute_result"
    },
    {
     "name": "stdout",
     "output_type": "stream",
     "text": [
      "time: 0 ns (started: 2021-11-11 20:28:26 +05:30)\n"
     ]
    }
   ],
   "source": [
    "location.raw"
   ]
  },
  {
   "cell_type": "code",
   "execution_count": 80,
   "metadata": {},
   "outputs": [
    {
     "name": "stdout",
     "output_type": "stream",
     "text": [
      "Eagle Insurance Buildings, 68, Cross Street, Gay Village, City Centre, Manchester, Greater Manchester, North West England, England, M2 4NJ, United Kingdom\n",
      "time: 0 ns (started: 2021-11-11 20:28:26 +05:30)\n"
     ]
    }
   ],
   "source": [
    "print(location.address)"
   ]
  },
  {
   "cell_type": "code",
   "execution_count": 81,
   "metadata": {},
   "outputs": [
    {
     "data": {
      "text/plain": [
       "'Eagle Insurance Buildings, 68, Cross Street, Gay Village, City Centre, Manchester, Greater Manchester, North West England, England, M2 4NJ, United Kingdom'"
      ]
     },
     "execution_count": 81,
     "metadata": {},
     "output_type": "execute_result"
    },
    {
     "name": "stdout",
     "output_type": "stream",
     "text": [
      "time: 0 ns (started: 2021-11-11 20:28:26 +05:30)\n"
     ]
    }
   ],
   "source": [
    "location.raw[\"display_name\"]"
   ]
  },
  {
   "cell_type": "code",
   "execution_count": 82,
   "metadata": {},
   "outputs": [
    {
     "data": {
      "text/html": [
       "<div>\n",
       "<style scoped>\n",
       "    .dataframe tbody tr th:only-of-type {\n",
       "        vertical-align: middle;\n",
       "    }\n",
       "\n",
       "    .dataframe tbody tr th {\n",
       "        vertical-align: top;\n",
       "    }\n",
       "\n",
       "    .dataframe thead th {\n",
       "        text-align: right;\n",
       "    }\n",
       "</style>\n",
       "<table border=\"1\" class=\"dataframe\">\n",
       "  <thead>\n",
       "    <tr style=\"text-align: right;\">\n",
       "      <th></th>\n",
       "      <th>Unnamed: 0</th>\n",
       "      <th>STREET_ADDRESS</th>\n",
       "      <th>CITY</th>\n",
       "      <th>STATE</th>\n",
       "      <th>POSTAL_CODE</th>\n",
       "      <th>COUNTRY</th>\n",
       "      <th>location</th>\n",
       "      <th>point</th>\n",
       "      <th>latitude</th>\n",
       "      <th>longitude</th>\n",
       "      <th>altitude</th>\n",
       "    </tr>\n",
       "  </thead>\n",
       "  <tbody>\n",
       "    <tr>\n",
       "      <th>0</th>\n",
       "      <td>0</td>\n",
       "      <td>1241 BOYLSTON ST</td>\n",
       "      <td>BOSTON</td>\n",
       "      <td>Massachusetts</td>\n",
       "      <td>02215-3501</td>\n",
       "      <td>USA</td>\n",
       "      <td>1241, Boylston Street, Back Bay, Boston, Suffo...</td>\n",
       "      <td>(42.34552821297594, -71.09461423853004, 0.0)</td>\n",
       "      <td>42.345528</td>\n",
       "      <td>-71.094614</td>\n",
       "      <td>0</td>\n",
       "    </tr>\n",
       "    <tr>\n",
       "      <th>1</th>\n",
       "      <td>1</td>\n",
       "      <td>1975 MAIN ST</td>\n",
       "      <td>TEWKSBURY</td>\n",
       "      <td>Massachusetts</td>\n",
       "      <td>01876-2176</td>\n",
       "      <td>USA</td>\n",
       "      <td>Shell, 1975, Main Street, Tewksbury, Middlesex...</td>\n",
       "      <td>(42.589596799999995, -71.20324205951535, 0.0)</td>\n",
       "      <td>42.589597</td>\n",
       "      <td>-71.203242</td>\n",
       "      <td>0</td>\n",
       "    </tr>\n",
       "    <tr>\n",
       "      <th>2</th>\n",
       "      <td>2</td>\n",
       "      <td>190 AMHERST ST</td>\n",
       "      <td>NASHUA</td>\n",
       "      <td>New Hampshire</td>\n",
       "      <td>03064-1307</td>\n",
       "      <td>USA</td>\n",
       "      <td>Shell, 190, Amherst Street, Ward 4, Nashua, Hi...</td>\n",
       "      <td>(42.77498, -71.49009239500761, 0.0)</td>\n",
       "      <td>42.774980</td>\n",
       "      <td>-71.490092</td>\n",
       "      <td>0</td>\n",
       "    </tr>\n",
       "    <tr>\n",
       "      <th>3</th>\n",
       "      <td>3</td>\n",
       "      <td>915 WALTHAM ST</td>\n",
       "      <td>LEXINGTON</td>\n",
       "      <td>Massachusetts</td>\n",
       "      <td>02421-8001</td>\n",
       "      <td>USA</td>\n",
       "      <td>Waltham Street, Lexington, Middlesex County, M...</td>\n",
       "      <td>(42.43816, -71.234585, 0.0)</td>\n",
       "      <td>42.438160</td>\n",
       "      <td>-71.234585</td>\n",
       "      <td>0</td>\n",
       "    </tr>\n",
       "    <tr>\n",
       "      <th>4</th>\n",
       "      <td>4</td>\n",
       "      <td>245 EDDY RD</td>\n",
       "      <td>MANCHESTER</td>\n",
       "      <td>New Hampshire</td>\n",
       "      <td>03102-3232</td>\n",
       "      <td>USA</td>\n",
       "      <td>245, Eddy Road, Rimmon Heights, Manchester, Hi...</td>\n",
       "      <td>(43.00012675183454, -71.47616471175226, 0.0)</td>\n",
       "      <td>43.000127</td>\n",
       "      <td>-71.476165</td>\n",
       "      <td>0</td>\n",
       "    </tr>\n",
       "  </tbody>\n",
       "</table>\n",
       "</div>"
      ],
      "text/plain": [
       "   Unnamed: 0    STREET_ADDRESS        CITY          STATE POSTAL_CODE  \\\n",
       "0           0  1241 BOYLSTON ST      BOSTON  Massachusetts  02215-3501   \n",
       "1           1      1975 MAIN ST   TEWKSBURY  Massachusetts  01876-2176   \n",
       "2           2    190 AMHERST ST      NASHUA  New Hampshire  03064-1307   \n",
       "3           3    915 WALTHAM ST   LEXINGTON  Massachusetts  02421-8001   \n",
       "4           4       245 EDDY RD  MANCHESTER  New Hampshire  03102-3232   \n",
       "\n",
       "  COUNTRY                                           location  \\\n",
       "0     USA  1241, Boylston Street, Back Bay, Boston, Suffo...   \n",
       "1     USA  Shell, 1975, Main Street, Tewksbury, Middlesex...   \n",
       "2     USA  Shell, 190, Amherst Street, Ward 4, Nashua, Hi...   \n",
       "3     USA  Waltham Street, Lexington, Middlesex County, M...   \n",
       "4     USA  245, Eddy Road, Rimmon Heights, Manchester, Hi...   \n",
       "\n",
       "                                           point   latitude  longitude  \\\n",
       "0   (42.34552821297594, -71.09461423853004, 0.0)  42.345528 -71.094614   \n",
       "1  (42.589596799999995, -71.20324205951535, 0.0)  42.589597 -71.203242   \n",
       "2            (42.77498, -71.49009239500761, 0.0)  42.774980 -71.490092   \n",
       "3                    (42.43816, -71.234585, 0.0)  42.438160 -71.234585   \n",
       "4   (43.00012675183454, -71.47616471175226, 0.0)  43.000127 -71.476165   \n",
       "\n",
       "   altitude  \n",
       "0         0  \n",
       "1         0  \n",
       "2         0  \n",
       "3         0  \n",
       "4         0  "
      ]
     },
     "execution_count": 82,
     "metadata": {},
     "output_type": "execute_result"
    },
    {
     "name": "stdout",
     "output_type": "stream",
     "text": [
      "time: 31 ms (started: 2021-11-11 20:28:26 +05:30)\n"
     ]
    }
   ],
   "source": [
    "df = pd.read_csv(\"code_new.csv\")\n",
    "df.head()"
   ]
  },
  {
   "cell_type": "code",
   "execution_count": 83,
   "metadata": {},
   "outputs": [
    {
     "data": {
      "text/plain": [
       "(12, 11)"
      ]
     },
     "execution_count": 83,
     "metadata": {},
     "output_type": "execute_result"
    },
    {
     "name": "stdout",
     "output_type": "stream",
     "text": [
      "time: 0 ns (started: 2021-11-11 20:28:26 +05:30)\n"
     ]
    }
   ],
   "source": [
    "df.shape"
   ]
  },
  {
   "cell_type": "code",
   "execution_count": 84,
   "metadata": {},
   "outputs": [
    {
     "data": {
      "application/vnd.plotly.v1+json": {
       "config": {
        "plotlyServerURL": "https://plot.ly"
       },
       "data": [
        {
         "hovertemplate": "latitude=%{lat}<br>longitude=%{lon}<extra></extra>",
         "lat": [
          42.34552821,
          42.5895968,
          42.77498,
          42.43816,
          43.00012675,
          42.75054055,
          43.2088281,
          42.8777312,
          42.5175682,
          42.348861,
          41.6824054,
          41.7443816
         ],
         "legendgroup": "",
         "lon": [
          -71.09461424,
          -71.20324206,
          -71.4900924,
          -71.234585,
          -71.47616471,
          -71.48813865,
          -71.52901652,
          -71.3210857,
          -71.09215067,
          -71.153476,
          -72.6537018,
          -72.6339615
         ],
         "marker": {
          "color": "#636efa"
         },
         "mode": "markers",
         "name": "",
         "showlegend": false,
         "subplot": "mapbox",
         "type": "scattermapbox"
        }
       ],
       "layout": {
        "legend": {
         "tracegroupgap": 0
        },
        "mapbox": {
         "accesstoken": "pk.eyJ1Ijoic2hha2Fzb20iLCJhIjoiY2plMWg1NGFpMXZ5NjJxbjhlM2ttN3AwbiJ9.RtGYHmreKiyBfHuElgYq_w",
         "center": {
          "lat": 42.52322565083334,
          "lon": -71.5308524375
         },
         "domain": {
          "x": [
           0,
           1
          ],
          "y": [
           0,
           1
          ]
         },
         "zoom": 15
        },
        "margin": {
         "t": 60
        },
        "template": {
         "data": {
          "bar": [
           {
            "error_x": {
             "color": "#2a3f5f"
            },
            "error_y": {
             "color": "#2a3f5f"
            },
            "marker": {
             "line": {
              "color": "#E5ECF6",
              "width": 0.5
             },
             "pattern": {
              "fillmode": "overlay",
              "size": 10,
              "solidity": 0.2
             }
            },
            "type": "bar"
           }
          ],
          "barpolar": [
           {
            "marker": {
             "line": {
              "color": "#E5ECF6",
              "width": 0.5
             },
             "pattern": {
              "fillmode": "overlay",
              "size": 10,
              "solidity": 0.2
             }
            },
            "type": "barpolar"
           }
          ],
          "carpet": [
           {
            "aaxis": {
             "endlinecolor": "#2a3f5f",
             "gridcolor": "white",
             "linecolor": "white",
             "minorgridcolor": "white",
             "startlinecolor": "#2a3f5f"
            },
            "baxis": {
             "endlinecolor": "#2a3f5f",
             "gridcolor": "white",
             "linecolor": "white",
             "minorgridcolor": "white",
             "startlinecolor": "#2a3f5f"
            },
            "type": "carpet"
           }
          ],
          "choropleth": [
           {
            "colorbar": {
             "outlinewidth": 0,
             "ticks": ""
            },
            "type": "choropleth"
           }
          ],
          "contour": [
           {
            "colorbar": {
             "outlinewidth": 0,
             "ticks": ""
            },
            "colorscale": [
             [
              0,
              "#0d0887"
             ],
             [
              0.1111111111111111,
              "#46039f"
             ],
             [
              0.2222222222222222,
              "#7201a8"
             ],
             [
              0.3333333333333333,
              "#9c179e"
             ],
             [
              0.4444444444444444,
              "#bd3786"
             ],
             [
              0.5555555555555556,
              "#d8576b"
             ],
             [
              0.6666666666666666,
              "#ed7953"
             ],
             [
              0.7777777777777778,
              "#fb9f3a"
             ],
             [
              0.8888888888888888,
              "#fdca26"
             ],
             [
              1,
              "#f0f921"
             ]
            ],
            "type": "contour"
           }
          ],
          "contourcarpet": [
           {
            "colorbar": {
             "outlinewidth": 0,
             "ticks": ""
            },
            "type": "contourcarpet"
           }
          ],
          "heatmap": [
           {
            "colorbar": {
             "outlinewidth": 0,
             "ticks": ""
            },
            "colorscale": [
             [
              0,
              "#0d0887"
             ],
             [
              0.1111111111111111,
              "#46039f"
             ],
             [
              0.2222222222222222,
              "#7201a8"
             ],
             [
              0.3333333333333333,
              "#9c179e"
             ],
             [
              0.4444444444444444,
              "#bd3786"
             ],
             [
              0.5555555555555556,
              "#d8576b"
             ],
             [
              0.6666666666666666,
              "#ed7953"
             ],
             [
              0.7777777777777778,
              "#fb9f3a"
             ],
             [
              0.8888888888888888,
              "#fdca26"
             ],
             [
              1,
              "#f0f921"
             ]
            ],
            "type": "heatmap"
           }
          ],
          "heatmapgl": [
           {
            "colorbar": {
             "outlinewidth": 0,
             "ticks": ""
            },
            "colorscale": [
             [
              0,
              "#0d0887"
             ],
             [
              0.1111111111111111,
              "#46039f"
             ],
             [
              0.2222222222222222,
              "#7201a8"
             ],
             [
              0.3333333333333333,
              "#9c179e"
             ],
             [
              0.4444444444444444,
              "#bd3786"
             ],
             [
              0.5555555555555556,
              "#d8576b"
             ],
             [
              0.6666666666666666,
              "#ed7953"
             ],
             [
              0.7777777777777778,
              "#fb9f3a"
             ],
             [
              0.8888888888888888,
              "#fdca26"
             ],
             [
              1,
              "#f0f921"
             ]
            ],
            "type": "heatmapgl"
           }
          ],
          "histogram": [
           {
            "marker": {
             "pattern": {
              "fillmode": "overlay",
              "size": 10,
              "solidity": 0.2
             }
            },
            "type": "histogram"
           }
          ],
          "histogram2d": [
           {
            "colorbar": {
             "outlinewidth": 0,
             "ticks": ""
            },
            "colorscale": [
             [
              0,
              "#0d0887"
             ],
             [
              0.1111111111111111,
              "#46039f"
             ],
             [
              0.2222222222222222,
              "#7201a8"
             ],
             [
              0.3333333333333333,
              "#9c179e"
             ],
             [
              0.4444444444444444,
              "#bd3786"
             ],
             [
              0.5555555555555556,
              "#d8576b"
             ],
             [
              0.6666666666666666,
              "#ed7953"
             ],
             [
              0.7777777777777778,
              "#fb9f3a"
             ],
             [
              0.8888888888888888,
              "#fdca26"
             ],
             [
              1,
              "#f0f921"
             ]
            ],
            "type": "histogram2d"
           }
          ],
          "histogram2dcontour": [
           {
            "colorbar": {
             "outlinewidth": 0,
             "ticks": ""
            },
            "colorscale": [
             [
              0,
              "#0d0887"
             ],
             [
              0.1111111111111111,
              "#46039f"
             ],
             [
              0.2222222222222222,
              "#7201a8"
             ],
             [
              0.3333333333333333,
              "#9c179e"
             ],
             [
              0.4444444444444444,
              "#bd3786"
             ],
             [
              0.5555555555555556,
              "#d8576b"
             ],
             [
              0.6666666666666666,
              "#ed7953"
             ],
             [
              0.7777777777777778,
              "#fb9f3a"
             ],
             [
              0.8888888888888888,
              "#fdca26"
             ],
             [
              1,
              "#f0f921"
             ]
            ],
            "type": "histogram2dcontour"
           }
          ],
          "mesh3d": [
           {
            "colorbar": {
             "outlinewidth": 0,
             "ticks": ""
            },
            "type": "mesh3d"
           }
          ],
          "parcoords": [
           {
            "line": {
             "colorbar": {
              "outlinewidth": 0,
              "ticks": ""
             }
            },
            "type": "parcoords"
           }
          ],
          "pie": [
           {
            "automargin": true,
            "type": "pie"
           }
          ],
          "scatter": [
           {
            "marker": {
             "colorbar": {
              "outlinewidth": 0,
              "ticks": ""
             }
            },
            "type": "scatter"
           }
          ],
          "scatter3d": [
           {
            "line": {
             "colorbar": {
              "outlinewidth": 0,
              "ticks": ""
             }
            },
            "marker": {
             "colorbar": {
              "outlinewidth": 0,
              "ticks": ""
             }
            },
            "type": "scatter3d"
           }
          ],
          "scattercarpet": [
           {
            "marker": {
             "colorbar": {
              "outlinewidth": 0,
              "ticks": ""
             }
            },
            "type": "scattercarpet"
           }
          ],
          "scattergeo": [
           {
            "marker": {
             "colorbar": {
              "outlinewidth": 0,
              "ticks": ""
             }
            },
            "type": "scattergeo"
           }
          ],
          "scattergl": [
           {
            "marker": {
             "colorbar": {
              "outlinewidth": 0,
              "ticks": ""
             }
            },
            "type": "scattergl"
           }
          ],
          "scattermapbox": [
           {
            "marker": {
             "colorbar": {
              "outlinewidth": 0,
              "ticks": ""
             }
            },
            "type": "scattermapbox"
           }
          ],
          "scatterpolar": [
           {
            "marker": {
             "colorbar": {
              "outlinewidth": 0,
              "ticks": ""
             }
            },
            "type": "scatterpolar"
           }
          ],
          "scatterpolargl": [
           {
            "marker": {
             "colorbar": {
              "outlinewidth": 0,
              "ticks": ""
             }
            },
            "type": "scatterpolargl"
           }
          ],
          "scatterternary": [
           {
            "marker": {
             "colorbar": {
              "outlinewidth": 0,
              "ticks": ""
             }
            },
            "type": "scatterternary"
           }
          ],
          "surface": [
           {
            "colorbar": {
             "outlinewidth": 0,
             "ticks": ""
            },
            "colorscale": [
             [
              0,
              "#0d0887"
             ],
             [
              0.1111111111111111,
              "#46039f"
             ],
             [
              0.2222222222222222,
              "#7201a8"
             ],
             [
              0.3333333333333333,
              "#9c179e"
             ],
             [
              0.4444444444444444,
              "#bd3786"
             ],
             [
              0.5555555555555556,
              "#d8576b"
             ],
             [
              0.6666666666666666,
              "#ed7953"
             ],
             [
              0.7777777777777778,
              "#fb9f3a"
             ],
             [
              0.8888888888888888,
              "#fdca26"
             ],
             [
              1,
              "#f0f921"
             ]
            ],
            "type": "surface"
           }
          ],
          "table": [
           {
            "cells": {
             "fill": {
              "color": "#EBF0F8"
             },
             "line": {
              "color": "white"
             }
            },
            "header": {
             "fill": {
              "color": "#C8D4E3"
             },
             "line": {
              "color": "white"
             }
            },
            "type": "table"
           }
          ]
         },
         "layout": {
          "annotationdefaults": {
           "arrowcolor": "#2a3f5f",
           "arrowhead": 0,
           "arrowwidth": 1
          },
          "autotypenumbers": "strict",
          "coloraxis": {
           "colorbar": {
            "outlinewidth": 0,
            "ticks": ""
           }
          },
          "colorscale": {
           "diverging": [
            [
             0,
             "#8e0152"
            ],
            [
             0.1,
             "#c51b7d"
            ],
            [
             0.2,
             "#de77ae"
            ],
            [
             0.3,
             "#f1b6da"
            ],
            [
             0.4,
             "#fde0ef"
            ],
            [
             0.5,
             "#f7f7f7"
            ],
            [
             0.6,
             "#e6f5d0"
            ],
            [
             0.7,
             "#b8e186"
            ],
            [
             0.8,
             "#7fbc41"
            ],
            [
             0.9,
             "#4d9221"
            ],
            [
             1,
             "#276419"
            ]
           ],
           "sequential": [
            [
             0,
             "#0d0887"
            ],
            [
             0.1111111111111111,
             "#46039f"
            ],
            [
             0.2222222222222222,
             "#7201a8"
            ],
            [
             0.3333333333333333,
             "#9c179e"
            ],
            [
             0.4444444444444444,
             "#bd3786"
            ],
            [
             0.5555555555555556,
             "#d8576b"
            ],
            [
             0.6666666666666666,
             "#ed7953"
            ],
            [
             0.7777777777777778,
             "#fb9f3a"
            ],
            [
             0.8888888888888888,
             "#fdca26"
            ],
            [
             1,
             "#f0f921"
            ]
           ],
           "sequentialminus": [
            [
             0,
             "#0d0887"
            ],
            [
             0.1111111111111111,
             "#46039f"
            ],
            [
             0.2222222222222222,
             "#7201a8"
            ],
            [
             0.3333333333333333,
             "#9c179e"
            ],
            [
             0.4444444444444444,
             "#bd3786"
            ],
            [
             0.5555555555555556,
             "#d8576b"
            ],
            [
             0.6666666666666666,
             "#ed7953"
            ],
            [
             0.7777777777777778,
             "#fb9f3a"
            ],
            [
             0.8888888888888888,
             "#fdca26"
            ],
            [
             1,
             "#f0f921"
            ]
           ]
          },
          "colorway": [
           "#636efa",
           "#EF553B",
           "#00cc96",
           "#ab63fa",
           "#FFA15A",
           "#19d3f3",
           "#FF6692",
           "#B6E880",
           "#FF97FF",
           "#FECB52"
          ],
          "font": {
           "color": "#2a3f5f"
          },
          "geo": {
           "bgcolor": "white",
           "lakecolor": "white",
           "landcolor": "#E5ECF6",
           "showlakes": true,
           "showland": true,
           "subunitcolor": "white"
          },
          "hoverlabel": {
           "align": "left"
          },
          "hovermode": "closest",
          "mapbox": {
           "style": "light"
          },
          "paper_bgcolor": "white",
          "plot_bgcolor": "#E5ECF6",
          "polar": {
           "angularaxis": {
            "gridcolor": "white",
            "linecolor": "white",
            "ticks": ""
           },
           "bgcolor": "#E5ECF6",
           "radialaxis": {
            "gridcolor": "white",
            "linecolor": "white",
            "ticks": ""
           }
          },
          "scene": {
           "xaxis": {
            "backgroundcolor": "#E5ECF6",
            "gridcolor": "white",
            "gridwidth": 2,
            "linecolor": "white",
            "showbackground": true,
            "ticks": "",
            "zerolinecolor": "white"
           },
           "yaxis": {
            "backgroundcolor": "#E5ECF6",
            "gridcolor": "white",
            "gridwidth": 2,
            "linecolor": "white",
            "showbackground": true,
            "ticks": "",
            "zerolinecolor": "white"
           },
           "zaxis": {
            "backgroundcolor": "#E5ECF6",
            "gridcolor": "white",
            "gridwidth": 2,
            "linecolor": "white",
            "showbackground": true,
            "ticks": "",
            "zerolinecolor": "white"
           }
          },
          "shapedefaults": {
           "line": {
            "color": "#2a3f5f"
           }
          },
          "ternary": {
           "aaxis": {
            "gridcolor": "white",
            "linecolor": "white",
            "ticks": ""
           },
           "baxis": {
            "gridcolor": "white",
            "linecolor": "white",
            "ticks": ""
           },
           "bgcolor": "#E5ECF6",
           "caxis": {
            "gridcolor": "white",
            "linecolor": "white",
            "ticks": ""
           }
          },
          "title": {
           "x": 0.05
          },
          "xaxis": {
           "automargin": true,
           "gridcolor": "white",
           "linecolor": "white",
           "ticks": "",
           "title": {
            "standoff": 15
           },
           "zerolinecolor": "white",
           "zerolinewidth": 2
          },
          "yaxis": {
           "automargin": true,
           "gridcolor": "white",
           "linecolor": "white",
           "ticks": "",
           "title": {
            "standoff": 15
           },
           "zerolinecolor": "white",
           "zerolinewidth": 2
          }
         }
        }
       }
      }
     },
     "metadata": {},
     "output_type": "display_data"
    },
    {
     "name": "stdout",
     "output_type": "stream",
     "text": [
      "time: 187 ms (started: 2021-11-11 20:28:26 +05:30)\n"
     ]
    }
   ],
   "source": [
    "import plotly_express as px\n",
    "px.set_mapbox_access_token(\"pk.eyJ1Ijoic2hha2Fzb20iLCJhIjoiY2plMWg1NGFpMXZ5NjJxbjhlM2ttN3AwbiJ9.RtGYHmreKiyBfHuElgYq_w\")\n",
    "px.scatter_mapbox(df, lat=\"latitude\", lon=\"longitude\",  zoom=15)"
   ]
  },
  {
   "cell_type": "code",
   "execution_count": 85,
   "metadata": {},
   "outputs": [
    {
     "data": {
      "text/html": [
       "<div>\n",
       "<style scoped>\n",
       "    .dataframe tbody tr th:only-of-type {\n",
       "        vertical-align: middle;\n",
       "    }\n",
       "\n",
       "    .dataframe tbody tr th {\n",
       "        vertical-align: top;\n",
       "    }\n",
       "\n",
       "    .dataframe thead th {\n",
       "        text-align: right;\n",
       "    }\n",
       "</style>\n",
       "<table border=\"1\" class=\"dataframe\">\n",
       "  <thead>\n",
       "    <tr style=\"text-align: right;\">\n",
       "      <th></th>\n",
       "      <th>Unnamed: 0</th>\n",
       "      <th>STREET_ADDRESS</th>\n",
       "      <th>CITY</th>\n",
       "      <th>STATE</th>\n",
       "      <th>POSTAL_CODE</th>\n",
       "      <th>COUNTRY</th>\n",
       "      <th>location</th>\n",
       "      <th>point</th>\n",
       "      <th>latitude</th>\n",
       "      <th>longitude</th>\n",
       "      <th>altitude</th>\n",
       "      <th>geom</th>\n",
       "    </tr>\n",
       "  </thead>\n",
       "  <tbody>\n",
       "    <tr>\n",
       "      <th>0</th>\n",
       "      <td>0</td>\n",
       "      <td>1241 BOYLSTON ST</td>\n",
       "      <td>BOSTON</td>\n",
       "      <td>Massachusetts</td>\n",
       "      <td>02215-3501</td>\n",
       "      <td>USA</td>\n",
       "      <td>1241, Boylston Street, Back Bay, Boston, Suffo...</td>\n",
       "      <td>(42.34552821297594, -71.09461423853004, 0.0)</td>\n",
       "      <td>42.345528</td>\n",
       "      <td>-71.094614</td>\n",
       "      <td>0</td>\n",
       "      <td>42.34552821,-71.09461424</td>\n",
       "    </tr>\n",
       "    <tr>\n",
       "      <th>1</th>\n",
       "      <td>1</td>\n",
       "      <td>1975 MAIN ST</td>\n",
       "      <td>TEWKSBURY</td>\n",
       "      <td>Massachusetts</td>\n",
       "      <td>01876-2176</td>\n",
       "      <td>USA</td>\n",
       "      <td>Shell, 1975, Main Street, Tewksbury, Middlesex...</td>\n",
       "      <td>(42.589596799999995, -71.20324205951535, 0.0)</td>\n",
       "      <td>42.589597</td>\n",
       "      <td>-71.203242</td>\n",
       "      <td>0</td>\n",
       "      <td>42.5895968,-71.20324206</td>\n",
       "    </tr>\n",
       "    <tr>\n",
       "      <th>2</th>\n",
       "      <td>2</td>\n",
       "      <td>190 AMHERST ST</td>\n",
       "      <td>NASHUA</td>\n",
       "      <td>New Hampshire</td>\n",
       "      <td>03064-1307</td>\n",
       "      <td>USA</td>\n",
       "      <td>Shell, 190, Amherst Street, Ward 4, Nashua, Hi...</td>\n",
       "      <td>(42.77498, -71.49009239500761, 0.0)</td>\n",
       "      <td>42.774980</td>\n",
       "      <td>-71.490092</td>\n",
       "      <td>0</td>\n",
       "      <td>42.77498,-71.4900924</td>\n",
       "    </tr>\n",
       "    <tr>\n",
       "      <th>3</th>\n",
       "      <td>3</td>\n",
       "      <td>915 WALTHAM ST</td>\n",
       "      <td>LEXINGTON</td>\n",
       "      <td>Massachusetts</td>\n",
       "      <td>02421-8001</td>\n",
       "      <td>USA</td>\n",
       "      <td>Waltham Street, Lexington, Middlesex County, M...</td>\n",
       "      <td>(42.43816, -71.234585, 0.0)</td>\n",
       "      <td>42.438160</td>\n",
       "      <td>-71.234585</td>\n",
       "      <td>0</td>\n",
       "      <td>42.43816,-71.234585</td>\n",
       "    </tr>\n",
       "    <tr>\n",
       "      <th>4</th>\n",
       "      <td>4</td>\n",
       "      <td>245 EDDY RD</td>\n",
       "      <td>MANCHESTER</td>\n",
       "      <td>New Hampshire</td>\n",
       "      <td>03102-3232</td>\n",
       "      <td>USA</td>\n",
       "      <td>245, Eddy Road, Rimmon Heights, Manchester, Hi...</td>\n",
       "      <td>(43.00012675183454, -71.47616471175226, 0.0)</td>\n",
       "      <td>43.000127</td>\n",
       "      <td>-71.476165</td>\n",
       "      <td>0</td>\n",
       "      <td>43.00012675,-71.47616471</td>\n",
       "    </tr>\n",
       "  </tbody>\n",
       "</table>\n",
       "</div>"
      ],
      "text/plain": [
       "   Unnamed: 0    STREET_ADDRESS        CITY          STATE POSTAL_CODE  \\\n",
       "0           0  1241 BOYLSTON ST      BOSTON  Massachusetts  02215-3501   \n",
       "1           1      1975 MAIN ST   TEWKSBURY  Massachusetts  01876-2176   \n",
       "2           2    190 AMHERST ST      NASHUA  New Hampshire  03064-1307   \n",
       "3           3    915 WALTHAM ST   LEXINGTON  Massachusetts  02421-8001   \n",
       "4           4       245 EDDY RD  MANCHESTER  New Hampshire  03102-3232   \n",
       "\n",
       "  COUNTRY                                           location  \\\n",
       "0     USA  1241, Boylston Street, Back Bay, Boston, Suffo...   \n",
       "1     USA  Shell, 1975, Main Street, Tewksbury, Middlesex...   \n",
       "2     USA  Shell, 190, Amherst Street, Ward 4, Nashua, Hi...   \n",
       "3     USA  Waltham Street, Lexington, Middlesex County, M...   \n",
       "4     USA  245, Eddy Road, Rimmon Heights, Manchester, Hi...   \n",
       "\n",
       "                                           point   latitude  longitude  \\\n",
       "0   (42.34552821297594, -71.09461423853004, 0.0)  42.345528 -71.094614   \n",
       "1  (42.589596799999995, -71.20324205951535, 0.0)  42.589597 -71.203242   \n",
       "2            (42.77498, -71.49009239500761, 0.0)  42.774980 -71.490092   \n",
       "3                    (42.43816, -71.234585, 0.0)  42.438160 -71.234585   \n",
       "4   (43.00012675183454, -71.47616471175226, 0.0)  43.000127 -71.476165   \n",
       "\n",
       "   altitude                      geom  \n",
       "0         0  42.34552821,-71.09461424  \n",
       "1         0   42.5895968,-71.20324206  \n",
       "2         0      42.77498,-71.4900924  \n",
       "3         0       42.43816,-71.234585  \n",
       "4         0  43.00012675,-71.47616471  "
      ]
     },
     "execution_count": 85,
     "metadata": {},
     "output_type": "execute_result"
    },
    {
     "name": "stdout",
     "output_type": "stream",
     "text": [
      "time: 16 ms (started: 2021-11-11 20:28:26 +05:30)\n"
     ]
    }
   ],
   "source": [
    "df[\"geom\"] =  df[\"latitude\"].map(str)  + ',' + df['longitude'].map(str)\n",
    "df.head()"
   ]
  },
  {
   "cell_type": "code",
   "execution_count": 86,
   "metadata": {},
   "outputs": [
    {
     "data": {
      "text/plain": [
       "'42.34552821,-71.09461424'"
      ]
     },
     "execution_count": 86,
     "metadata": {},
     "output_type": "execute_result"
    },
    {
     "name": "stdout",
     "output_type": "stream",
     "text": [
      "time: 0 ns (started: 2021-11-11 20:28:26 +05:30)\n"
     ]
    }
   ],
   "source": [
    "df.geom[0]"
   ]
  },
  {
   "cell_type": "code",
   "execution_count": 87,
   "metadata": {},
   "outputs": [
    {
     "data": {
      "text/plain": [
       "<geopy.extra.rate_limiter.RateLimiter at 0x1f00f9c28e0>"
      ]
     },
     "execution_count": 87,
     "metadata": {},
     "output_type": "execute_result"
    },
    {
     "name": "stdout",
     "output_type": "stream",
     "text": [
      "time: 0 ns (started: 2021-11-11 20:28:26 +05:30)\n"
     ]
    }
   ],
   "source": [
    "locator = Nominatim(user_agent=\"myGeocoder\", timeout=10)\n",
    "rgeocode = RateLimiter(locator.reverse, min_delay_seconds=0.001)\n",
    "rgeocode"
   ]
  },
  {
   "cell_type": "code",
   "execution_count": 92,
   "metadata": {},
   "outputs": [
    {
     "name": "stdout",
     "output_type": "stream",
     "text": [
      "time: 6.67 s (started: 2021-11-11 20:38:21 +05:30)\n"
     ]
    }
   ],
   "source": [
    "df['address'] = df['geom'].apply(rgeocode)"
   ]
  },
  {
   "cell_type": "code",
   "execution_count": 93,
   "metadata": {},
   "outputs": [
    {
     "data": {
      "text/html": [
       "<div>\n",
       "<style scoped>\n",
       "    .dataframe tbody tr th:only-of-type {\n",
       "        vertical-align: middle;\n",
       "    }\n",
       "\n",
       "    .dataframe tbody tr th {\n",
       "        vertical-align: top;\n",
       "    }\n",
       "\n",
       "    .dataframe thead th {\n",
       "        text-align: right;\n",
       "    }\n",
       "</style>\n",
       "<table border=\"1\" class=\"dataframe\">\n",
       "  <thead>\n",
       "    <tr style=\"text-align: right;\">\n",
       "      <th></th>\n",
       "      <th>Unnamed: 0</th>\n",
       "      <th>STREET_ADDRESS</th>\n",
       "      <th>CITY</th>\n",
       "      <th>STATE</th>\n",
       "      <th>POSTAL_CODE</th>\n",
       "      <th>COUNTRY</th>\n",
       "      <th>location</th>\n",
       "      <th>point</th>\n",
       "      <th>latitude</th>\n",
       "      <th>longitude</th>\n",
       "      <th>altitude</th>\n",
       "      <th>geom</th>\n",
       "      <th>address</th>\n",
       "    </tr>\n",
       "  </thead>\n",
       "  <tbody>\n",
       "    <tr>\n",
       "      <th>0</th>\n",
       "      <td>0</td>\n",
       "      <td>1241 BOYLSTON ST</td>\n",
       "      <td>BOSTON</td>\n",
       "      <td>Massachusetts</td>\n",
       "      <td>02215-3501</td>\n",
       "      <td>USA</td>\n",
       "      <td>1241, Boylston Street, Back Bay, Boston, Suffo...</td>\n",
       "      <td>(42.34552821297594, -71.09461423853004, 0.0)</td>\n",
       "      <td>42.345528</td>\n",
       "      <td>-71.094614</td>\n",
       "      <td>0</td>\n",
       "      <td>42.34552821,-71.09461424</td>\n",
       "      <td>(1241, Boylston Street, Back Bay, Boston, Suff...</td>\n",
       "    </tr>\n",
       "    <tr>\n",
       "      <th>1</th>\n",
       "      <td>1</td>\n",
       "      <td>1975 MAIN ST</td>\n",
       "      <td>TEWKSBURY</td>\n",
       "      <td>Massachusetts</td>\n",
       "      <td>01876-2176</td>\n",
       "      <td>USA</td>\n",
       "      <td>Shell, 1975, Main Street, Tewksbury, Middlesex...</td>\n",
       "      <td>(42.589596799999995, -71.20324205951535, 0.0)</td>\n",
       "      <td>42.589597</td>\n",
       "      <td>-71.203242</td>\n",
       "      <td>0</td>\n",
       "      <td>42.5895968,-71.20324206</td>\n",
       "      <td>(Shell, 1975, Main Street, Tewksbury, Middlese...</td>\n",
       "    </tr>\n",
       "    <tr>\n",
       "      <th>2</th>\n",
       "      <td>2</td>\n",
       "      <td>190 AMHERST ST</td>\n",
       "      <td>NASHUA</td>\n",
       "      <td>New Hampshire</td>\n",
       "      <td>03064-1307</td>\n",
       "      <td>USA</td>\n",
       "      <td>Shell, 190, Amherst Street, Ward 4, Nashua, Hi...</td>\n",
       "      <td>(42.77498, -71.49009239500761, 0.0)</td>\n",
       "      <td>42.774980</td>\n",
       "      <td>-71.490092</td>\n",
       "      <td>0</td>\n",
       "      <td>42.77498,-71.4900924</td>\n",
       "      <td>(Shell, 190, Amherst Street, Ward 4, Nashua, H...</td>\n",
       "    </tr>\n",
       "    <tr>\n",
       "      <th>3</th>\n",
       "      <td>3</td>\n",
       "      <td>915 WALTHAM ST</td>\n",
       "      <td>LEXINGTON</td>\n",
       "      <td>Massachusetts</td>\n",
       "      <td>02421-8001</td>\n",
       "      <td>USA</td>\n",
       "      <td>Waltham Street, Lexington, Middlesex County, M...</td>\n",
       "      <td>(42.43816, -71.234585, 0.0)</td>\n",
       "      <td>42.438160</td>\n",
       "      <td>-71.234585</td>\n",
       "      <td>0</td>\n",
       "      <td>42.43816,-71.234585</td>\n",
       "      <td>(320, Waltham Street, Lexington, Middlesex Cou...</td>\n",
       "    </tr>\n",
       "    <tr>\n",
       "      <th>4</th>\n",
       "      <td>4</td>\n",
       "      <td>245 EDDY RD</td>\n",
       "      <td>MANCHESTER</td>\n",
       "      <td>New Hampshire</td>\n",
       "      <td>03102-3232</td>\n",
       "      <td>USA</td>\n",
       "      <td>245, Eddy Road, Rimmon Heights, Manchester, Hi...</td>\n",
       "      <td>(43.00012675183454, -71.47616471175226, 0.0)</td>\n",
       "      <td>43.000127</td>\n",
       "      <td>-71.476165</td>\n",
       "      <td>0</td>\n",
       "      <td>43.00012675,-71.47616471</td>\n",
       "      <td>(245, Eddy Road, Rimmon Heights, Manchester, H...</td>\n",
       "    </tr>\n",
       "  </tbody>\n",
       "</table>\n",
       "</div>"
      ],
      "text/plain": [
       "   Unnamed: 0    STREET_ADDRESS        CITY          STATE POSTAL_CODE  \\\n",
       "0           0  1241 BOYLSTON ST      BOSTON  Massachusetts  02215-3501   \n",
       "1           1      1975 MAIN ST   TEWKSBURY  Massachusetts  01876-2176   \n",
       "2           2    190 AMHERST ST      NASHUA  New Hampshire  03064-1307   \n",
       "3           3    915 WALTHAM ST   LEXINGTON  Massachusetts  02421-8001   \n",
       "4           4       245 EDDY RD  MANCHESTER  New Hampshire  03102-3232   \n",
       "\n",
       "  COUNTRY                                           location  \\\n",
       "0     USA  1241, Boylston Street, Back Bay, Boston, Suffo...   \n",
       "1     USA  Shell, 1975, Main Street, Tewksbury, Middlesex...   \n",
       "2     USA  Shell, 190, Amherst Street, Ward 4, Nashua, Hi...   \n",
       "3     USA  Waltham Street, Lexington, Middlesex County, M...   \n",
       "4     USA  245, Eddy Road, Rimmon Heights, Manchester, Hi...   \n",
       "\n",
       "                                           point   latitude  longitude  \\\n",
       "0   (42.34552821297594, -71.09461423853004, 0.0)  42.345528 -71.094614   \n",
       "1  (42.589596799999995, -71.20324205951535, 0.0)  42.589597 -71.203242   \n",
       "2            (42.77498, -71.49009239500761, 0.0)  42.774980 -71.490092   \n",
       "3                    (42.43816, -71.234585, 0.0)  42.438160 -71.234585   \n",
       "4   (43.00012675183454, -71.47616471175226, 0.0)  43.000127 -71.476165   \n",
       "\n",
       "   altitude                      geom  \\\n",
       "0         0  42.34552821,-71.09461424   \n",
       "1         0   42.5895968,-71.20324206   \n",
       "2         0      42.77498,-71.4900924   \n",
       "3         0       42.43816,-71.234585   \n",
       "4         0  43.00012675,-71.47616471   \n",
       "\n",
       "                                             address  \n",
       "0  (1241, Boylston Street, Back Bay, Boston, Suff...  \n",
       "1  (Shell, 1975, Main Street, Tewksbury, Middlese...  \n",
       "2  (Shell, 190, Amherst Street, Ward 4, Nashua, H...  \n",
       "3  (320, Waltham Street, Lexington, Middlesex Cou...  \n",
       "4  (245, Eddy Road, Rimmon Heights, Manchester, H...  "
      ]
     },
     "execution_count": 93,
     "metadata": {},
     "output_type": "execute_result"
    },
    {
     "name": "stdout",
     "output_type": "stream",
     "text": [
      "time: 16 ms (started: 2021-11-11 20:39:06 +05:30)\n"
     ]
    }
   ],
   "source": [
    "df.head()"
   ]
  }
 ],
 "metadata": {
  "interpreter": {
   "hash": "0fde93143231d7c82c2c8436e6eb2105fcf5c04bf8b8c1509b497d4b16eaae34"
  },
  "kernelspec": {
   "display_name": "Python 3.8.12 64-bit ('work1': conda)",
   "language": "python",
   "name": "python3"
  },
  "language_info": {
   "codemirror_mode": {
    "name": "ipython",
    "version": 3
   },
   "file_extension": ".py",
   "mimetype": "text/x-python",
   "name": "python",
   "nbconvert_exporter": "python",
   "pygments_lexer": "ipython3",
   "version": "3.8.12"
  },
  "orig_nbformat": 4
 },
 "nbformat": 4,
 "nbformat_minor": 2
}
