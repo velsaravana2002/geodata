{
 "cells": [
  {
   "cell_type": "code",
   "execution_count": null,
   "metadata": {},
   "outputs": [],
   "source": []
  }
 ],
 "metadata": {
  "interpreter": {
   "hash": "0fde93143231d7c82c2c8436e6eb2105fcf5c04bf8b8c1509b497d4b16eaae34"
  },
  "kernelspec": {
   "display_name": "Python 3.8.12 64-bit ('work1': conda)",
   "language": "python",
   "name": "python3"
  },
  "language_info": {
   "name": "python",
   "version": "3.8.12"
  },
  "orig_nbformat": 4
 },
 "nbformat": 4,
 "nbformat_minor": 2
}
