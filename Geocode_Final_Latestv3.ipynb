{
 "cells": [
  {
   "cell_type": "code",
   "execution_count": 10,
   "metadata": {},
   "outputs": [],
   "source": [
    "import requests\n",
    "import csv\n",
    "import json\n",
    "import pandas\n",
    "from pandas import DataFrame\n",
    "import os"
   ]
  },
  {
   "cell_type": "code",
   "execution_count": 11,
   "metadata": {},
   "outputs": [],
   "source": [
    "#set folder path to where the new files should go\n",
    "os.chdir('C:/Users/S.Subramanian2/PyCode/TEST/')"
   ]
  },
  {
   "cell_type": "code",
   "execution_count": 12,
   "metadata": {},
   "outputs": [],
   "source": [
    "# Bing Maps Key \n",
    "bingMapsKey = \"Ag7D1tdmOwcx6yD-pPbNxdbiKDueh-QBlK4LfLGLvG4tlioOAMZNz3ZANFv6QxBh\""
   ]
  },
  {
   "cell_type": "code",
   "execution_count": 13,
   "metadata": {},
   "outputs": [],
   "source": [
    "outputfile = open('HA_LatLongOutput1.csv', 'w', newline='')"
   ]
  },
  {
   "cell_type": "code",
   "execution_count": 14,
   "metadata": {},
   "outputs": [],
   "source": [
    "csvwriter = csv.writer(outputfile)"
   ]
  },
  {
   "cell_type": "code",
   "execution_count": 15,
   "metadata": {},
   "outputs": [],
   "source": [
    "header = [\"Bing Coordinates\", \"Bing Address\", \"Address Confidence\"]"
   ]
  },
  {
   "cell_type": "code",
   "execution_count": 16,
   "metadata": {},
   "outputs": [
    {
     "data": {
      "text/plain": [
       "50"
      ]
     },
     "execution_count": 16,
     "metadata": {},
     "output_type": "execute_result"
    }
   ],
   "source": [
    "csvwriter.writerow(header)"
   ]
  },
  {
   "cell_type": "code",
   "execution_count": 17,
   "metadata": {},
   "outputs": [],
   "source": [
    "payload = {'type': 'adminVM', 'pageSize': '100', 'filter': 'status==POWERED_ON'}"
   ]
  },
  {
   "cell_type": "code",
   "execution_count": 18,
   "metadata": {},
   "outputs": [
    {
     "name": "stdout",
     "output_type": "stream",
     "text": [
      "Processing Input Line: 1 of 2\n",
      "Processing Input Line: 2 of 2\n"
     ]
    },
    {
     "ename": "UnicodeEncodeError",
     "evalue": "'charmap' codec can't encode character '\\u015a' in position 23: character maps to <undefined>",
     "output_type": "error",
     "traceback": [
      "\u001b[1;31m---------------------------------------------------------------------------\u001b[0m",
      "\u001b[1;31mUnicodeEncodeError\u001b[0m                        Traceback (most recent call last)",
      "\u001b[1;32mC:\\Users\\S8782~1.SUB\\AppData\\Local\\Temp/ipykernel_13176/2722887883.py\u001b[0m in \u001b[0;36m<module>\u001b[1;34m\u001b[0m\n\u001b[0;32m     45\u001b[0m                         \u001b[1;32mwith\u001b[0m \u001b[0mopen\u001b[0m\u001b[1;33m(\u001b[0m\u001b[1;34m'HA_LatLongOutput1.csv'\u001b[0m\u001b[1;33m)\u001b[0m \u001b[1;32mas\u001b[0m \u001b[0mf\u001b[0m\u001b[1;33m:\u001b[0m\u001b[1;33m\u001b[0m\u001b[1;33m\u001b[0m\u001b[0m\n\u001b[0;32m     46\u001b[0m                                 \u001b[0mvalues\u001b[0m \u001b[1;33m=\u001b[0m \u001b[0mbingCoordinates\u001b[0m\u001b[1;33m,\u001b[0m \u001b[0mbingAddress\u001b[0m\u001b[1;33m,\u001b[0m \u001b[0maddressConfidence\u001b[0m\u001b[1;33m\u001b[0m\u001b[1;33m\u001b[0m\u001b[0m\n\u001b[1;32m---> 47\u001b[1;33m                                 \u001b[0mcsvwriter\u001b[0m\u001b[1;33m.\u001b[0m\u001b[0mwriterow\u001b[0m\u001b[1;33m(\u001b[0m\u001b[0mvalues\u001b[0m\u001b[1;33m)\u001b[0m\u001b[1;33m\u001b[0m\u001b[1;33m\u001b[0m\u001b[0m\n\u001b[0m\u001b[0;32m     48\u001b[0m \u001b[1;33m\u001b[0m\u001b[0m\n\u001b[0;32m     49\u001b[0m \u001b[0moutputfile\u001b[0m\u001b[1;33m.\u001b[0m\u001b[0mclose\u001b[0m\u001b[1;33m(\u001b[0m\u001b[1;33m)\u001b[0m\u001b[1;33m\u001b[0m\u001b[1;33m\u001b[0m\u001b[0m\n",
      "\u001b[1;32m~\\Anaconda3\\envs\\work1\\lib\\encodings\\cp1252.py\u001b[0m in \u001b[0;36mencode\u001b[1;34m(self, input, final)\u001b[0m\n\u001b[0;32m     17\u001b[0m \u001b[1;32mclass\u001b[0m \u001b[0mIncrementalEncoder\u001b[0m\u001b[1;33m(\u001b[0m\u001b[0mcodecs\u001b[0m\u001b[1;33m.\u001b[0m\u001b[0mIncrementalEncoder\u001b[0m\u001b[1;33m)\u001b[0m\u001b[1;33m:\u001b[0m\u001b[1;33m\u001b[0m\u001b[1;33m\u001b[0m\u001b[0m\n\u001b[0;32m     18\u001b[0m     \u001b[1;32mdef\u001b[0m \u001b[0mencode\u001b[0m\u001b[1;33m(\u001b[0m\u001b[0mself\u001b[0m\u001b[1;33m,\u001b[0m \u001b[0minput\u001b[0m\u001b[1;33m,\u001b[0m \u001b[0mfinal\u001b[0m\u001b[1;33m=\u001b[0m\u001b[1;32mFalse\u001b[0m\u001b[1;33m)\u001b[0m\u001b[1;33m:\u001b[0m\u001b[1;33m\u001b[0m\u001b[1;33m\u001b[0m\u001b[0m\n\u001b[1;32m---> 19\u001b[1;33m         \u001b[1;32mreturn\u001b[0m \u001b[0mcodecs\u001b[0m\u001b[1;33m.\u001b[0m\u001b[0mcharmap_encode\u001b[0m\u001b[1;33m(\u001b[0m\u001b[0minput\u001b[0m\u001b[1;33m,\u001b[0m\u001b[0mself\u001b[0m\u001b[1;33m.\u001b[0m\u001b[0merrors\u001b[0m\u001b[1;33m,\u001b[0m\u001b[0mencoding_table\u001b[0m\u001b[1;33m)\u001b[0m\u001b[1;33m[\u001b[0m\u001b[1;36m0\u001b[0m\u001b[1;33m]\u001b[0m\u001b[1;33m\u001b[0m\u001b[1;33m\u001b[0m\u001b[0m\n\u001b[0m\u001b[0;32m     20\u001b[0m \u001b[1;33m\u001b[0m\u001b[0m\n\u001b[0;32m     21\u001b[0m \u001b[1;32mclass\u001b[0m \u001b[0mIncrementalDecoder\u001b[0m\u001b[1;33m(\u001b[0m\u001b[0mcodecs\u001b[0m\u001b[1;33m.\u001b[0m\u001b[0mIncrementalDecoder\u001b[0m\u001b[1;33m)\u001b[0m\u001b[1;33m:\u001b[0m\u001b[1;33m\u001b[0m\u001b[1;33m\u001b[0m\u001b[0m\n",
      "\u001b[1;31mUnicodeEncodeError\u001b[0m: 'charmap' codec can't encode character '\\u015a' in position 23: character maps to <undefined>"
     ]
    }
   ],
   "source": [
    "# opening input file, pulling data from Bing API json requests and writing to the output file\n",
    "with open(\"C:/Users/S.Subramanian2/PyCode/TEST/to_geocode1.csv\") as csvfile: \n",
    "\trowreader = csv.reader(csvfile)\n",
    "\ttotalrows = -1\n",
    "\tfor row in rowreader:\n",
    "\t\ttotalrows += 1\t\t\n",
    "\t\n",
    "with open(\"C:/Users/S.Subramanian2/PyCode/TEST/to_geocode1.csv\") as csvfile: \n",
    "\treader = csv.DictReader(csvfile)\n",
    "\tcounter = 0\n",
    "\terrorcount = 0\n",
    "\ttotalrows = int(totalrows)\n",
    "\tif counter <= totalrows:\n",
    "\t\tfor row in reader:\n",
    "\t\t\t\n",
    "\t\t\ttry:\n",
    "\t\t\t\tcounter += 1\n",
    "\t\t\t\tprint(\"Processing Input Line: \" + str(counter) + \" of \" + str(totalrows))\n",
    "\t\t\t\tCountry = row['Country']\n",
    "\t\t\t\tState = row['State']\n",
    "\t\t\t\tCity = row['City']\n",
    "\t\t\t\t#Zip = row['Zip']\n",
    "\t\t\t\tAddressLine = row['AddressLine']\n",
    "\t\t\t\trouteUrl = \"http://dev.virtualearth.net/REST/v1/Locations/\" + Country + \"/\" + State + \"/\" + City + \"/\" + AddressLine + \"?o=json&key=\" + bingMapsKey  #add zip into the request url if using zip codes\n",
    "\t\t\t\tpage = requests.get((routeUrl), params=payload, verify=False).json()\n",
    "\t\t\t\tbingCoordinates = (page['resourceSets'][0]['resources'][0]['point']['coordinates'])\n",
    "\t\t\t\tbingCoordinates = str(bingCoordinates)\n",
    "\t\t\t\t\n",
    "\t\t\t\t#outputs actual address pulled as a result of the Bing request - corresponding to coordinates pulled\n",
    "\t\t\t\tbingAddress = (page['resourceSets'][0]['resources'][0]['address']['formattedAddress'])\n",
    "\t\t\t\t\n",
    "\t\t\t\t#outputs high/medium/low measure of accuracy\n",
    "\t\t\t\taddressConfidence = (page['resourceSets'][0]['resources'][0]['confidence'])\n",
    "\n",
    "\t\t\t\t#outputs address name\n",
    "\t\t\t\taddressName = (page['resourceSets'][0]['resources'][0]['confidence'])\n",
    "\t\t\t\t\n",
    "\t\t\texcept:\n",
    "\t\t\t\tprint(\"Error processing\")\n",
    "\t\t\t\terrorcount +=1\n",
    "\t\t\t\tbingCoordinates = (\"Error\")\n",
    "\t\t\t\tbingAddress = \"Error\"\n",
    "\t\t\t\taddressConfidence = \"Error\"\n",
    "\t\t\t\t\n",
    "\t\t\twith open('HA_LatLongOutput1.csv') as f:\n",
    "\t\t\t\tvalues = bingCoordinates, bingAddress, addressConfidence\n",
    "\t\t\t\tcsvwriter.writerow(values)\n",
    "\t\t\n",
    "outputfile.close()\n",
    "print(\"Finished Processing\")\n",
    "print(\"Creating Files...\")\n",
    "\n",
    "#append output file to inputfile\n",
    "left = pandas.read_csv(\"C:/Users/S.Subramanian2/PyCode/TEST/to_geocode1.csv\", encoding = \"ISO-8859-1\")\n",
    "right = pandas.read_csv('HA_LatLongOutput1.csv', encoding = \"ISO-8859-1\")\n",
    "result = left.join(right, how=\"inner\")\n",
    "result.to_csv('HA_LatLongOutputFinal1.csv', index=False)\n",
    "\n",
    "print(\"Total processing errors: \" + str(errorcount))\n",
    "print(\"Complete\")"
   ]
  }
 ],
 "metadata": {
  "interpreter": {
   "hash": "0fde93143231d7c82c2c8436e6eb2105fcf5c04bf8b8c1509b497d4b16eaae34"
  },
  "kernelspec": {
   "display_name": "Python 3.8.12 64-bit ('work1': conda)",
   "language": "python",
   "name": "python3"
  },
  "language_info": {
   "codemirror_mode": {
    "name": "ipython",
    "version": 3
   },
   "file_extension": ".py",
   "mimetype": "text/x-python",
   "name": "python",
   "nbconvert_exporter": "python",
   "pygments_lexer": "ipython3",
   "version": "3.8.12"
  },
  "orig_nbformat": 4
 },
 "nbformat": 4,
 "nbformat_minor": 2
}
