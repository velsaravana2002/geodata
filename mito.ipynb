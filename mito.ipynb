{
 "cells": [
  {
   "cell_type": "code",
   "execution_count": 1,
   "metadata": {},
   "outputs": [
    {
     "name": "stdout",
     "output_type": "stream",
     "text": [
      "Requirement already satisfied: mitoinstaller in c:\\users\\s.subramanian2\\anaconda3\\envs\\work1\\lib\\site-packages (0.0.161)\n",
      "Requirement already satisfied: colorama in c:\\users\\s.subramanian2\\anaconda3\\envs\\work1\\lib\\site-packages (from mitoinstaller) (0.4.4)\n",
      "Requirement already satisfied: analytics-python in c:\\users\\s.subramanian2\\anaconda3\\envs\\work1\\lib\\site-packages (from mitoinstaller) (1.4.0)\n",
      "Requirement already satisfied: termcolor in c:\\users\\s.subramanian2\\anaconda3\\envs\\work1\\lib\\site-packages (from mitoinstaller) (1.1.0)\n",
      "Requirement already satisfied: requests<3.0,>=2.7 in c:\\users\\s.subramanian2\\anaconda3\\envs\\work1\\lib\\site-packages (from analytics-python->mitoinstaller) (2.27.1)\n",
      "Requirement already satisfied: monotonic>=1.5 in c:\\users\\s.subramanian2\\anaconda3\\envs\\work1\\lib\\site-packages (from analytics-python->mitoinstaller) (1.6)\n",
      "Requirement already satisfied: python-dateutil>2.1 in c:\\users\\s.subramanian2\\anaconda3\\envs\\work1\\lib\\site-packages (from analytics-python->mitoinstaller) (2.8.2)\n",
      "Requirement already satisfied: backoff==1.10.0 in c:\\users\\s.subramanian2\\anaconda3\\envs\\work1\\lib\\site-packages (from analytics-python->mitoinstaller) (1.10.0)\n",
      "Requirement already satisfied: six>=1.5 in c:\\users\\s.subramanian2\\anaconda3\\envs\\work1\\lib\\site-packages (from analytics-python->mitoinstaller) (1.16.0)\n",
      "Requirement already satisfied: idna<4,>=2.5 in c:\\users\\s.subramanian2\\anaconda3\\envs\\work1\\lib\\site-packages (from requests<3.0,>=2.7->analytics-python->mitoinstaller) (3.3)\n",
      "Requirement already satisfied: charset-normalizer~=2.0.0 in c:\\users\\s.subramanian2\\anaconda3\\envs\\work1\\lib\\site-packages (from requests<3.0,>=2.7->analytics-python->mitoinstaller) (2.0.7)\n",
      "Requirement already satisfied: urllib3<1.27,>=1.21.1 in c:\\users\\s.subramanian2\\anaconda3\\envs\\work1\\lib\\site-packages (from requests<3.0,>=2.7->analytics-python->mitoinstaller) (1.26.7)\n",
      "Requirement already satisfied: certifi>=2017.4.17 in c:\\users\\s.subramanian2\\anaconda3\\envs\\work1\\lib\\site-packages (from requests<3.0,>=2.7->analytics-python->mitoinstaller) (2021.10.8)\n",
      "Note: you may need to restart the kernel to use updated packages.\n"
     ]
    }
   ],
   "source": [
    "pip install mitoinstaller"
   ]
  },
  {
   "cell_type": "code",
   "execution_count": 2,
   "metadata": {},
   "outputs": [
    {
     "name": "stdout",
     "output_type": "stream",
     "text": [
      "Requirement already satisfied: mitoinstaller in c:\\users\\s.subramanian2\\anaconda3\\envs\\work1\\lib\\site-packages (0.0.161)\n",
      "Requirement already satisfied: termcolor in c:\\users\\s.subramanian2\\anaconda3\\envs\\work1\\lib\\site-packages (from mitoinstaller) (1.1.0)\n",
      "Requirement already satisfied: analytics-python in c:\\users\\s.subramanian2\\anaconda3\\envs\\work1\\lib\\site-packages (from mitoinstaller) (1.4.0)\n",
      "Requirement already satisfied: colorama in c:\\users\\s.subramanian2\\anaconda3\\envs\\work1\\lib\\site-packages (from mitoinstaller) (0.4.4)\n",
      "Requirement already satisfied: monotonic>=1.5 in c:\\users\\s.subramanian2\\anaconda3\\envs\\work1\\lib\\site-packages (from analytics-python->mitoinstaller) (1.6)\n",
      "Requirement already satisfied: backoff==1.10.0 in c:\\users\\s.subramanian2\\anaconda3\\envs\\work1\\lib\\site-packages (from analytics-python->mitoinstaller) (1.10.0)\n",
      "Requirement already satisfied: six>=1.5 in c:\\users\\s.subramanian2\\anaconda3\\envs\\work1\\lib\\site-packages (from analytics-python->mitoinstaller) (1.16.0)\n",
      "Requirement already satisfied: python-dateutil>2.1 in c:\\users\\s.subramanian2\\anaconda3\\envs\\work1\\lib\\site-packages (from analytics-python->mitoinstaller) (2.8.2)\n",
      "Requirement already satisfied: requests<3.0,>=2.7 in c:\\users\\s.subramanian2\\anaconda3\\envs\\work1\\lib\\site-packages (from analytics-python->mitoinstaller) (2.27.1)\n",
      "Requirement already satisfied: urllib3<1.27,>=1.21.1 in c:\\users\\s.subramanian2\\anaconda3\\envs\\work1\\lib\\site-packages (from requests<3.0,>=2.7->analytics-python->mitoinstaller) (1.26.7)\n",
      "Requirement already satisfied: idna<4,>=2.5 in c:\\users\\s.subramanian2\\anaconda3\\envs\\work1\\lib\\site-packages (from requests<3.0,>=2.7->analytics-python->mitoinstaller) (3.3)\n",
      "Requirement already satisfied: certifi>=2017.4.17 in c:\\users\\s.subramanian2\\anaconda3\\envs\\work1\\lib\\site-packages (from requests<3.0,>=2.7->analytics-python->mitoinstaller) (2021.10.8)\n",
      "Requirement already satisfied: charset-normalizer~=2.0.0 in c:\\users\\s.subramanian2\\anaconda3\\envs\\work1\\lib\\site-packages (from requests<3.0,>=2.7->analytics-python->mitoinstaller) (2.0.7)\n",
      "Note: you may need to restart the kernel to use updated packages.\n"
     ]
    }
   ],
   "source": [
    "pip install mitoinstaller\n"
   ]
  },
  {
   "cell_type": "code",
   "execution_count": 3,
   "metadata": {},
   "outputs": [
    {
     "ename": "ModuleNotFoundError",
     "evalue": "No module named 'mitosheet'",
     "output_type": "error",
     "traceback": [
      "\u001b[1;31m---------------------------------------------------------------------------\u001b[0m",
      "\u001b[1;31mModuleNotFoundError\u001b[0m                       Traceback (most recent call last)",
      "\u001b[1;32mC:\\Users\\S8782~1.SUB\\AppData\\Local\\Temp/ipykernel_15704/3956332474.py\u001b[0m in \u001b[0;36m<module>\u001b[1;34m\u001b[0m\n\u001b[1;32m----> 1\u001b[1;33m \u001b[1;32mimport\u001b[0m \u001b[0mmitosheet\u001b[0m\u001b[1;33m\u001b[0m\u001b[1;33m\u001b[0m\u001b[0m\n\u001b[0m\u001b[0;32m      2\u001b[0m \u001b[0mmitosheet\u001b[0m\u001b[1;33m.\u001b[0m\u001b[0msheet\u001b[0m\u001b[1;33m(\u001b[0m\u001b[1;33m)\u001b[0m\u001b[1;33m\u001b[0m\u001b[1;33m\u001b[0m\u001b[0m\n",
      "\u001b[1;31mModuleNotFoundError\u001b[0m: No module named 'mitosheet'"
     ]
    }
   ],
   "source": [
    "import mitosheet\n",
    "mitosheet.sheet()"
   ]
  }
 ],
 "metadata": {
  "interpreter": {
   "hash": "a772d6747e7b0a853677c045c718d96805722a1c0a953f769eeb8867ba6c0f40"
  },
  "kernelspec": {
   "display_name": "Python 3.8.12 ('work1')",
   "language": "python",
   "name": "python3"
  },
  "language_info": {
   "codemirror_mode": {
    "name": "ipython",
    "version": 3
   },
   "file_extension": ".py",
   "mimetype": "text/x-python",
   "name": "python",
   "nbconvert_exporter": "python",
   "pygments_lexer": "ipython3",
   "version": "3.8.12"
  },
  "orig_nbformat": 4
 },
 "nbformat": 4,
 "nbformat_minor": 2
}
