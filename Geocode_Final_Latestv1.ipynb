{
 "cells": [
  {
   "cell_type": "code",
   "execution_count": 12,
   "metadata": {},
   "outputs": [],
   "source": [
    "import requests\n",
    "import csv\n",
    "import json\n",
    "import pandas\n",
    "from pandas import DataFrame\n",
    "import os"
   ]
  },
  {
   "cell_type": "code",
   "execution_count": 13,
   "metadata": {},
   "outputs": [],
   "source": [
    "#set folder path to where the new files should go\n",
    "os.chdir('C:/Users/S.Subramanian2/PyCode/TEST/')"
   ]
  },
  {
   "cell_type": "code",
   "execution_count": 14,
   "metadata": {},
   "outputs": [],
   "source": [
    "# Bing Maps Key \n",
    "bingMapsKey = \"Ag7D1tdmOwcx6yD-pPbNxdbiKDueh-QBlK4LfLGLvG4tlioOAMZNz3ZANFv6QxBh\""
   ]
  },
  {
   "cell_type": "code",
   "execution_count": 15,
   "metadata": {},
   "outputs": [],
   "source": [
    "outputfile = open('HA_LatLongOutput.csv', 'w', newline='')"
   ]
  },
  {
   "cell_type": "code",
   "execution_count": 16,
   "metadata": {},
   "outputs": [],
   "source": [
    "csvwriter = csv.writer(outputfile)"
   ]
  },
  {
   "cell_type": "code",
   "execution_count": 17,
   "metadata": {},
   "outputs": [],
   "source": [
    "header = [\"Bing Coordinates\", \"Bing Address\", \"Address Confidence\"]"
   ]
  },
  {
   "cell_type": "code",
   "execution_count": 18,
   "metadata": {},
   "outputs": [
    {
     "data": {
      "text/plain": [
       "50"
      ]
     },
     "execution_count": 18,
     "metadata": {},
     "output_type": "execute_result"
    }
   ],
   "source": [
    "csvwriter.writerow(header)"
   ]
  },
  {
   "cell_type": "code",
   "execution_count": 19,
   "metadata": {},
   "outputs": [],
   "source": [
    "payload = {'type': 'adminVM', 'pageSize': '100', 'filter': 'status==POWERED_ON'}"
   ]
  },
  {
   "cell_type": "code",
   "execution_count": 20,
   "metadata": {},
   "outputs": [
    {
     "name": "stdout",
     "output_type": "stream",
     "text": [
      "Processing Input Line: 1 of 12\n",
      "Processing Input Line: 2 of 12\n",
      "Processing Input Line: 3 of 12\n",
      "Processing Input Line: 4 of 12\n",
      "Processing Input Line: 5 of 12\n",
      "Processing Input Line: 6 of 12\n",
      "Processing Input Line: 7 of 12\n",
      "Processing Input Line: 8 of 12\n",
      "Processing Input Line: 9 of 12\n",
      "Processing Input Line: 10 of 12\n",
      "Processing Input Line: 11 of 12\n",
      "Processing Input Line: 12 of 12\n",
      "Finished Processing\n",
      "Creating Files...\n",
      "Total processing errors: 0\n",
      "Complete\n"
     ]
    }
   ],
   "source": [
    "# opening input file, pulling data from Bing API json requests and writing to the output file\n",
    "with open(\"C:/Users/S.Subramanian2/PyCode/TEST/to_geocode.csv\") as csvfile: \n",
    "\trowreader = csv.reader(csvfile)\n",
    "\ttotalrows = -1\n",
    "\tfor row in rowreader:\n",
    "\t\ttotalrows += 1\t\t\n",
    "\t\n",
    "with open(\"C:/Users/S.Subramanian2/PyCode/TEST/to_geocode.csv\") as csvfile: \n",
    "\treader = csv.DictReader(csvfile)\n",
    "\tcounter = 0\n",
    "\terrorcount = 0\n",
    "\ttotalrows = int(totalrows)\n",
    "\tif counter <= totalrows:\n",
    "\t\tfor row in reader:\n",
    "\t\t\t\n",
    "\t\t\ttry:\n",
    "\t\t\t\tcounter += 1\n",
    "\t\t\t\tprint(\"Processing Input Line: \" + str(counter) + \" of \" + str(totalrows))\n",
    "\t\t\t\tState = row['State']\n",
    "\t\t\t\tCity = row['City']\n",
    "\t\t\t\t#Zip = row['Zip']\n",
    "\t\t\t\tAddressLine = row['AddressLine']\n",
    "\t\t\t\trouteUrl = \"http://dev.virtualearth.net/REST/v1/Locations/\" + State + \"/\" + City + \"/\" + AddressLine + \"?o=json&key=\" + bingMapsKey  #add zip into the request url if using zip codes\n",
    "\t\t\t\tpage = requests.get((routeUrl), params=payload, verify=False).json()\n",
    "\t\t\t\tbingCoordinates = (page['resourceSets'][0]['resources'][0]['point']['coordinates'])\n",
    "\t\t\t\tbingCoordinates = str(bingCoordinates)\n",
    "\t\t\t\t\n",
    "\t\t\t\t#outputs actual address pulled as a result of the Bing request - corresponding to coordinates pulled\n",
    "\t\t\t\tbingAddress = (page['resourceSets'][0]['resources'][0]['address']['formattedAddress'])\n",
    "\t\t\t\t\n",
    "\t\t\t\t#outputs high/medium/low measure of accuracy\n",
    "\t\t\t\taddressConfidence = (page['resourceSets'][0]['resources'][0]['confidence'])\n",
    "\n",
    "\t\t\t\t#outputs high/medium/low measure of accuracy\n",
    "\t\t\t\taddressName = (page['resourceSets'][0]['resources'][0]['confidence'])\n",
    "\t\t\t\t\n",
    "\t\t\texcept:\n",
    "\t\t\t\tprint(\"Error processing\")\n",
    "\t\t\t\terrorcount +=1\n",
    "\t\t\t\tbingCoordinates = (\"Error\")\n",
    "\t\t\t\tbingAddress = \"Error\"\n",
    "\t\t\t\taddressConfidence = \"Error\"\n",
    "\t\t\t\t\n",
    "\t\t\twith open('HA_LatLongOutput.csv') as f:\n",
    "\t\t\t\tvalues = bingCoordinates, bingAddress, addressConfidence\n",
    "\t\t\t\tcsvwriter.writerow(values)\n",
    "\t\t\n",
    "outputfile.close()\n",
    "print(\"Finished Processing\")\n",
    "print(\"Creating Files...\")\n",
    "\n",
    "#append output file to inputfile\n",
    "left = pandas.read_csv(\"C:/Users/S.Subramanian2/PyCode/TEST/to_geocode.csv\", encoding = \"ISO-8859-1\")\n",
    "right = pandas.read_csv('HA_LatLongOutput.csv', encoding = \"ISO-8859-1\")\n",
    "result = left.join(right, how=\"inner\")\n",
    "result.to_csv('HA_LatLongOutputFinal.csv', index=False)\n",
    "\n",
    "print(\"Total processing errors: \" + str(errorcount))\n",
    "print(\"Complete\")"
   ]
  }
 ],
 "metadata": {
  "interpreter": {
   "hash": "0fde93143231d7c82c2c8436e6eb2105fcf5c04bf8b8c1509b497d4b16eaae34"
  },
  "kernelspec": {
   "display_name": "Python 3.8.12 64-bit ('work1': conda)",
   "language": "python",
   "name": "python3"
  },
  "language_info": {
   "codemirror_mode": {
    "name": "ipython",
    "version": 3
   },
   "file_extension": ".py",
   "mimetype": "text/x-python",
   "name": "python",
   "nbconvert_exporter": "python",
   "pygments_lexer": "ipython3",
   "version": "3.8.12"
  },
  "orig_nbformat": 4
 },
 "nbformat": 4,
 "nbformat_minor": 2
}
