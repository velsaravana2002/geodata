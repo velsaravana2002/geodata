{
 "cells": [
  {
   "cell_type": "code",
   "execution_count": 110,
   "metadata": {},
   "outputs": [
    {
     "name": "stdout",
     "output_type": "stream",
     "text": [
      "Requirement already satisfied: plotly_express in c:\\users\\s.subramanian2\\anaconda3\\envs\\work1\\lib\\site-packages (0.4.1)\n",
      "Requirement already satisfied: scipy>=0.18 in c:\\users\\s.subramanian2\\anaconda3\\envs\\work1\\lib\\site-packages (from plotly_express) (1.7.1)\n",
      "Requirement already satisfied: numpy>=1.11 in c:\\users\\s.subramanian2\\anaconda3\\envs\\work1\\lib\\site-packages (from plotly_express) (1.21.2)\n",
      "Requirement already satisfied: patsy>=0.5 in c:\\users\\s.subramanian2\\anaconda3\\envs\\work1\\lib\\site-packages (from plotly_express) (0.5.2)\n",
      "Requirement already satisfied: statsmodels>=0.9.0 in c:\\users\\s.subramanian2\\anaconda3\\envs\\work1\\lib\\site-packages (from plotly_express) (0.13.0)\n",
      "Note: you may need to restart the kernel to use updated packages.Requirement already satisfied: pandas>=0.20.0 in c:\\users\\s.subramanian2\\anaconda3\\envs\\work1\\lib\\site-packages (from plotly_express) (1.3.4)\n",
      "\n",
      "Requirement already satisfied: plotly>=4.1.0 in c:\\users\\s.subramanian2\\anaconda3\\envs\\work1\\lib\\site-packages (from plotly_express) (5.3.1)time: 1.45 s (started: 2021-11-11 22:51:02 +05:30)\n",
      "Requirement already satisfied: python-dateutil>=2.7.3 in c:\\users\\s.subramanian2\\anaconda3\\envs\\work1\\lib\\site-packages (from pandas>=0.20.0->plotly_express) (2.8.2)\n",
      "\n",
      "Requirement already satisfied: pytz>=2017.3 in c:\\users\\s.subramanian2\\anaconda3\\envs\\work1\\lib\\site-packages (from pandas>=0.20.0->plotly_express) (2021.3)\n",
      "Requirement already satisfied: six in c:\\users\\s.subramanian2\\anaconda3\\envs\\work1\\lib\\site-packages (from patsy>=0.5->plotly_express) (1.16.0)\n",
      "Requirement already satisfied: tenacity>=6.2.0 in c:\\users\\s.subramanian2\\anaconda3\\envs\\work1\\lib\\site-packages (from plotly>=4.1.0->plotly_express) (8.0.1)\n"
     ]
    }
   ],
   "source": [
    "pip install plotly_express"
   ]
  },
  {
   "cell_type": "code",
   "execution_count": 111,
   "metadata": {},
   "outputs": [
    {
     "name": "stdout",
     "output_type": "stream",
     "text": [
      "Collecting package metadata (current_repodata.json): ...working... done\n",
      "Solving environment: ...working... done\n",
      "\n",
      "# All requested packages already installed.\n",
      "\n",
      "\n",
      "Note: you may need to restart the kernel to use updated packages.\n",
      "time: 13.9 s (started: 2021-11-11 22:51:03 +05:30)\n"
     ]
    }
   ],
   "source": [
    "conda install -c conda-forge tqdm"
   ]
  },
  {
   "cell_type": "code",
   "execution_count": 112,
   "metadata": {},
   "outputs": [
    {
     "name": "stdout",
     "output_type": "stream",
     "text": [
      "Requirement already satisfied: tqdm in c:\\users\\s.subramanian2\\anaconda3\\envs\\work1\\lib\\site-packages (4.36.0)\n",
      "Note: you may need to restart the kernel to use updated packages.\n",
      "time: 1.42 s (started: 2021-11-11 22:51:17 +05:30)\n"
     ]
    }
   ],
   "source": [
    "pip install tqdm"
   ]
  },
  {
   "cell_type": "code",
   "execution_count": 113,
   "metadata": {},
   "outputs": [
    {
     "name": "stdout",
     "output_type": "stream",
     "text": [
      "Note: you may need to restart the kernel to use updated packages.\n",
      "time: 1.42 s (started: 2021-11-11 22:51:19 +05:30)\n"
     ]
    }
   ],
   "source": [
    "pip install descartes --quiet"
   ]
  },
  {
   "cell_type": "code",
   "execution_count": 114,
   "metadata": {},
   "outputs": [
    {
     "name": "stdout",
     "output_type": "stream",
     "text": [
      "Requirement already satisfied: tqdm==4.36.0 in c:\\users\\s.subramanian2\\anaconda3\\envs\\work1\\lib\\site-packages (4.36.0)\n",
      "Note: you may need to restart the kernel to use updated packages.\n",
      "time: 1.42 s (started: 2021-11-11 22:51:20 +05:30)\n"
     ]
    }
   ],
   "source": [
    "pip install tqdm==4.36.0"
   ]
  },
  {
   "cell_type": "code",
   "execution_count": 4,
   "metadata": {},
   "outputs": [
    {
     "name": "stdout",
     "output_type": "stream",
     "text": [
      "time: 2.44 s (started: 2022-06-02 17:15:27 +05:30)\n"
     ]
    },
    {
     "name": "stderr",
     "output_type": "stream",
     "text": [
      "C:\\Users\\S8782~1.SUB\\AppData\\Local\\Temp/ipykernel_15572/314965907.py:13: TqdmDeprecationWarning: This function will be removed in tqdm==5.0.0\n",
      "Please use `tqdm.notebook.*` instead of `tqdm._tqdm_notebook.*`\n",
      "  from tqdm._tqdm_notebook import tqdm_notebook\n"
     ]
    }
   ],
   "source": [
    "%load_ext autotime\n",
    "import pandas as pd\n",
    "\n",
    "import geopandas as gpd\n",
    "import geopy\n",
    "from geopy.geocoders import Nominatim\n",
    "from geopy.extra.rate_limiter import RateLimiter\n",
    "\n",
    "import matplotlib.pyplot as plt\n",
    "import plotly_express as px\n",
    "import tqdm\n",
    "from tqdm import tqdm\n",
    "from tqdm._tqdm_notebook import tqdm_notebook"
   ]
  },
  {
   "cell_type": "code",
   "execution_count": 5,
   "metadata": {},
   "outputs": [
    {
     "name": "stdout",
     "output_type": "stream",
     "text": [
      "time: 1.14 s (started: 2022-06-02 17:16:29 +05:30)\n"
     ]
    }
   ],
   "source": [
    "locator = Nominatim(user_agent=\"myGeocoder\")\n",
    "coordinates = \"53.480837, -2.244914\"\n",
    "location = locator.reverse(coordinates)"
   ]
  },
  {
   "cell_type": "code",
   "execution_count": 6,
   "metadata": {},
   "outputs": [
    {
     "data": {
      "text/plain": [
       "{'place_id': 111239153,\n",
       " 'licence': 'Data © OpenStreetMap contributors, ODbL 1.0. https://osm.org/copyright',\n",
       " 'osm_type': 'way',\n",
       " 'osm_id': 37139875,\n",
       " 'lat': '53.4809609',\n",
       " 'lon': '-2.2450805553523505',\n",
       " 'display_name': '68, Cross Street, Civic Quarter, City Centre, Manchester, North West England, England, M2 4NJ, United Kingdom',\n",
       " 'address': {'house_number': '68',\n",
       "  'road': 'Cross Street',\n",
       "  'neighbourhood': 'Civic Quarter',\n",
       "  'suburb': 'City Centre',\n",
       "  'city': 'Manchester',\n",
       "  'ISO3166-2-lvl8': 'GB-MAN',\n",
       "  'state_district': 'North West England',\n",
       "  'state': 'England',\n",
       "  'ISO3166-2-lvl4': 'GB-ENG',\n",
       "  'postcode': 'M2 4NJ',\n",
       "  'country': 'United Kingdom',\n",
       "  'country_code': 'gb'},\n",
       " 'boundingbox': ['53.4808484', '53.4810728', '-2.2451942', '-2.2449675']}"
      ]
     },
     "execution_count": 6,
     "metadata": {},
     "output_type": "execute_result"
    },
    {
     "name": "stdout",
     "output_type": "stream",
     "text": [
      "time: 0 ns (started: 2022-06-02 17:16:34 +05:30)\n"
     ]
    }
   ],
   "source": [
    "location.raw"
   ]
  },
  {
   "cell_type": "code",
   "execution_count": 7,
   "metadata": {},
   "outputs": [
    {
     "name": "stdout",
     "output_type": "stream",
     "text": [
      "68, Cross Street, Civic Quarter, City Centre, Manchester, North West England, England, M2 4NJ, United Kingdom\n",
      "time: 0 ns (started: 2022-06-02 17:16:38 +05:30)\n"
     ]
    }
   ],
   "source": [
    "print(location.address)"
   ]
  },
  {
   "cell_type": "code",
   "execution_count": 8,
   "metadata": {},
   "outputs": [
    {
     "data": {
      "text/plain": [
       "'68, Cross Street, Civic Quarter, City Centre, Manchester, North West England, England, M2 4NJ, United Kingdom'"
      ]
     },
     "execution_count": 8,
     "metadata": {},
     "output_type": "execute_result"
    },
    {
     "name": "stdout",
     "output_type": "stream",
     "text": [
      "time: 0 ns (started: 2022-06-02 17:16:41 +05:30)\n"
     ]
    }
   ],
   "source": [
    "location.raw[\"display_name\"]"
   ]
  },
  {
   "cell_type": "code",
   "execution_count": 9,
   "metadata": {},
   "outputs": [
    {
     "data": {
      "text/html": [
       "<div>\n",
       "<style scoped>\n",
       "    .dataframe tbody tr th:only-of-type {\n",
       "        vertical-align: middle;\n",
       "    }\n",
       "\n",
       "    .dataframe tbody tr th {\n",
       "        vertical-align: top;\n",
       "    }\n",
       "\n",
       "    .dataframe thead th {\n",
       "        text-align: right;\n",
       "    }\n",
       "</style>\n",
       "<table border=\"1\" class=\"dataframe\">\n",
       "  <thead>\n",
       "    <tr style=\"text-align: right;\">\n",
       "      <th></th>\n",
       "      <th>Unnamed: 0</th>\n",
       "      <th>Vendor</th>\n",
       "      <th>Country</th>\n",
       "      <th>Country Text</th>\n",
       "      <th>Name 1</th>\n",
       "      <th>City</th>\n",
       "      <th>District</th>\n",
       "      <th>PO Box</th>\n",
       "      <th>Postal Code</th>\n",
       "      <th>Region</th>\n",
       "      <th>Region Text</th>\n",
       "      <th>Street</th>\n",
       "      <th>Account group</th>\n",
       "      <th>ADDRESS</th>\n",
       "      <th>location</th>\n",
       "      <th>point</th>\n",
       "      <th>latitude</th>\n",
       "      <th>longitude</th>\n",
       "      <th>altitude</th>\n",
       "    </tr>\n",
       "  </thead>\n",
       "  <tbody>\n",
       "    <tr>\n",
       "      <th>0</th>\n",
       "      <td>0</td>\n",
       "      <td>68001139</td>\n",
       "      <td>GB</td>\n",
       "      <td>United Kingdom</td>\n",
       "      <td>ENERGY INSTITUTE</td>\n",
       "      <td>LONDON</td>\n",
       "      <td>NaN</td>\n",
       "      <td>NaN</td>\n",
       "      <td>W1G7AR</td>\n",
       "      <td>NaN</td>\n",
       "      <td>NaN</td>\n",
       "      <td>61 NEW CAVENDISH STREET</td>\n",
       "      <td>YVND</td>\n",
       "      <td>61 NEW CAVENDISH STREET LONDON United Kingdom</td>\n",
       "      <td>Energy Institute, 61, New Cavendish Street, Ma...</td>\n",
       "      <td>(51.5197723, -0.146410873721238, 0.0)</td>\n",
       "      <td>51.519772</td>\n",
       "      <td>-0.146411</td>\n",
       "      <td>0</td>\n",
       "    </tr>\n",
       "    <tr>\n",
       "      <th>1</th>\n",
       "      <td>1</td>\n",
       "      <td>68001272</td>\n",
       "      <td>GB</td>\n",
       "      <td>United Kingdom</td>\n",
       "      <td>DEMATIC LIMITED</td>\n",
       "      <td>BANBURY</td>\n",
       "      <td>NaN</td>\n",
       "      <td>NaN</td>\n",
       "      <td>OX161QZ</td>\n",
       "      <td>OXF</td>\n",
       "      <td>Oxfordshire</td>\n",
       "      <td>BEAUMONT ROAD</td>\n",
       "      <td>YVND</td>\n",
       "      <td>BEAUMONT ROAD BANBURY United Kingdom</td>\n",
       "      <td>Beaumont Road, Ruscote, Banbury, Cherwell, Oxf...</td>\n",
       "      <td>(52.0715604, -1.3441869, 0.0)</td>\n",
       "      <td>52.071560</td>\n",
       "      <td>-1.344187</td>\n",
       "      <td>0</td>\n",
       "    </tr>\n",
       "    <tr>\n",
       "      <th>2</th>\n",
       "      <td>5</td>\n",
       "      <td>68001397</td>\n",
       "      <td>GB</td>\n",
       "      <td>United Kingdom</td>\n",
       "      <td>ENDRESS AND HAUSER LIMITED</td>\n",
       "      <td>MANCHESTER</td>\n",
       "      <td>NaN</td>\n",
       "      <td>NaN</td>\n",
       "      <td>M239NF</td>\n",
       "      <td>NaN</td>\n",
       "      <td>NaN</td>\n",
       "      <td>FLOATS ROAD</td>\n",
       "      <td>YVND</td>\n",
       "      <td>FLOATS ROAD MANCHESTER United Kingdom</td>\n",
       "      <td>Floats Road, Newall Green, Wythenshawe, Manche...</td>\n",
       "      <td>(53.3912029, -2.295845, 0.0)</td>\n",
       "      <td>53.391203</td>\n",
       "      <td>-2.295845</td>\n",
       "      <td>0</td>\n",
       "    </tr>\n",
       "    <tr>\n",
       "      <th>3</th>\n",
       "      <td>6</td>\n",
       "      <td>68001407</td>\n",
       "      <td>GB</td>\n",
       "      <td>United Kingdom</td>\n",
       "      <td>PEPPERL AND FUCHS GB LIMITED</td>\n",
       "      <td>OLDHAM</td>\n",
       "      <td>NaN</td>\n",
       "      <td>NaN</td>\n",
       "      <td>OL14EL</td>\n",
       "      <td>LAN</td>\n",
       "      <td>Lancashire</td>\n",
       "      <td>77 RIPPONDEN ROAD</td>\n",
       "      <td>YVND</td>\n",
       "      <td>77 RIPPONDEN ROAD OLDHAM United Kingdom</td>\n",
       "      <td>Ripponden Road, Saddleworth, Oldham, Greater M...</td>\n",
       "      <td>(53.624561, -2.0264462, 0.0)</td>\n",
       "      <td>53.624561</td>\n",
       "      <td>-2.026446</td>\n",
       "      <td>0</td>\n",
       "    </tr>\n",
       "    <tr>\n",
       "      <th>4</th>\n",
       "      <td>7</td>\n",
       "      <td>68001442</td>\n",
       "      <td>GB</td>\n",
       "      <td>United Kingdom</td>\n",
       "      <td>CLEVELAND CABLE COMPANY LIMITED</td>\n",
       "      <td>MIDDLESBROUGH</td>\n",
       "      <td>NaN</td>\n",
       "      <td>NaN</td>\n",
       "      <td>TS21QW</td>\n",
       "      <td>CLV</td>\n",
       "      <td>Cleveland</td>\n",
       "      <td>RIVERSIDE PARK ROAD</td>\n",
       "      <td>YVND</td>\n",
       "      <td>RIVERSIDE PARK ROAD MIDDLESBROUGH United Kingdom</td>\n",
       "      <td>Riverside Park Road, Linthorpe, Middlesbrough,...</td>\n",
       "      <td>(54.5713883, -1.2571988, 0.0)</td>\n",
       "      <td>54.571388</td>\n",
       "      <td>-1.257199</td>\n",
       "      <td>0</td>\n",
       "    </tr>\n",
       "  </tbody>\n",
       "</table>\n",
       "</div>"
      ],
      "text/plain": [
       "   Unnamed: 0    Vendor Country    Country Text  \\\n",
       "0           0  68001139      GB  United Kingdom   \n",
       "1           1  68001272      GB  United Kingdom   \n",
       "2           5  68001397      GB  United Kingdom   \n",
       "3           6  68001407      GB  United Kingdom   \n",
       "4           7  68001442      GB  United Kingdom   \n",
       "\n",
       "                            Name 1           City District PO Box Postal Code  \\\n",
       "0                 ENERGY INSTITUTE         LONDON      NaN    NaN      W1G7AR   \n",
       "1                  DEMATIC LIMITED        BANBURY      NaN    NaN     OX161QZ   \n",
       "2       ENDRESS AND HAUSER LIMITED     MANCHESTER      NaN    NaN      M239NF   \n",
       "3     PEPPERL AND FUCHS GB LIMITED         OLDHAM      NaN    NaN      OL14EL   \n",
       "4  CLEVELAND CABLE COMPANY LIMITED  MIDDLESBROUGH      NaN    NaN      TS21QW   \n",
       "\n",
       "  Region  Region Text                   Street Account group  \\\n",
       "0    NaN          NaN  61 NEW CAVENDISH STREET          YVND   \n",
       "1    OXF  Oxfordshire            BEAUMONT ROAD          YVND   \n",
       "2    NaN          NaN              FLOATS ROAD          YVND   \n",
       "3    LAN   Lancashire        77 RIPPONDEN ROAD          YVND   \n",
       "4    CLV    Cleveland      RIVERSIDE PARK ROAD          YVND   \n",
       "\n",
       "                                            ADDRESS  \\\n",
       "0     61 NEW CAVENDISH STREET LONDON United Kingdom   \n",
       "1              BEAUMONT ROAD BANBURY United Kingdom   \n",
       "2             FLOATS ROAD MANCHESTER United Kingdom   \n",
       "3           77 RIPPONDEN ROAD OLDHAM United Kingdom   \n",
       "4  RIVERSIDE PARK ROAD MIDDLESBROUGH United Kingdom   \n",
       "\n",
       "                                            location  \\\n",
       "0  Energy Institute, 61, New Cavendish Street, Ma...   \n",
       "1  Beaumont Road, Ruscote, Banbury, Cherwell, Oxf...   \n",
       "2  Floats Road, Newall Green, Wythenshawe, Manche...   \n",
       "3  Ripponden Road, Saddleworth, Oldham, Greater M...   \n",
       "4  Riverside Park Road, Linthorpe, Middlesbrough,...   \n",
       "\n",
       "                                   point   latitude  longitude  altitude  \n",
       "0  (51.5197723, -0.146410873721238, 0.0)  51.519772  -0.146411         0  \n",
       "1          (52.0715604, -1.3441869, 0.0)  52.071560  -1.344187         0  \n",
       "2           (53.3912029, -2.295845, 0.0)  53.391203  -2.295845         0  \n",
       "3           (53.624561, -2.0264462, 0.0)  53.624561  -2.026446         0  \n",
       "4          (54.5713883, -1.2571988, 0.0)  54.571388  -1.257199         0  "
      ]
     },
     "execution_count": 9,
     "metadata": {},
     "output_type": "execute_result"
    },
    {
     "name": "stdout",
     "output_type": "stream",
     "text": [
      "time: 32 ms (started: 2022-06-02 17:16:45 +05:30)\n"
     ]
    }
   ],
   "source": [
    "df = pd.read_csv(\"2.vendor.csv\")\n",
    "df.head()"
   ]
  },
  {
   "cell_type": "code",
   "execution_count": 121,
   "metadata": {},
   "outputs": [
    {
     "data": {
      "text/plain": [
       "Index(['Unnamed: 0', 'Vendor', 'Country', 'Country Text', 'Name 1', 'City',\n",
       "       'District', 'PO Box', 'Postal Code', 'Region', 'Region Text', 'Street',\n",
       "       'Account group', 'ADDRESS', 'location', 'point', 'latitude',\n",
       "       'longitude', 'altitude'],\n",
       "      dtype='object')"
      ]
     },
     "execution_count": 121,
     "metadata": {},
     "output_type": "execute_result"
    },
    {
     "name": "stdout",
     "output_type": "stream",
     "text": [
      "time: 0 ns (started: 2021-11-11 22:51:23 +05:30)\n"
     ]
    }
   ],
   "source": [
    "df.columns"
   ]
  },
  {
   "cell_type": "code",
   "execution_count": 122,
   "metadata": {},
   "outputs": [
    {
     "name": "stdout",
     "output_type": "stream",
     "text": [
      "time: 0 ns (started: 2021-11-11 22:51:23 +05:30)\n"
     ]
    }
   ],
   "source": [
    "df = df.drop(['Account group', 'ADDRESS'], axis=1)"
   ]
  },
  {
   "cell_type": "code",
   "execution_count": 123,
   "metadata": {},
   "outputs": [
    {
     "data": {
      "text/html": [
       "<div>\n",
       "<style scoped>\n",
       "    .dataframe tbody tr th:only-of-type {\n",
       "        vertical-align: middle;\n",
       "    }\n",
       "\n",
       "    .dataframe tbody tr th {\n",
       "        vertical-align: top;\n",
       "    }\n",
       "\n",
       "    .dataframe thead th {\n",
       "        text-align: right;\n",
       "    }\n",
       "</style>\n",
       "<table border=\"1\" class=\"dataframe\">\n",
       "  <thead>\n",
       "    <tr style=\"text-align: right;\">\n",
       "      <th></th>\n",
       "      <th>Unnamed: 0</th>\n",
       "      <th>Vendor</th>\n",
       "      <th>Country</th>\n",
       "      <th>Country Text</th>\n",
       "      <th>Name 1</th>\n",
       "      <th>City</th>\n",
       "      <th>District</th>\n",
       "      <th>PO Box</th>\n",
       "      <th>Postal Code</th>\n",
       "      <th>Region</th>\n",
       "      <th>Region Text</th>\n",
       "      <th>Street</th>\n",
       "      <th>location</th>\n",
       "      <th>point</th>\n",
       "      <th>latitude</th>\n",
       "      <th>longitude</th>\n",
       "      <th>altitude</th>\n",
       "    </tr>\n",
       "  </thead>\n",
       "  <tbody>\n",
       "    <tr>\n",
       "      <th>0</th>\n",
       "      <td>0</td>\n",
       "      <td>68001139</td>\n",
       "      <td>GB</td>\n",
       "      <td>United Kingdom</td>\n",
       "      <td>ENERGY INSTITUTE</td>\n",
       "      <td>LONDON</td>\n",
       "      <td>NaN</td>\n",
       "      <td>NaN</td>\n",
       "      <td>W1G7AR</td>\n",
       "      <td>NaN</td>\n",
       "      <td>NaN</td>\n",
       "      <td>61 NEW CAVENDISH STREET</td>\n",
       "      <td>Energy Institute, 61, New Cavendish Street, Ma...</td>\n",
       "      <td>(51.5197723, -0.146410873721238, 0.0)</td>\n",
       "      <td>51.519772</td>\n",
       "      <td>-0.146411</td>\n",
       "      <td>0</td>\n",
       "    </tr>\n",
       "    <tr>\n",
       "      <th>1</th>\n",
       "      <td>1</td>\n",
       "      <td>68001272</td>\n",
       "      <td>GB</td>\n",
       "      <td>United Kingdom</td>\n",
       "      <td>DEMATIC LIMITED</td>\n",
       "      <td>BANBURY</td>\n",
       "      <td>NaN</td>\n",
       "      <td>NaN</td>\n",
       "      <td>OX161QZ</td>\n",
       "      <td>OXF</td>\n",
       "      <td>Oxfordshire</td>\n",
       "      <td>BEAUMONT ROAD</td>\n",
       "      <td>Beaumont Road, Ruscote, Banbury, Cherwell, Oxf...</td>\n",
       "      <td>(52.0715604, -1.3441869, 0.0)</td>\n",
       "      <td>52.071560</td>\n",
       "      <td>-1.344187</td>\n",
       "      <td>0</td>\n",
       "    </tr>\n",
       "    <tr>\n",
       "      <th>2</th>\n",
       "      <td>5</td>\n",
       "      <td>68001397</td>\n",
       "      <td>GB</td>\n",
       "      <td>United Kingdom</td>\n",
       "      <td>ENDRESS AND HAUSER LIMITED</td>\n",
       "      <td>MANCHESTER</td>\n",
       "      <td>NaN</td>\n",
       "      <td>NaN</td>\n",
       "      <td>M239NF</td>\n",
       "      <td>NaN</td>\n",
       "      <td>NaN</td>\n",
       "      <td>FLOATS ROAD</td>\n",
       "      <td>Floats Road, Newall Green, Wythenshawe, Manche...</td>\n",
       "      <td>(53.3912029, -2.295845, 0.0)</td>\n",
       "      <td>53.391203</td>\n",
       "      <td>-2.295845</td>\n",
       "      <td>0</td>\n",
       "    </tr>\n",
       "    <tr>\n",
       "      <th>3</th>\n",
       "      <td>6</td>\n",
       "      <td>68001407</td>\n",
       "      <td>GB</td>\n",
       "      <td>United Kingdom</td>\n",
       "      <td>PEPPERL AND FUCHS GB LIMITED</td>\n",
       "      <td>OLDHAM</td>\n",
       "      <td>NaN</td>\n",
       "      <td>NaN</td>\n",
       "      <td>OL14EL</td>\n",
       "      <td>LAN</td>\n",
       "      <td>Lancashire</td>\n",
       "      <td>77 RIPPONDEN ROAD</td>\n",
       "      <td>Ripponden Road, Saddleworth, Oldham, Greater M...</td>\n",
       "      <td>(53.624561, -2.0264462, 0.0)</td>\n",
       "      <td>53.624561</td>\n",
       "      <td>-2.026446</td>\n",
       "      <td>0</td>\n",
       "    </tr>\n",
       "    <tr>\n",
       "      <th>4</th>\n",
       "      <td>7</td>\n",
       "      <td>68001442</td>\n",
       "      <td>GB</td>\n",
       "      <td>United Kingdom</td>\n",
       "      <td>CLEVELAND CABLE COMPANY LIMITED</td>\n",
       "      <td>MIDDLESBROUGH</td>\n",
       "      <td>NaN</td>\n",
       "      <td>NaN</td>\n",
       "      <td>TS21QW</td>\n",
       "      <td>CLV</td>\n",
       "      <td>Cleveland</td>\n",
       "      <td>RIVERSIDE PARK ROAD</td>\n",
       "      <td>Riverside Park Road, Linthorpe, Middlesbrough,...</td>\n",
       "      <td>(54.5713883, -1.2571988, 0.0)</td>\n",
       "      <td>54.571388</td>\n",
       "      <td>-1.257199</td>\n",
       "      <td>0</td>\n",
       "    </tr>\n",
       "  </tbody>\n",
       "</table>\n",
       "</div>"
      ],
      "text/plain": [
       "   Unnamed: 0    Vendor Country    Country Text  \\\n",
       "0           0  68001139      GB  United Kingdom   \n",
       "1           1  68001272      GB  United Kingdom   \n",
       "2           5  68001397      GB  United Kingdom   \n",
       "3           6  68001407      GB  United Kingdom   \n",
       "4           7  68001442      GB  United Kingdom   \n",
       "\n",
       "                            Name 1           City District PO Box Postal Code  \\\n",
       "0                 ENERGY INSTITUTE         LONDON      NaN    NaN      W1G7AR   \n",
       "1                  DEMATIC LIMITED        BANBURY      NaN    NaN     OX161QZ   \n",
       "2       ENDRESS AND HAUSER LIMITED     MANCHESTER      NaN    NaN      M239NF   \n",
       "3     PEPPERL AND FUCHS GB LIMITED         OLDHAM      NaN    NaN      OL14EL   \n",
       "4  CLEVELAND CABLE COMPANY LIMITED  MIDDLESBROUGH      NaN    NaN      TS21QW   \n",
       "\n",
       "  Region  Region Text                   Street  \\\n",
       "0    NaN          NaN  61 NEW CAVENDISH STREET   \n",
       "1    OXF  Oxfordshire            BEAUMONT ROAD   \n",
       "2    NaN          NaN              FLOATS ROAD   \n",
       "3    LAN   Lancashire        77 RIPPONDEN ROAD   \n",
       "4    CLV    Cleveland      RIVERSIDE PARK ROAD   \n",
       "\n",
       "                                            location  \\\n",
       "0  Energy Institute, 61, New Cavendish Street, Ma...   \n",
       "1  Beaumont Road, Ruscote, Banbury, Cherwell, Oxf...   \n",
       "2  Floats Road, Newall Green, Wythenshawe, Manche...   \n",
       "3  Ripponden Road, Saddleworth, Oldham, Greater M...   \n",
       "4  Riverside Park Road, Linthorpe, Middlesbrough,...   \n",
       "\n",
       "                                   point   latitude  longitude  altitude  \n",
       "0  (51.5197723, -0.146410873721238, 0.0)  51.519772  -0.146411         0  \n",
       "1          (52.0715604, -1.3441869, 0.0)  52.071560  -1.344187         0  \n",
       "2           (53.3912029, -2.295845, 0.0)  53.391203  -2.295845         0  \n",
       "3           (53.624561, -2.0264462, 0.0)  53.624561  -2.026446         0  \n",
       "4          (54.5713883, -1.2571988, 0.0)  54.571388  -1.257199         0  "
      ]
     },
     "execution_count": 123,
     "metadata": {},
     "output_type": "execute_result"
    },
    {
     "name": "stdout",
     "output_type": "stream",
     "text": [
      "time: 16 ms (started: 2021-11-11 22:51:23 +05:30)\n"
     ]
    }
   ],
   "source": [
    "df.head()"
   ]
  },
  {
   "cell_type": "code",
   "execution_count": 124,
   "metadata": {},
   "outputs": [
    {
     "data": {
      "text/plain": [
       "(95, 17)"
      ]
     },
     "execution_count": 124,
     "metadata": {},
     "output_type": "execute_result"
    },
    {
     "name": "stdout",
     "output_type": "stream",
     "text": [
      "time: 16 ms (started: 2021-11-11 22:51:23 +05:30)\n"
     ]
    }
   ],
   "source": [
    "df.shape"
   ]
  },
  {
   "cell_type": "code",
   "execution_count": 125,
   "metadata": {},
   "outputs": [
    {
     "data": {
      "application/vnd.plotly.v1+json": {
       "config": {
        "plotlyServerURL": "https://plot.ly"
       },
       "data": [
        {
         "hovertemplate": "latitude=%{lat}<br>longitude=%{lon}<extra></extra>",
         "lat": [
          51.5197723,
          52.0715604,
          53.3912029,
          53.624561,
          54.5713883,
          51.51565155,
          51.6973443,
          52.7826736,
          52.9192194,
          52.6316809,
          51.57884985,
          51.4496233,
          52.5127917,
          51.5915192,
          37.46838,
          52.0373427,
          51.8725552,
          -33.7631262,
          37.5262,
          59.3628802,
          57.7072326,
          46.3144754,
          46.3144754,
          57.7011491,
          59.3570966,
          59.36483885,
          59.3071843,
          59.3659377,
          46.3144754,
          56.0441984,
          59.3692316,
          54.60308455,
          51.5064297,
          58.063519,
          59.3390173,
          53.29071975,
          53.3339446,
          51.3540172,
          37.343924,
          23.6069416,
          55.6047158,
          51.4936825,
          51.49499205,
          35.0992946,
          37.5636559,
          51.5107524,
          -32.9091459,
          53.0441063,
          51.4702734,
          53.73911405,
          53.4433107,
          51.5056234,
          53.3414791,
          51.1414635,
          53.3433861,
          -33.9426218,
          57.4806648,
          17.0106244,
          51.36099,
          51.5095028,
          23.6070003,
          57.1468686,
          51.5051503,
          51.4478465,
          51.51427205,
          51.5264843,
          59.3460133,
          46.3144754,
          8.9809,
          17.0174945,
          24.4094082,
          -34.7195908,
          53.3512677,
          53.3512677,
          51.5038502,
          53.332392,
          53.3512677,
          -22.7566253,
          10.1601324,
          53.332392,
          51.5038502,
          53.3140171,
          53.6239299,
          51.84173815,
          37.5262,
          53.3366536,
          46.3144754,
          51.50969225,
          51.50969225,
          51.50969225,
          51.50969225,
          51.50969225,
          51.50969225,
          51.50969225,
          53.33499575
         ],
         "legendgroup": "",
         "lon": [
          -0.146410874,
          -1.3441869,
          -2.295845,
          -2.0264462,
          -1.2571988,
          -0.097863046,
          -0.6029275,
          -1.2266725,
          -1.468891,
          1.2930482,
          -0.757783703,
          -2.587805773,
          -1.986524,
          -0.256773,
          127.0361,
          -0.7669102,
          -8.4722121,
          151.2635851,
          126.8959,
          17.9681359,
          11.9670171,
          11.0480288,
          11.0480288,
          11.9587861,
          17.9771256,
          18.02086873,
          18.075471,
          17.9911626,
          11.0480288,
          12.7040684,
          18.0309021,
          -1.268895825,
          -0.0528365,
          11.8755785,
          18.0125045,
          -9.005097719,
          -6.2604151,
          -0.459720427,
          126.7308801,
          58.468304,
          13.0030997,
          -0.1382053,
          -0.212721299,
          129.0297913,
          126.9975097,
          -0.1348423,
          -68.8793491,
          -2.1791549,
          -0.1711849,
          -9.005214747,
          -1.9495053,
          -0.0974375,
          -6.257900599,
          -0.4905937,
          -6.2388784,
          150.9228715,
          -4.1822939,
          54.09074,
          -0.3086544,
          -0.091816541,
          58.5364018,
          -2.1066837,
          -0.109393,
          -0.1319001,
          -0.123700548,
          -0.237321673,
          18.068506,
          11.0480288,
          -79.5275591,
          54.1010923,
          56.7171179,
          -58.8034256,
          -6.2257209,
          -6.2257209,
          -0.116773363,
          -6.253935768,
          -6.2257209,
          -43.3740637,
          -83.3771895,
          -6.253935768,
          -0.116773363,
          -6.233275967,
          -0.2111913,
          -8.493798524,
          126.8959,
          -6.2438965,
          11.0480288,
          -0.121347468,
          -0.121347468,
          -0.121347468,
          -0.121347468,
          -0.121347468,
          -0.121347468,
          -0.121347468,
          -6.254260215
         ],
         "marker": {
          "color": "#636efa"
         },
         "mode": "markers",
         "name": "",
         "showlegend": false,
         "subplot": "mapbox",
         "type": "scattermapbox"
        }
       ],
       "layout": {
        "legend": {
         "tracegroupgap": 0
        },
        "mapbox": {
         "accesstoken": "pk.eyJ1Ijoic2hha2Fzb20iLCJhIjoiY2plMWg1NGFpMXZ5NjJxbjhlM2ttN3AwbiJ9.RtGYHmreKiyBfHuElgYq_w",
         "center": {
          "lat": 45.024797901578935,
          "lon": 11.996818635915789
         },
         "domain": {
          "x": [
           0,
           1
          ],
          "y": [
           0,
           1
          ]
         },
         "zoom": 15
        },
        "margin": {
         "t": 60
        },
        "template": {
         "data": {
          "bar": [
           {
            "error_x": {
             "color": "#2a3f5f"
            },
            "error_y": {
             "color": "#2a3f5f"
            },
            "marker": {
             "line": {
              "color": "#E5ECF6",
              "width": 0.5
             },
             "pattern": {
              "fillmode": "overlay",
              "size": 10,
              "solidity": 0.2
             }
            },
            "type": "bar"
           }
          ],
          "barpolar": [
           {
            "marker": {
             "line": {
              "color": "#E5ECF6",
              "width": 0.5
             },
             "pattern": {
              "fillmode": "overlay",
              "size": 10,
              "solidity": 0.2
             }
            },
            "type": "barpolar"
           }
          ],
          "carpet": [
           {
            "aaxis": {
             "endlinecolor": "#2a3f5f",
             "gridcolor": "white",
             "linecolor": "white",
             "minorgridcolor": "white",
             "startlinecolor": "#2a3f5f"
            },
            "baxis": {
             "endlinecolor": "#2a3f5f",
             "gridcolor": "white",
             "linecolor": "white",
             "minorgridcolor": "white",
             "startlinecolor": "#2a3f5f"
            },
            "type": "carpet"
           }
          ],
          "choropleth": [
           {
            "colorbar": {
             "outlinewidth": 0,
             "ticks": ""
            },
            "type": "choropleth"
           }
          ],
          "contour": [
           {
            "colorbar": {
             "outlinewidth": 0,
             "ticks": ""
            },
            "colorscale": [
             [
              0,
              "#0d0887"
             ],
             [
              0.1111111111111111,
              "#46039f"
             ],
             [
              0.2222222222222222,
              "#7201a8"
             ],
             [
              0.3333333333333333,
              "#9c179e"
             ],
             [
              0.4444444444444444,
              "#bd3786"
             ],
             [
              0.5555555555555556,
              "#d8576b"
             ],
             [
              0.6666666666666666,
              "#ed7953"
             ],
             [
              0.7777777777777778,
              "#fb9f3a"
             ],
             [
              0.8888888888888888,
              "#fdca26"
             ],
             [
              1,
              "#f0f921"
             ]
            ],
            "type": "contour"
           }
          ],
          "contourcarpet": [
           {
            "colorbar": {
             "outlinewidth": 0,
             "ticks": ""
            },
            "type": "contourcarpet"
           }
          ],
          "heatmap": [
           {
            "colorbar": {
             "outlinewidth": 0,
             "ticks": ""
            },
            "colorscale": [
             [
              0,
              "#0d0887"
             ],
             [
              0.1111111111111111,
              "#46039f"
             ],
             [
              0.2222222222222222,
              "#7201a8"
             ],
             [
              0.3333333333333333,
              "#9c179e"
             ],
             [
              0.4444444444444444,
              "#bd3786"
             ],
             [
              0.5555555555555556,
              "#d8576b"
             ],
             [
              0.6666666666666666,
              "#ed7953"
             ],
             [
              0.7777777777777778,
              "#fb9f3a"
             ],
             [
              0.8888888888888888,
              "#fdca26"
             ],
             [
              1,
              "#f0f921"
             ]
            ],
            "type": "heatmap"
           }
          ],
          "heatmapgl": [
           {
            "colorbar": {
             "outlinewidth": 0,
             "ticks": ""
            },
            "colorscale": [
             [
              0,
              "#0d0887"
             ],
             [
              0.1111111111111111,
              "#46039f"
             ],
             [
              0.2222222222222222,
              "#7201a8"
             ],
             [
              0.3333333333333333,
              "#9c179e"
             ],
             [
              0.4444444444444444,
              "#bd3786"
             ],
             [
              0.5555555555555556,
              "#d8576b"
             ],
             [
              0.6666666666666666,
              "#ed7953"
             ],
             [
              0.7777777777777778,
              "#fb9f3a"
             ],
             [
              0.8888888888888888,
              "#fdca26"
             ],
             [
              1,
              "#f0f921"
             ]
            ],
            "type": "heatmapgl"
           }
          ],
          "histogram": [
           {
            "marker": {
             "pattern": {
              "fillmode": "overlay",
              "size": 10,
              "solidity": 0.2
             }
            },
            "type": "histogram"
           }
          ],
          "histogram2d": [
           {
            "colorbar": {
             "outlinewidth": 0,
             "ticks": ""
            },
            "colorscale": [
             [
              0,
              "#0d0887"
             ],
             [
              0.1111111111111111,
              "#46039f"
             ],
             [
              0.2222222222222222,
              "#7201a8"
             ],
             [
              0.3333333333333333,
              "#9c179e"
             ],
             [
              0.4444444444444444,
              "#bd3786"
             ],
             [
              0.5555555555555556,
              "#d8576b"
             ],
             [
              0.6666666666666666,
              "#ed7953"
             ],
             [
              0.7777777777777778,
              "#fb9f3a"
             ],
             [
              0.8888888888888888,
              "#fdca26"
             ],
             [
              1,
              "#f0f921"
             ]
            ],
            "type": "histogram2d"
           }
          ],
          "histogram2dcontour": [
           {
            "colorbar": {
             "outlinewidth": 0,
             "ticks": ""
            },
            "colorscale": [
             [
              0,
              "#0d0887"
             ],
             [
              0.1111111111111111,
              "#46039f"
             ],
             [
              0.2222222222222222,
              "#7201a8"
             ],
             [
              0.3333333333333333,
              "#9c179e"
             ],
             [
              0.4444444444444444,
              "#bd3786"
             ],
             [
              0.5555555555555556,
              "#d8576b"
             ],
             [
              0.6666666666666666,
              "#ed7953"
             ],
             [
              0.7777777777777778,
              "#fb9f3a"
             ],
             [
              0.8888888888888888,
              "#fdca26"
             ],
             [
              1,
              "#f0f921"
             ]
            ],
            "type": "histogram2dcontour"
           }
          ],
          "mesh3d": [
           {
            "colorbar": {
             "outlinewidth": 0,
             "ticks": ""
            },
            "type": "mesh3d"
           }
          ],
          "parcoords": [
           {
            "line": {
             "colorbar": {
              "outlinewidth": 0,
              "ticks": ""
             }
            },
            "type": "parcoords"
           }
          ],
          "pie": [
           {
            "automargin": true,
            "type": "pie"
           }
          ],
          "scatter": [
           {
            "marker": {
             "colorbar": {
              "outlinewidth": 0,
              "ticks": ""
             }
            },
            "type": "scatter"
           }
          ],
          "scatter3d": [
           {
            "line": {
             "colorbar": {
              "outlinewidth": 0,
              "ticks": ""
             }
            },
            "marker": {
             "colorbar": {
              "outlinewidth": 0,
              "ticks": ""
             }
            },
            "type": "scatter3d"
           }
          ],
          "scattercarpet": [
           {
            "marker": {
             "colorbar": {
              "outlinewidth": 0,
              "ticks": ""
             }
            },
            "type": "scattercarpet"
           }
          ],
          "scattergeo": [
           {
            "marker": {
             "colorbar": {
              "outlinewidth": 0,
              "ticks": ""
             }
            },
            "type": "scattergeo"
           }
          ],
          "scattergl": [
           {
            "marker": {
             "colorbar": {
              "outlinewidth": 0,
              "ticks": ""
             }
            },
            "type": "scattergl"
           }
          ],
          "scattermapbox": [
           {
            "marker": {
             "colorbar": {
              "outlinewidth": 0,
              "ticks": ""
             }
            },
            "type": "scattermapbox"
           }
          ],
          "scatterpolar": [
           {
            "marker": {
             "colorbar": {
              "outlinewidth": 0,
              "ticks": ""
             }
            },
            "type": "scatterpolar"
           }
          ],
          "scatterpolargl": [
           {
            "marker": {
             "colorbar": {
              "outlinewidth": 0,
              "ticks": ""
             }
            },
            "type": "scatterpolargl"
           }
          ],
          "scatterternary": [
           {
            "marker": {
             "colorbar": {
              "outlinewidth": 0,
              "ticks": ""
             }
            },
            "type": "scatterternary"
           }
          ],
          "surface": [
           {
            "colorbar": {
             "outlinewidth": 0,
             "ticks": ""
            },
            "colorscale": [
             [
              0,
              "#0d0887"
             ],
             [
              0.1111111111111111,
              "#46039f"
             ],
             [
              0.2222222222222222,
              "#7201a8"
             ],
             [
              0.3333333333333333,
              "#9c179e"
             ],
             [
              0.4444444444444444,
              "#bd3786"
             ],
             [
              0.5555555555555556,
              "#d8576b"
             ],
             [
              0.6666666666666666,
              "#ed7953"
             ],
             [
              0.7777777777777778,
              "#fb9f3a"
             ],
             [
              0.8888888888888888,
              "#fdca26"
             ],
             [
              1,
              "#f0f921"
             ]
            ],
            "type": "surface"
           }
          ],
          "table": [
           {
            "cells": {
             "fill": {
              "color": "#EBF0F8"
             },
             "line": {
              "color": "white"
             }
            },
            "header": {
             "fill": {
              "color": "#C8D4E3"
             },
             "line": {
              "color": "white"
             }
            },
            "type": "table"
           }
          ]
         },
         "layout": {
          "annotationdefaults": {
           "arrowcolor": "#2a3f5f",
           "arrowhead": 0,
           "arrowwidth": 1
          },
          "autotypenumbers": "strict",
          "coloraxis": {
           "colorbar": {
            "outlinewidth": 0,
            "ticks": ""
           }
          },
          "colorscale": {
           "diverging": [
            [
             0,
             "#8e0152"
            ],
            [
             0.1,
             "#c51b7d"
            ],
            [
             0.2,
             "#de77ae"
            ],
            [
             0.3,
             "#f1b6da"
            ],
            [
             0.4,
             "#fde0ef"
            ],
            [
             0.5,
             "#f7f7f7"
            ],
            [
             0.6,
             "#e6f5d0"
            ],
            [
             0.7,
             "#b8e186"
            ],
            [
             0.8,
             "#7fbc41"
            ],
            [
             0.9,
             "#4d9221"
            ],
            [
             1,
             "#276419"
            ]
           ],
           "sequential": [
            [
             0,
             "#0d0887"
            ],
            [
             0.1111111111111111,
             "#46039f"
            ],
            [
             0.2222222222222222,
             "#7201a8"
            ],
            [
             0.3333333333333333,
             "#9c179e"
            ],
            [
             0.4444444444444444,
             "#bd3786"
            ],
            [
             0.5555555555555556,
             "#d8576b"
            ],
            [
             0.6666666666666666,
             "#ed7953"
            ],
            [
             0.7777777777777778,
             "#fb9f3a"
            ],
            [
             0.8888888888888888,
             "#fdca26"
            ],
            [
             1,
             "#f0f921"
            ]
           ],
           "sequentialminus": [
            [
             0,
             "#0d0887"
            ],
            [
             0.1111111111111111,
             "#46039f"
            ],
            [
             0.2222222222222222,
             "#7201a8"
            ],
            [
             0.3333333333333333,
             "#9c179e"
            ],
            [
             0.4444444444444444,
             "#bd3786"
            ],
            [
             0.5555555555555556,
             "#d8576b"
            ],
            [
             0.6666666666666666,
             "#ed7953"
            ],
            [
             0.7777777777777778,
             "#fb9f3a"
            ],
            [
             0.8888888888888888,
             "#fdca26"
            ],
            [
             1,
             "#f0f921"
            ]
           ]
          },
          "colorway": [
           "#636efa",
           "#EF553B",
           "#00cc96",
           "#ab63fa",
           "#FFA15A",
           "#19d3f3",
           "#FF6692",
           "#B6E880",
           "#FF97FF",
           "#FECB52"
          ],
          "font": {
           "color": "#2a3f5f"
          },
          "geo": {
           "bgcolor": "white",
           "lakecolor": "white",
           "landcolor": "#E5ECF6",
           "showlakes": true,
           "showland": true,
           "subunitcolor": "white"
          },
          "hoverlabel": {
           "align": "left"
          },
          "hovermode": "closest",
          "mapbox": {
           "style": "light"
          },
          "paper_bgcolor": "white",
          "plot_bgcolor": "#E5ECF6",
          "polar": {
           "angularaxis": {
            "gridcolor": "white",
            "linecolor": "white",
            "ticks": ""
           },
           "bgcolor": "#E5ECF6",
           "radialaxis": {
            "gridcolor": "white",
            "linecolor": "white",
            "ticks": ""
           }
          },
          "scene": {
           "xaxis": {
            "backgroundcolor": "#E5ECF6",
            "gridcolor": "white",
            "gridwidth": 2,
            "linecolor": "white",
            "showbackground": true,
            "ticks": "",
            "zerolinecolor": "white"
           },
           "yaxis": {
            "backgroundcolor": "#E5ECF6",
            "gridcolor": "white",
            "gridwidth": 2,
            "linecolor": "white",
            "showbackground": true,
            "ticks": "",
            "zerolinecolor": "white"
           },
           "zaxis": {
            "backgroundcolor": "#E5ECF6",
            "gridcolor": "white",
            "gridwidth": 2,
            "linecolor": "white",
            "showbackground": true,
            "ticks": "",
            "zerolinecolor": "white"
           }
          },
          "shapedefaults": {
           "line": {
            "color": "#2a3f5f"
           }
          },
          "ternary": {
           "aaxis": {
            "gridcolor": "white",
            "linecolor": "white",
            "ticks": ""
           },
           "baxis": {
            "gridcolor": "white",
            "linecolor": "white",
            "ticks": ""
           },
           "bgcolor": "#E5ECF6",
           "caxis": {
            "gridcolor": "white",
            "linecolor": "white",
            "ticks": ""
           }
          },
          "title": {
           "x": 0.05
          },
          "xaxis": {
           "automargin": true,
           "gridcolor": "white",
           "linecolor": "white",
           "ticks": "",
           "title": {
            "standoff": 15
           },
           "zerolinecolor": "white",
           "zerolinewidth": 2
          },
          "yaxis": {
           "automargin": true,
           "gridcolor": "white",
           "linecolor": "white",
           "ticks": "",
           "title": {
            "standoff": 15
           },
           "zerolinecolor": "white",
           "zerolinewidth": 2
          }
         }
        }
       }
      }
     },
     "metadata": {},
     "output_type": "display_data"
    },
    {
     "name": "stdout",
     "output_type": "stream",
     "text": [
      "time: 47 ms (started: 2021-11-11 22:51:23 +05:30)\n"
     ]
    }
   ],
   "source": [
    "import plotly_express as px\n",
    "px.set_mapbox_access_token(\"pk.eyJ1Ijoic2hha2Fzb20iLCJhIjoiY2plMWg1NGFpMXZ5NjJxbjhlM2ttN3AwbiJ9.RtGYHmreKiyBfHuElgYq_w\")\n",
    "px.scatter_mapbox(df, lat=\"latitude\", lon=\"longitude\",  zoom=15)"
   ]
  },
  {
   "cell_type": "code",
   "execution_count": 126,
   "metadata": {},
   "outputs": [
    {
     "data": {
      "text/html": [
       "<div>\n",
       "<style scoped>\n",
       "    .dataframe tbody tr th:only-of-type {\n",
       "        vertical-align: middle;\n",
       "    }\n",
       "\n",
       "    .dataframe tbody tr th {\n",
       "        vertical-align: top;\n",
       "    }\n",
       "\n",
       "    .dataframe thead th {\n",
       "        text-align: right;\n",
       "    }\n",
       "</style>\n",
       "<table border=\"1\" class=\"dataframe\">\n",
       "  <thead>\n",
       "    <tr style=\"text-align: right;\">\n",
       "      <th></th>\n",
       "      <th>Unnamed: 0</th>\n",
       "      <th>Vendor</th>\n",
       "      <th>Country</th>\n",
       "      <th>Country Text</th>\n",
       "      <th>Name 1</th>\n",
       "      <th>City</th>\n",
       "      <th>District</th>\n",
       "      <th>PO Box</th>\n",
       "      <th>Postal Code</th>\n",
       "      <th>Region</th>\n",
       "      <th>Region Text</th>\n",
       "      <th>Street</th>\n",
       "      <th>location</th>\n",
       "      <th>point</th>\n",
       "      <th>latitude</th>\n",
       "      <th>longitude</th>\n",
       "      <th>altitude</th>\n",
       "      <th>geom</th>\n",
       "    </tr>\n",
       "  </thead>\n",
       "  <tbody>\n",
       "    <tr>\n",
       "      <th>0</th>\n",
       "      <td>0</td>\n",
       "      <td>68001139</td>\n",
       "      <td>GB</td>\n",
       "      <td>United Kingdom</td>\n",
       "      <td>ENERGY INSTITUTE</td>\n",
       "      <td>LONDON</td>\n",
       "      <td>NaN</td>\n",
       "      <td>NaN</td>\n",
       "      <td>W1G7AR</td>\n",
       "      <td>NaN</td>\n",
       "      <td>NaN</td>\n",
       "      <td>61 NEW CAVENDISH STREET</td>\n",
       "      <td>Energy Institute, 61, New Cavendish Street, Ma...</td>\n",
       "      <td>(51.5197723, -0.146410873721238, 0.0)</td>\n",
       "      <td>51.519772</td>\n",
       "      <td>-0.146411</td>\n",
       "      <td>0</td>\n",
       "      <td>51.5197723,-0.146410874</td>\n",
       "    </tr>\n",
       "    <tr>\n",
       "      <th>1</th>\n",
       "      <td>1</td>\n",
       "      <td>68001272</td>\n",
       "      <td>GB</td>\n",
       "      <td>United Kingdom</td>\n",
       "      <td>DEMATIC LIMITED</td>\n",
       "      <td>BANBURY</td>\n",
       "      <td>NaN</td>\n",
       "      <td>NaN</td>\n",
       "      <td>OX161QZ</td>\n",
       "      <td>OXF</td>\n",
       "      <td>Oxfordshire</td>\n",
       "      <td>BEAUMONT ROAD</td>\n",
       "      <td>Beaumont Road, Ruscote, Banbury, Cherwell, Oxf...</td>\n",
       "      <td>(52.0715604, -1.3441869, 0.0)</td>\n",
       "      <td>52.071560</td>\n",
       "      <td>-1.344187</td>\n",
       "      <td>0</td>\n",
       "      <td>52.0715604,-1.3441869</td>\n",
       "    </tr>\n",
       "    <tr>\n",
       "      <th>2</th>\n",
       "      <td>5</td>\n",
       "      <td>68001397</td>\n",
       "      <td>GB</td>\n",
       "      <td>United Kingdom</td>\n",
       "      <td>ENDRESS AND HAUSER LIMITED</td>\n",
       "      <td>MANCHESTER</td>\n",
       "      <td>NaN</td>\n",
       "      <td>NaN</td>\n",
       "      <td>M239NF</td>\n",
       "      <td>NaN</td>\n",
       "      <td>NaN</td>\n",
       "      <td>FLOATS ROAD</td>\n",
       "      <td>Floats Road, Newall Green, Wythenshawe, Manche...</td>\n",
       "      <td>(53.3912029, -2.295845, 0.0)</td>\n",
       "      <td>53.391203</td>\n",
       "      <td>-2.295845</td>\n",
       "      <td>0</td>\n",
       "      <td>53.3912029,-2.295845</td>\n",
       "    </tr>\n",
       "    <tr>\n",
       "      <th>3</th>\n",
       "      <td>6</td>\n",
       "      <td>68001407</td>\n",
       "      <td>GB</td>\n",
       "      <td>United Kingdom</td>\n",
       "      <td>PEPPERL AND FUCHS GB LIMITED</td>\n",
       "      <td>OLDHAM</td>\n",
       "      <td>NaN</td>\n",
       "      <td>NaN</td>\n",
       "      <td>OL14EL</td>\n",
       "      <td>LAN</td>\n",
       "      <td>Lancashire</td>\n",
       "      <td>77 RIPPONDEN ROAD</td>\n",
       "      <td>Ripponden Road, Saddleworth, Oldham, Greater M...</td>\n",
       "      <td>(53.624561, -2.0264462, 0.0)</td>\n",
       "      <td>53.624561</td>\n",
       "      <td>-2.026446</td>\n",
       "      <td>0</td>\n",
       "      <td>53.624561,-2.0264462</td>\n",
       "    </tr>\n",
       "    <tr>\n",
       "      <th>4</th>\n",
       "      <td>7</td>\n",
       "      <td>68001442</td>\n",
       "      <td>GB</td>\n",
       "      <td>United Kingdom</td>\n",
       "      <td>CLEVELAND CABLE COMPANY LIMITED</td>\n",
       "      <td>MIDDLESBROUGH</td>\n",
       "      <td>NaN</td>\n",
       "      <td>NaN</td>\n",
       "      <td>TS21QW</td>\n",
       "      <td>CLV</td>\n",
       "      <td>Cleveland</td>\n",
       "      <td>RIVERSIDE PARK ROAD</td>\n",
       "      <td>Riverside Park Road, Linthorpe, Middlesbrough,...</td>\n",
       "      <td>(54.5713883, -1.2571988, 0.0)</td>\n",
       "      <td>54.571388</td>\n",
       "      <td>-1.257199</td>\n",
       "      <td>0</td>\n",
       "      <td>54.5713883,-1.2571988</td>\n",
       "    </tr>\n",
       "  </tbody>\n",
       "</table>\n",
       "</div>"
      ],
      "text/plain": [
       "   Unnamed: 0    Vendor Country    Country Text  \\\n",
       "0           0  68001139      GB  United Kingdom   \n",
       "1           1  68001272      GB  United Kingdom   \n",
       "2           5  68001397      GB  United Kingdom   \n",
       "3           6  68001407      GB  United Kingdom   \n",
       "4           7  68001442      GB  United Kingdom   \n",
       "\n",
       "                            Name 1           City District PO Box Postal Code  \\\n",
       "0                 ENERGY INSTITUTE         LONDON      NaN    NaN      W1G7AR   \n",
       "1                  DEMATIC LIMITED        BANBURY      NaN    NaN     OX161QZ   \n",
       "2       ENDRESS AND HAUSER LIMITED     MANCHESTER      NaN    NaN      M239NF   \n",
       "3     PEPPERL AND FUCHS GB LIMITED         OLDHAM      NaN    NaN      OL14EL   \n",
       "4  CLEVELAND CABLE COMPANY LIMITED  MIDDLESBROUGH      NaN    NaN      TS21QW   \n",
       "\n",
       "  Region  Region Text                   Street  \\\n",
       "0    NaN          NaN  61 NEW CAVENDISH STREET   \n",
       "1    OXF  Oxfordshire            BEAUMONT ROAD   \n",
       "2    NaN          NaN              FLOATS ROAD   \n",
       "3    LAN   Lancashire        77 RIPPONDEN ROAD   \n",
       "4    CLV    Cleveland      RIVERSIDE PARK ROAD   \n",
       "\n",
       "                                            location  \\\n",
       "0  Energy Institute, 61, New Cavendish Street, Ma...   \n",
       "1  Beaumont Road, Ruscote, Banbury, Cherwell, Oxf...   \n",
       "2  Floats Road, Newall Green, Wythenshawe, Manche...   \n",
       "3  Ripponden Road, Saddleworth, Oldham, Greater M...   \n",
       "4  Riverside Park Road, Linthorpe, Middlesbrough,...   \n",
       "\n",
       "                                   point   latitude  longitude  altitude  \\\n",
       "0  (51.5197723, -0.146410873721238, 0.0)  51.519772  -0.146411         0   \n",
       "1          (52.0715604, -1.3441869, 0.0)  52.071560  -1.344187         0   \n",
       "2           (53.3912029, -2.295845, 0.0)  53.391203  -2.295845         0   \n",
       "3           (53.624561, -2.0264462, 0.0)  53.624561  -2.026446         0   \n",
       "4          (54.5713883, -1.2571988, 0.0)  54.571388  -1.257199         0   \n",
       "\n",
       "                      geom  \n",
       "0  51.5197723,-0.146410874  \n",
       "1    52.0715604,-1.3441869  \n",
       "2     53.3912029,-2.295845  \n",
       "3     53.624561,-2.0264462  \n",
       "4    54.5713883,-1.2571988  "
      ]
     },
     "execution_count": 126,
     "metadata": {},
     "output_type": "execute_result"
    },
    {
     "name": "stdout",
     "output_type": "stream",
     "text": [
      "time: 16 ms (started: 2021-11-11 22:51:23 +05:30)\n"
     ]
    }
   ],
   "source": [
    "df[\"geom\"] =  df[\"latitude\"].map(str)  + ',' + df['longitude'].map(str)\n",
    "df.head()"
   ]
  },
  {
   "cell_type": "code",
   "execution_count": 127,
   "metadata": {},
   "outputs": [
    {
     "data": {
      "text/plain": [
       "'51.5197723,-0.146410874'"
      ]
     },
     "execution_count": 127,
     "metadata": {},
     "output_type": "execute_result"
    },
    {
     "name": "stdout",
     "output_type": "stream",
     "text": [
      "time: 0 ns (started: 2021-11-11 22:51:23 +05:30)\n"
     ]
    }
   ],
   "source": [
    "df.geom[0]"
   ]
  },
  {
   "cell_type": "code",
   "execution_count": 128,
   "metadata": {},
   "outputs": [
    {
     "data": {
      "text/plain": [
       "<geopy.extra.rate_limiter.RateLimiter at 0x1b63ee802b0>"
      ]
     },
     "execution_count": 128,
     "metadata": {},
     "output_type": "execute_result"
    },
    {
     "name": "stdout",
     "output_type": "stream",
     "text": [
      "time: 16 ms (started: 2021-11-11 22:51:23 +05:30)\n"
     ]
    }
   ],
   "source": [
    "locator = Nominatim(user_agent=\"myGeocoder\", timeout=10)\n",
    "rgeocode = RateLimiter(locator.reverse, min_delay_seconds=0.001)\n",
    "rgeocode"
   ]
  },
  {
   "cell_type": "code",
   "execution_count": 129,
   "metadata": {},
   "outputs": [
    {
     "name": "stdout",
     "output_type": "stream",
     "text": [
      "time: 48.2 s (started: 2021-11-11 22:51:23 +05:30)\n"
     ]
    }
   ],
   "source": [
    "df['display_name'] = df['geom'].apply(rgeocode)"
   ]
  },
  {
   "cell_type": "code",
   "execution_count": 130,
   "metadata": {},
   "outputs": [
    {
     "data": {
      "text/html": [
       "<div>\n",
       "<style scoped>\n",
       "    .dataframe tbody tr th:only-of-type {\n",
       "        vertical-align: middle;\n",
       "    }\n",
       "\n",
       "    .dataframe tbody tr th {\n",
       "        vertical-align: top;\n",
       "    }\n",
       "\n",
       "    .dataframe thead th {\n",
       "        text-align: right;\n",
       "    }\n",
       "</style>\n",
       "<table border=\"1\" class=\"dataframe\">\n",
       "  <thead>\n",
       "    <tr style=\"text-align: right;\">\n",
       "      <th></th>\n",
       "      <th>Unnamed: 0</th>\n",
       "      <th>Vendor</th>\n",
       "      <th>Country</th>\n",
       "      <th>Country Text</th>\n",
       "      <th>Name 1</th>\n",
       "      <th>City</th>\n",
       "      <th>District</th>\n",
       "      <th>PO Box</th>\n",
       "      <th>Postal Code</th>\n",
       "      <th>Region</th>\n",
       "      <th>Region Text</th>\n",
       "      <th>Street</th>\n",
       "      <th>location</th>\n",
       "      <th>point</th>\n",
       "      <th>latitude</th>\n",
       "      <th>longitude</th>\n",
       "      <th>altitude</th>\n",
       "      <th>geom</th>\n",
       "      <th>display_name</th>\n",
       "    </tr>\n",
       "  </thead>\n",
       "  <tbody>\n",
       "    <tr>\n",
       "      <th>0</th>\n",
       "      <td>0</td>\n",
       "      <td>68001139</td>\n",
       "      <td>GB</td>\n",
       "      <td>United Kingdom</td>\n",
       "      <td>ENERGY INSTITUTE</td>\n",
       "      <td>LONDON</td>\n",
       "      <td>NaN</td>\n",
       "      <td>NaN</td>\n",
       "      <td>W1G7AR</td>\n",
       "      <td>NaN</td>\n",
       "      <td>NaN</td>\n",
       "      <td>61 NEW CAVENDISH STREET</td>\n",
       "      <td>Energy Institute, 61, New Cavendish Street, Ma...</td>\n",
       "      <td>(51.5197723, -0.146410873721238, 0.0)</td>\n",
       "      <td>51.519772</td>\n",
       "      <td>-0.146411</td>\n",
       "      <td>0</td>\n",
       "      <td>51.5197723,-0.146410874</td>\n",
       "      <td>(Energy Institute, 61, New Cavendish Street, M...</td>\n",
       "    </tr>\n",
       "    <tr>\n",
       "      <th>1</th>\n",
       "      <td>1</td>\n",
       "      <td>68001272</td>\n",
       "      <td>GB</td>\n",
       "      <td>United Kingdom</td>\n",
       "      <td>DEMATIC LIMITED</td>\n",
       "      <td>BANBURY</td>\n",
       "      <td>NaN</td>\n",
       "      <td>NaN</td>\n",
       "      <td>OX161QZ</td>\n",
       "      <td>OXF</td>\n",
       "      <td>Oxfordshire</td>\n",
       "      <td>BEAUMONT ROAD</td>\n",
       "      <td>Beaumont Road, Ruscote, Banbury, Cherwell, Oxf...</td>\n",
       "      <td>(52.0715604, -1.3441869, 0.0)</td>\n",
       "      <td>52.071560</td>\n",
       "      <td>-1.344187</td>\n",
       "      <td>0</td>\n",
       "      <td>52.0715604,-1.3441869</td>\n",
       "      <td>(Beaumont Road, Ruscote, Banbury, Cherwell, Ox...</td>\n",
       "    </tr>\n",
       "    <tr>\n",
       "      <th>2</th>\n",
       "      <td>5</td>\n",
       "      <td>68001397</td>\n",
       "      <td>GB</td>\n",
       "      <td>United Kingdom</td>\n",
       "      <td>ENDRESS AND HAUSER LIMITED</td>\n",
       "      <td>MANCHESTER</td>\n",
       "      <td>NaN</td>\n",
       "      <td>NaN</td>\n",
       "      <td>M239NF</td>\n",
       "      <td>NaN</td>\n",
       "      <td>NaN</td>\n",
       "      <td>FLOATS ROAD</td>\n",
       "      <td>Floats Road, Newall Green, Wythenshawe, Manche...</td>\n",
       "      <td>(53.3912029, -2.295845, 0.0)</td>\n",
       "      <td>53.391203</td>\n",
       "      <td>-2.295845</td>\n",
       "      <td>0</td>\n",
       "      <td>53.3912029,-2.295845</td>\n",
       "      <td>(Floats Road/Caldey Road, Floats Road, Newall ...</td>\n",
       "    </tr>\n",
       "    <tr>\n",
       "      <th>3</th>\n",
       "      <td>6</td>\n",
       "      <td>68001407</td>\n",
       "      <td>GB</td>\n",
       "      <td>United Kingdom</td>\n",
       "      <td>PEPPERL AND FUCHS GB LIMITED</td>\n",
       "      <td>OLDHAM</td>\n",
       "      <td>NaN</td>\n",
       "      <td>NaN</td>\n",
       "      <td>OL14EL</td>\n",
       "      <td>LAN</td>\n",
       "      <td>Lancashire</td>\n",
       "      <td>77 RIPPONDEN ROAD</td>\n",
       "      <td>Ripponden Road, Saddleworth, Oldham, Greater M...</td>\n",
       "      <td>(53.624561, -2.0264462, 0.0)</td>\n",
       "      <td>53.624561</td>\n",
       "      <td>-2.026446</td>\n",
       "      <td>0</td>\n",
       "      <td>53.624561,-2.0264462</td>\n",
       "      <td>(Boundary Stone, Ripponden Road, Saddleworth, ...</td>\n",
       "    </tr>\n",
       "    <tr>\n",
       "      <th>4</th>\n",
       "      <td>7</td>\n",
       "      <td>68001442</td>\n",
       "      <td>GB</td>\n",
       "      <td>United Kingdom</td>\n",
       "      <td>CLEVELAND CABLE COMPANY LIMITED</td>\n",
       "      <td>MIDDLESBROUGH</td>\n",
       "      <td>NaN</td>\n",
       "      <td>NaN</td>\n",
       "      <td>TS21QW</td>\n",
       "      <td>CLV</td>\n",
       "      <td>Cleveland</td>\n",
       "      <td>RIVERSIDE PARK ROAD</td>\n",
       "      <td>Riverside Park Road, Linthorpe, Middlesbrough,...</td>\n",
       "      <td>(54.5713883, -1.2571988, 0.0)</td>\n",
       "      <td>54.571388</td>\n",
       "      <td>-1.257199</td>\n",
       "      <td>0</td>\n",
       "      <td>54.5713883,-1.2571988</td>\n",
       "      <td>(Riverside Park Road, Linthorpe, Middlesbrough...</td>\n",
       "    </tr>\n",
       "  </tbody>\n",
       "</table>\n",
       "</div>"
      ],
      "text/plain": [
       "   Unnamed: 0    Vendor Country    Country Text  \\\n",
       "0           0  68001139      GB  United Kingdom   \n",
       "1           1  68001272      GB  United Kingdom   \n",
       "2           5  68001397      GB  United Kingdom   \n",
       "3           6  68001407      GB  United Kingdom   \n",
       "4           7  68001442      GB  United Kingdom   \n",
       "\n",
       "                            Name 1           City District PO Box Postal Code  \\\n",
       "0                 ENERGY INSTITUTE         LONDON      NaN    NaN      W1G7AR   \n",
       "1                  DEMATIC LIMITED        BANBURY      NaN    NaN     OX161QZ   \n",
       "2       ENDRESS AND HAUSER LIMITED     MANCHESTER      NaN    NaN      M239NF   \n",
       "3     PEPPERL AND FUCHS GB LIMITED         OLDHAM      NaN    NaN      OL14EL   \n",
       "4  CLEVELAND CABLE COMPANY LIMITED  MIDDLESBROUGH      NaN    NaN      TS21QW   \n",
       "\n",
       "  Region  Region Text                   Street  \\\n",
       "0    NaN          NaN  61 NEW CAVENDISH STREET   \n",
       "1    OXF  Oxfordshire            BEAUMONT ROAD   \n",
       "2    NaN          NaN              FLOATS ROAD   \n",
       "3    LAN   Lancashire        77 RIPPONDEN ROAD   \n",
       "4    CLV    Cleveland      RIVERSIDE PARK ROAD   \n",
       "\n",
       "                                            location  \\\n",
       "0  Energy Institute, 61, New Cavendish Street, Ma...   \n",
       "1  Beaumont Road, Ruscote, Banbury, Cherwell, Oxf...   \n",
       "2  Floats Road, Newall Green, Wythenshawe, Manche...   \n",
       "3  Ripponden Road, Saddleworth, Oldham, Greater M...   \n",
       "4  Riverside Park Road, Linthorpe, Middlesbrough,...   \n",
       "\n",
       "                                   point   latitude  longitude  altitude  \\\n",
       "0  (51.5197723, -0.146410873721238, 0.0)  51.519772  -0.146411         0   \n",
       "1          (52.0715604, -1.3441869, 0.0)  52.071560  -1.344187         0   \n",
       "2           (53.3912029, -2.295845, 0.0)  53.391203  -2.295845         0   \n",
       "3           (53.624561, -2.0264462, 0.0)  53.624561  -2.026446         0   \n",
       "4          (54.5713883, -1.2571988, 0.0)  54.571388  -1.257199         0   \n",
       "\n",
       "                      geom                                       display_name  \n",
       "0  51.5197723,-0.146410874  (Energy Institute, 61, New Cavendish Street, M...  \n",
       "1    52.0715604,-1.3441869  (Beaumont Road, Ruscote, Banbury, Cherwell, Ox...  \n",
       "2     53.3912029,-2.295845  (Floats Road/Caldey Road, Floats Road, Newall ...  \n",
       "3     53.624561,-2.0264462  (Boundary Stone, Ripponden Road, Saddleworth, ...  \n",
       "4    54.5713883,-1.2571988  (Riverside Park Road, Linthorpe, Middlesbrough...  "
      ]
     },
     "execution_count": 130,
     "metadata": {},
     "output_type": "execute_result"
    },
    {
     "name": "stdout",
     "output_type": "stream",
     "text": [
      "time: 16 ms (started: 2021-11-11 22:52:12 +05:30)\n"
     ]
    }
   ],
   "source": [
    "df.head()"
   ]
  },
  {
   "cell_type": "code",
   "execution_count": 131,
   "metadata": {},
   "outputs": [
    {
     "name": "stdout",
     "output_type": "stream",
     "text": [
      "time: 16 ms (started: 2021-11-11 22:52:12 +05:30)\n"
     ]
    }
   ],
   "source": [
    "df.to_csv('3.vendor.csv')"
   ]
  }
 ],
 "metadata": {
  "interpreter": {
   "hash": "0fde93143231d7c82c2c8436e6eb2105fcf5c04bf8b8c1509b497d4b16eaae34"
  },
  "kernelspec": {
   "display_name": "Python 3.8.12 64-bit ('work1': conda)",
   "language": "python",
   "name": "python3"
  },
  "language_info": {
   "codemirror_mode": {
    "name": "ipython",
    "version": 3
   },
   "file_extension": ".py",
   "mimetype": "text/x-python",
   "name": "python",
   "nbconvert_exporter": "python",
   "pygments_lexer": "ipython3",
   "version": "3.8.12"
  },
  "orig_nbformat": 4
 },
 "nbformat": 4,
 "nbformat_minor": 2
}
