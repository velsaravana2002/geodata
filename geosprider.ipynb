{
 "cells": [
  {
   "cell_type": "code",
   "execution_count": 9,
   "metadata": {},
   "outputs": [],
   "source": [
    "import pandas as pd\n",
    "from geopandas.tools import geocode"
   ]
  },
  {
   "cell_type": "code",
   "execution_count": 10,
   "metadata": {},
   "outputs": [],
   "source": [
    "capital_cities = pd.read_csv(r'C:\\Users\\S.Subramanian2\\PyCode\\capital_cities.csv')"
   ]
  },
  {
   "cell_type": "code",
   "execution_count": 11,
   "metadata": {},
   "outputs": [],
   "source": [
    "runfile('C:/Users/S.Subramanian2/PyCode/Untitled-2.ipynb', wdir='C:/Users/S.Subramanian2/PyCode')"
   ]
  },
  {
   "cell_type": "code",
   "execution_count": 12,
   "metadata": {},
   "outputs": [
    {
     "data": {
      "text/html": [
       "<div>\n",
       "<style scoped>\n",
       "    .dataframe tbody tr th:only-of-type {\n",
       "        vertical-align: middle;\n",
       "    }\n",
       "\n",
       "    .dataframe tbody tr th {\n",
       "        vertical-align: top;\n",
       "    }\n",
       "\n",
       "    .dataframe thead th {\n",
       "        text-align: right;\n",
       "    }\n",
       "</style>\n",
       "<table border=\"1\" class=\"dataframe\">\n",
       "  <thead>\n",
       "    <tr style=\"text-align: right;\">\n",
       "      <th></th>\n",
       "      <th>Country</th>\n",
       "      <th>Capital</th>\n",
       "    </tr>\n",
       "  </thead>\n",
       "  <tbody>\n",
       "    <tr>\n",
       "      <th>0</th>\n",
       "      <td>Massachusetts</td>\n",
       "      <td>BOSTON</td>\n",
       "    </tr>\n",
       "    <tr>\n",
       "      <th>1</th>\n",
       "      <td>Massachusetts</td>\n",
       "      <td>TEWKSBURY</td>\n",
       "    </tr>\n",
       "    <tr>\n",
       "      <th>2</th>\n",
       "      <td>New Hampshire</td>\n",
       "      <td>NASHUA</td>\n",
       "    </tr>\n",
       "    <tr>\n",
       "      <th>3</th>\n",
       "      <td>Massachusetts</td>\n",
       "      <td>LEXINGTON</td>\n",
       "    </tr>\n",
       "    <tr>\n",
       "      <th>4</th>\n",
       "      <td>New Hampshire</td>\n",
       "      <td>MANCHESTER</td>\n",
       "    </tr>\n",
       "  </tbody>\n",
       "</table>\n",
       "</div>"
      ],
      "text/plain": [
       "         Country     Capital\n",
       "0  Massachusetts      BOSTON\n",
       "1  Massachusetts   TEWKSBURY\n",
       "2  New Hampshire      NASHUA\n",
       "3  Massachusetts   LEXINGTON\n",
       "4  New Hampshire  MANCHESTER"
      ]
     },
     "execution_count": 12,
     "metadata": {},
     "output_type": "execute_result"
    }
   ],
   "source": [
    "capital_cities.head()"
   ]
  },
  {
   "cell_type": "code",
   "execution_count": 13,
   "metadata": {},
   "outputs": [
    {
     "name": "stdout",
     "output_type": "stream",
     "text": [
      "BOSTON\n",
      "TEWKSBURY\n",
      "NASHUA\n",
      "LEXINGTON\n",
      "MANCHESTER\n",
      "NASHUA\n",
      "CONCORD\n",
      "DERRY\n",
      "READING\n",
      "BRIGHTON\n",
      "ROCKY HILL\n",
      "EAST HARTFORD\n",
      "GLASTONBURY\n",
      "EAST HARTFORD\n",
      "HARTFORD\n"
     ]
    }
   ],
   "source": [
    "for index, row in capital_cities.iterrows():\n",
    "    print(row['Capital'])"
   ]
  },
  {
   "cell_type": "code",
   "execution_count": 14,
   "metadata": {},
   "outputs": [],
   "source": [
    "    information = geocode(row['Capital'],provider ='nominatim',user_agent = 'sara', timeout = 5)\n",
    "    "
   ]
  },
  {
   "cell_type": "code",
   "execution_count": 15,
   "metadata": {},
   "outputs": [],
   "source": [
    "information = geocode(row['Capital'],provider ='nominatim',user_agent = 'sara', timeout = 5)\n",
    "capital_cities.loc[index,'longitude'] = information.geometry.loc[0].x\n",
    "capital_cities.loc[index,'latitude'] = information.geometry.loc[0].y\n"
   ]
  },
  {
   "cell_type": "code",
   "execution_count": 16,
   "metadata": {},
   "outputs": [],
   "source": [
    "capital_cities.to_csv('geopy_new.csv')"
   ]
  }
 ],
 "metadata": {
  "interpreter": {
   "hash": "0fde93143231d7c82c2c8436e6eb2105fcf5c04bf8b8c1509b497d4b16eaae34"
  },
  "kernelspec": {
   "display_name": "Python 3.8.12 64-bit ('work1': conda)",
   "language": "python",
   "name": "python3"
  },
  "language_info": {
   "codemirror_mode": {
    "name": "ipython",
    "version": 3
   },
   "file_extension": ".py",
   "mimetype": "text/x-python",
   "name": "python",
   "nbconvert_exporter": "python",
   "pygments_lexer": "ipython3",
   "version": "3.8.12"
  },
  "orig_nbformat": 4
 },
 "nbformat": 4,
 "nbformat_minor": 2
}
