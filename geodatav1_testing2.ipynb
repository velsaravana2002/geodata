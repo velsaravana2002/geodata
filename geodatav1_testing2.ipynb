{
 "cells": [
  {
   "cell_type": "code",
   "execution_count": 80,
   "metadata": {},
   "outputs": [
    {
     "name": "stdout",
     "output_type": "stream",
     "text": [
      "Requirement already satisfied: geopy in c:\\users\\s.subramanian2\\anaconda3\\envs\\work1\\lib\\site-packages (2.2.0)\n",
      "Requirement already satisfied: geographiclib<2,>=1.49 in c:\\users\\s.subramanian2\\anaconda3\\envs\\work1\\lib\\site-packages (from geopy) (1.52)\n",
      "Note: you may need to restart the kernel to use updated packages.\n"
     ]
    }
   ],
   "source": [
    "pip install geopy"
   ]
  },
  {
   "cell_type": "code",
   "execution_count": 81,
   "metadata": {},
   "outputs": [
    {
     "name": "stdout",
     "output_type": "stream",
     "text": [
      "Requirement already satisfied: bingmaps in c:\\users\\s.subramanian2\\anaconda3\\envs\\work1\\lib\\site-packages (0.3.7)\n",
      "Requirement already satisfied: requests==2.9.1 in c:\\users\\s.subramanian2\\anaconda3\\envs\\work1\\lib\\site-packages (from bingmaps) (2.9.1)\n",
      "Requirement already satisfied: xmltodict==0.10.1 in c:\\users\\s.subramanian2\\anaconda3\\envs\\work1\\lib\\site-packages (from bingmaps) (0.10.1)\n",
      "Requirement already satisfied: marshmallow==2.6.0 in c:\\users\\s.subramanian2\\anaconda3\\envs\\work1\\lib\\site-packages (from bingmaps) (2.6.0)\n",
      "Note: you may need to restart the kernel to use updated packages.\n"
     ]
    }
   ],
   "source": [
    "pip install bingmaps"
   ]
  },
  {
   "cell_type": "code",
   "execution_count": 82,
   "metadata": {},
   "outputs": [],
   "source": [
    "from geopy.geocoders import bing"
   ]
  },
  {
   "cell_type": "code",
   "execution_count": 83,
   "metadata": {},
   "outputs": [],
   "source": [
    "import pandas as pd\n",
    "from bingmaps.apiservices import LocationByAddress"
   ]
  },
  {
   "cell_type": "code",
   "execution_count": 84,
   "metadata": {},
   "outputs": [],
   "source": [
    "df = pd.read_csv(\"data.csv\",sep=',')"
   ]
  },
  {
   "cell_type": "code",
   "execution_count": 85,
   "metadata": {},
   "outputs": [
    {
     "data": {
      "text/html": [
       "<div>\n",
       "<style scoped>\n",
       "    .dataframe tbody tr th:only-of-type {\n",
       "        vertical-align: middle;\n",
       "    }\n",
       "\n",
       "    .dataframe tbody tr th {\n",
       "        vertical-align: top;\n",
       "    }\n",
       "\n",
       "    .dataframe thead th {\n",
       "        text-align: right;\n",
       "    }\n",
       "</style>\n",
       "<table border=\"1\" class=\"dataframe\">\n",
       "  <thead>\n",
       "    <tr style=\"text-align: right;\">\n",
       "      <th></th>\n",
       "      <th>GLOBAL_SITE_ID</th>\n",
       "      <th>SITE_NAME</th>\n",
       "      <th>SITE_TYPE</th>\n",
       "      <th>STREET_ADDRESS</th>\n",
       "      <th>CITY</th>\n",
       "      <th>STATE</th>\n",
       "      <th>POSTAL_CODE</th>\n",
       "      <th>COUNTRY</th>\n",
       "    </tr>\n",
       "  </thead>\n",
       "  <tbody>\n",
       "    <tr>\n",
       "      <th>0</th>\n",
       "      <td>10000253</td>\n",
       "      <td>1241 BOYLSTON ST</td>\n",
       "      <td>Shell In Network Retail Site</td>\n",
       "      <td>1241 BOYLSTON ST</td>\n",
       "      <td>BOSTON</td>\n",
       "      <td>Massachusetts</td>\n",
       "      <td>02215-3501</td>\n",
       "      <td>USA</td>\n",
       "    </tr>\n",
       "    <tr>\n",
       "      <th>1</th>\n",
       "      <td>10000254</td>\n",
       "      <td>1975 MAIN ST</td>\n",
       "      <td>Shell In Network Retail Site</td>\n",
       "      <td>1975 MAIN ST</td>\n",
       "      <td>TEWKSBURY</td>\n",
       "      <td>Massachusetts</td>\n",
       "      <td>01876-2176</td>\n",
       "      <td>USA</td>\n",
       "    </tr>\n",
       "    <tr>\n",
       "      <th>2</th>\n",
       "      <td>10000256</td>\n",
       "      <td>190 AMHERST ST</td>\n",
       "      <td>Shell In Network Retail Site</td>\n",
       "      <td>190 AMHERST ST</td>\n",
       "      <td>NASHUA</td>\n",
       "      <td>New Hampshire</td>\n",
       "      <td>03064-1307</td>\n",
       "      <td>USA</td>\n",
       "    </tr>\n",
       "    <tr>\n",
       "      <th>3</th>\n",
       "      <td>10000257</td>\n",
       "      <td>915 WALTHAM ST</td>\n",
       "      <td>Shell In Network Retail Site</td>\n",
       "      <td>915 WALTHAM ST</td>\n",
       "      <td>LEXINGTON</td>\n",
       "      <td>Massachusetts</td>\n",
       "      <td>02421-8001</td>\n",
       "      <td>USA</td>\n",
       "    </tr>\n",
       "    <tr>\n",
       "      <th>4</th>\n",
       "      <td>10000258</td>\n",
       "      <td>245 EDDY RD</td>\n",
       "      <td>Shell In Network Retail Site</td>\n",
       "      <td>245 EDDY RD</td>\n",
       "      <td>MANCHESTER</td>\n",
       "      <td>New Hampshire</td>\n",
       "      <td>03102-3232</td>\n",
       "      <td>USA</td>\n",
       "    </tr>\n",
       "  </tbody>\n",
       "</table>\n",
       "</div>"
      ],
      "text/plain": [
       "   GLOBAL_SITE_ID         SITE_NAME                     SITE_TYPE  \\\n",
       "0        10000253  1241 BOYLSTON ST  Shell In Network Retail Site   \n",
       "1        10000254      1975 MAIN ST  Shell In Network Retail Site   \n",
       "2        10000256    190 AMHERST ST  Shell In Network Retail Site   \n",
       "3        10000257    915 WALTHAM ST  Shell In Network Retail Site   \n",
       "4        10000258       245 EDDY RD  Shell In Network Retail Site   \n",
       "\n",
       "     STREET_ADDRESS        CITY          STATE POSTAL_CODE COUNTRY  \n",
       "0  1241 BOYLSTON ST      BOSTON  Massachusetts  02215-3501     USA  \n",
       "1      1975 MAIN ST   TEWKSBURY  Massachusetts  01876-2176     USA  \n",
       "2    190 AMHERST ST      NASHUA  New Hampshire  03064-1307     USA  \n",
       "3    915 WALTHAM ST   LEXINGTON  Massachusetts  02421-8001     USA  \n",
       "4       245 EDDY RD  MANCHESTER  New Hampshire  03102-3232     USA  "
      ]
     },
     "execution_count": 85,
     "metadata": {},
     "output_type": "execute_result"
    }
   ],
   "source": [
    "df.head()"
   ]
  },
  {
   "cell_type": "code",
   "execution_count": 86,
   "metadata": {},
   "outputs": [
    {
     "data": {
      "text/html": [
       "<div>\n",
       "<style scoped>\n",
       "    .dataframe tbody tr th:only-of-type {\n",
       "        vertical-align: middle;\n",
       "    }\n",
       "\n",
       "    .dataframe tbody tr th {\n",
       "        vertical-align: top;\n",
       "    }\n",
       "\n",
       "    .dataframe thead th {\n",
       "        text-align: right;\n",
       "    }\n",
       "</style>\n",
       "<table border=\"1\" class=\"dataframe\">\n",
       "  <thead>\n",
       "    <tr style=\"text-align: right;\">\n",
       "      <th></th>\n",
       "      <th>query</th>\n",
       "    </tr>\n",
       "  </thead>\n",
       "  <tbody>\n",
       "    <tr>\n",
       "      <th>0</th>\n",
       "      <td>1241 BOYLSTON ST, BOSTON, Massachusetts, 02215...</td>\n",
       "    </tr>\n",
       "    <tr>\n",
       "      <th>1</th>\n",
       "      <td>1975 MAIN ST, TEWKSBURY, Massachusetts, 01876-...</td>\n",
       "    </tr>\n",
       "    <tr>\n",
       "      <th>2</th>\n",
       "      <td>190 AMHERST ST, NASHUA, New Hampshire, 03064-1...</td>\n",
       "    </tr>\n",
       "    <tr>\n",
       "      <th>3</th>\n",
       "      <td>915 WALTHAM ST, LEXINGTON, Massachusetts, 0242...</td>\n",
       "    </tr>\n",
       "    <tr>\n",
       "      <th>4</th>\n",
       "      <td>245 EDDY RD, MANCHESTER, New Hampshire, 03102-...</td>\n",
       "    </tr>\n",
       "  </tbody>\n",
       "</table>\n",
       "</div>"
      ],
      "text/plain": [
       "                                               query\n",
       "0  1241 BOYLSTON ST, BOSTON, Massachusetts, 02215...\n",
       "1  1975 MAIN ST, TEWKSBURY, Massachusetts, 01876-...\n",
       "2  190 AMHERST ST, NASHUA, New Hampshire, 03064-1...\n",
       "3  915 WALTHAM ST, LEXINGTON, Massachusetts, 0242...\n",
       "4  245 EDDY RD, MANCHESTER, New Hampshire, 03102-..."
      ]
     },
     "execution_count": 86,
     "metadata": {},
     "output_type": "execute_result"
    }
   ],
   "source": [
    "#df['query'] = df['COMPANY'] + \" \" + df['CITY'] + \" \" +  df['COUNTRY']\n",
    "df['query'] = df['STREET_ADDRESS'] + \", \" + df['CITY'] + \", \" + df['STATE'] + \", \" + df['POSTAL_CODE'] + \", \" + df['COUNTRY']\n",
    "df.iloc[0:5, 8:9]   "
   ]
  },
  {
   "cell_type": "code",
   "execution_count": 87,
   "metadata": {},
   "outputs": [
    {
     "name": "stdout",
     "output_type": "stream",
     "text": [
      "data row x columns is (12, 9)\n",
      "data row count is 12\n"
     ]
    },
    {
     "data": {
      "text/html": [
       "<div>\n",
       "<style scoped>\n",
       "    .dataframe tbody tr th:only-of-type {\n",
       "        vertical-align: middle;\n",
       "    }\n",
       "\n",
       "    .dataframe tbody tr th {\n",
       "        vertical-align: top;\n",
       "    }\n",
       "\n",
       "    .dataframe thead th {\n",
       "        text-align: right;\n",
       "    }\n",
       "</style>\n",
       "<table border=\"1\" class=\"dataframe\">\n",
       "  <thead>\n",
       "    <tr style=\"text-align: right;\">\n",
       "      <th></th>\n",
       "      <th>GLOBAL_SITE_ID</th>\n",
       "      <th>SITE_NAME</th>\n",
       "      <th>SITE_TYPE</th>\n",
       "      <th>STREET_ADDRESS</th>\n",
       "      <th>CITY</th>\n",
       "      <th>STATE</th>\n",
       "      <th>POSTAL_CODE</th>\n",
       "      <th>COUNTRY</th>\n",
       "      <th>query</th>\n",
       "    </tr>\n",
       "  </thead>\n",
       "  <tbody>\n",
       "    <tr>\n",
       "      <th>0</th>\n",
       "      <td>10000253</td>\n",
       "      <td>1241 BOYLSTON ST</td>\n",
       "      <td>Shell In Network Retail Site</td>\n",
       "      <td>1241 BOYLSTON ST</td>\n",
       "      <td>BOSTON</td>\n",
       "      <td>Massachusetts</td>\n",
       "      <td>02215-3501</td>\n",
       "      <td>USA</td>\n",
       "      <td>1241 BOYLSTON ST, BOSTON, Massachusetts, 02215...</td>\n",
       "    </tr>\n",
       "    <tr>\n",
       "      <th>1</th>\n",
       "      <td>10000254</td>\n",
       "      <td>1975 MAIN ST</td>\n",
       "      <td>Shell In Network Retail Site</td>\n",
       "      <td>1975 MAIN ST</td>\n",
       "      <td>TEWKSBURY</td>\n",
       "      <td>Massachusetts</td>\n",
       "      <td>01876-2176</td>\n",
       "      <td>USA</td>\n",
       "      <td>1975 MAIN ST, TEWKSBURY, Massachusetts, 01876-...</td>\n",
       "    </tr>\n",
       "    <tr>\n",
       "      <th>2</th>\n",
       "      <td>10000256</td>\n",
       "      <td>190 AMHERST ST</td>\n",
       "      <td>Shell In Network Retail Site</td>\n",
       "      <td>190 AMHERST ST</td>\n",
       "      <td>NASHUA</td>\n",
       "      <td>New Hampshire</td>\n",
       "      <td>03064-1307</td>\n",
       "      <td>USA</td>\n",
       "      <td>190 AMHERST ST, NASHUA, New Hampshire, 03064-1...</td>\n",
       "    </tr>\n",
       "    <tr>\n",
       "      <th>3</th>\n",
       "      <td>10000257</td>\n",
       "      <td>915 WALTHAM ST</td>\n",
       "      <td>Shell In Network Retail Site</td>\n",
       "      <td>915 WALTHAM ST</td>\n",
       "      <td>LEXINGTON</td>\n",
       "      <td>Massachusetts</td>\n",
       "      <td>02421-8001</td>\n",
       "      <td>USA</td>\n",
       "      <td>915 WALTHAM ST, LEXINGTON, Massachusetts, 0242...</td>\n",
       "    </tr>\n",
       "    <tr>\n",
       "      <th>4</th>\n",
       "      <td>10000258</td>\n",
       "      <td>245 EDDY RD</td>\n",
       "      <td>Shell In Network Retail Site</td>\n",
       "      <td>245 EDDY RD</td>\n",
       "      <td>MANCHESTER</td>\n",
       "      <td>New Hampshire</td>\n",
       "      <td>03102-3232</td>\n",
       "      <td>USA</td>\n",
       "      <td>245 EDDY RD, MANCHESTER, New Hampshire, 03102-...</td>\n",
       "    </tr>\n",
       "  </tbody>\n",
       "</table>\n",
       "</div>"
      ],
      "text/plain": [
       "   GLOBAL_SITE_ID         SITE_NAME                     SITE_TYPE  \\\n",
       "0        10000253  1241 BOYLSTON ST  Shell In Network Retail Site   \n",
       "1        10000254      1975 MAIN ST  Shell In Network Retail Site   \n",
       "2        10000256    190 AMHERST ST  Shell In Network Retail Site   \n",
       "3        10000257    915 WALTHAM ST  Shell In Network Retail Site   \n",
       "4        10000258       245 EDDY RD  Shell In Network Retail Site   \n",
       "\n",
       "     STREET_ADDRESS        CITY          STATE POSTAL_CODE COUNTRY  \\\n",
       "0  1241 BOYLSTON ST      BOSTON  Massachusetts  02215-3501     USA   \n",
       "1      1975 MAIN ST   TEWKSBURY  Massachusetts  01876-2176     USA   \n",
       "2    190 AMHERST ST      NASHUA  New Hampshire  03064-1307     USA   \n",
       "3    915 WALTHAM ST   LEXINGTON  Massachusetts  02421-8001     USA   \n",
       "4       245 EDDY RD  MANCHESTER  New Hampshire  03102-3232     USA   \n",
       "\n",
       "                                               query  \n",
       "0  1241 BOYLSTON ST, BOSTON, Massachusetts, 02215...  \n",
       "1  1975 MAIN ST, TEWKSBURY, Massachusetts, 01876-...  \n",
       "2  190 AMHERST ST, NASHUA, New Hampshire, 03064-1...  \n",
       "3  915 WALTHAM ST, LEXINGTON, Massachusetts, 0242...  \n",
       "4  245 EDDY RD, MANCHESTER, New Hampshire, 03102-...  "
      ]
     },
     "execution_count": 87,
     "metadata": {},
     "output_type": "execute_result"
    }
   ],
   "source": [
    "#remove duplicate addresses (new concat column) but keep first instance\n",
    "df.drop_duplicates(subset ='query', keep ='first', inplace = True)\n",
    "\n",
    "#print some useful info: row length and shape size\n",
    "print(\"data row x columns is {}\\ndata row count is {}\".format(df.shape,len(df.index)))\n",
    "\n",
    "#print first rows as sample\n",
    "df.head()"
   ]
  },
  {
   "cell_type": "code",
   "execution_count": 88,
   "metadata": {},
   "outputs": [
    {
     "name": "stdout",
     "output_type": "stream",
     "text": [
      "data row x columns is (12, 1)\n",
      "data row count is 12\n"
     ]
    },
    {
     "data": {
      "text/html": [
       "<div>\n",
       "<style scoped>\n",
       "    .dataframe tbody tr th:only-of-type {\n",
       "        vertical-align: middle;\n",
       "    }\n",
       "\n",
       "    .dataframe tbody tr th {\n",
       "        vertical-align: top;\n",
       "    }\n",
       "\n",
       "    .dataframe thead th {\n",
       "        text-align: right;\n",
       "    }\n",
       "</style>\n",
       "<table border=\"1\" class=\"dataframe\">\n",
       "  <thead>\n",
       "    <tr style=\"text-align: right;\">\n",
       "      <th></th>\n",
       "      <th>query</th>\n",
       "    </tr>\n",
       "  </thead>\n",
       "  <tbody>\n",
       "    <tr>\n",
       "      <th>0</th>\n",
       "      <td>1241 BOYLSTON ST, BOSTON, Massachusetts, 02215...</td>\n",
       "    </tr>\n",
       "    <tr>\n",
       "      <th>1</th>\n",
       "      <td>1975 MAIN ST, TEWKSBURY, Massachusetts, 01876-...</td>\n",
       "    </tr>\n",
       "    <tr>\n",
       "      <th>2</th>\n",
       "      <td>190 AMHERST ST, NASHUA, New Hampshire, 03064-1...</td>\n",
       "    </tr>\n",
       "    <tr>\n",
       "      <th>3</th>\n",
       "      <td>915 WALTHAM ST, LEXINGTON, Massachusetts, 0242...</td>\n",
       "    </tr>\n",
       "    <tr>\n",
       "      <th>4</th>\n",
       "      <td>245 EDDY RD, MANCHESTER, New Hampshire, 03102-...</td>\n",
       "    </tr>\n",
       "  </tbody>\n",
       "</table>\n",
       "</div>"
      ],
      "text/plain": [
       "                                               query\n",
       "0  1241 BOYLSTON ST, BOSTON, Massachusetts, 02215...\n",
       "1  1975 MAIN ST, TEWKSBURY, Massachusetts, 01876-...\n",
       "2  190 AMHERST ST, NASHUA, New Hampshire, 03064-1...\n",
       "3  915 WALTHAM ST, LEXINGTON, Massachusetts, 0242...\n",
       "4  245 EDDY RD, MANCHESTER, New Hampshire, 03102-..."
      ]
     },
     "execution_count": 88,
     "metadata": {},
     "output_type": "execute_result"
    }
   ],
   "source": [
    "#drop columns we won't use\n",
    "df = df.drop(columns=['GLOBAL_SITE_ID','SITE_NAME','SITE_TYPE','STREET_ADDRESS','CITY','STATE','POSTAL_CODE','COUNTRY'])\n",
    "                 \n",
    "#print row length and shape size\n",
    "print(\"data row x columns is {}\\ndata row count is {}\".format(df.shape,len(df.index)))\n",
    "\n",
    "#print first rows as sample\n",
    "df.head()"
   ]
  },
  {
   "cell_type": "code",
   "execution_count": 89,
   "metadata": {},
   "outputs": [],
   "source": [
    "#create 2 new columns to store lat/long - initalise to null\n",
    "#df['location_lat'] = \"\"\n",
    "#df['location_long'] = \"\"\n",
    "#df['location_address'] = \"\"\n",
    "\n",
    "#print first rows to sample\n",
    "#df.head()"
   ]
  },
  {
   "cell_type": "code",
   "execution_count": 90,
   "metadata": {},
   "outputs": [],
   "source": [
    "from bingmaps.apiservices import LocationByAddress\n",
    "key = 'Ag7D1tdmOwcx6yD-pPbNxdbiKDueh-QBlK4LfLGLvG4tlioOAMZNz3ZANFv6QxBh'\n",
    "\n",
    "for i in df.index:\n",
    "    try:\n",
    "        #tries fetch address from geopy\n",
    "        location = LocationByAddress(df['query'][i])\n",
    "        \n",
    "        #append lat/long to column using dataframe location\n",
    "        df.loc[i,'location_lat'] = location.latitude\n",
    "        df.loc[i,'location_long'] = location.longitude\n",
    "        df.loc[i,'location_address'] = location.address\n",
    "    except:\n",
    "        #catches exception for the case where no value is returned\n",
    "        #appends null value to column\n",
    "        df.loc[i,'location_lat'] = \"\"\n",
    "        df.loc[i,'location_long'] = \"\"\n",
    "        df.loc[i,'location_address'] = \"\""
   ]
  },
  {
   "cell_type": "code",
   "execution_count": 91,
   "metadata": {},
   "outputs": [
    {
     "data": {
      "text/html": [
       "<div>\n",
       "<style scoped>\n",
       "    .dataframe tbody tr th:only-of-type {\n",
       "        vertical-align: middle;\n",
       "    }\n",
       "\n",
       "    .dataframe tbody tr th {\n",
       "        vertical-align: top;\n",
       "    }\n",
       "\n",
       "    .dataframe thead th {\n",
       "        text-align: right;\n",
       "    }\n",
       "</style>\n",
       "<table border=\"1\" class=\"dataframe\">\n",
       "  <thead>\n",
       "    <tr style=\"text-align: right;\">\n",
       "      <th></th>\n",
       "      <th>query</th>\n",
       "      <th>location_lat</th>\n",
       "      <th>location_long</th>\n",
       "      <th>location_address</th>\n",
       "    </tr>\n",
       "  </thead>\n",
       "  <tbody>\n",
       "    <tr>\n",
       "      <th>0</th>\n",
       "      <td>1241 BOYLSTON ST, BOSTON, Massachusetts, 02215...</td>\n",
       "      <td></td>\n",
       "      <td></td>\n",
       "      <td></td>\n",
       "    </tr>\n",
       "    <tr>\n",
       "      <th>1</th>\n",
       "      <td>1975 MAIN ST, TEWKSBURY, Massachusetts, 01876-...</td>\n",
       "      <td></td>\n",
       "      <td></td>\n",
       "      <td></td>\n",
       "    </tr>\n",
       "    <tr>\n",
       "      <th>2</th>\n",
       "      <td>190 AMHERST ST, NASHUA, New Hampshire, 03064-1...</td>\n",
       "      <td></td>\n",
       "      <td></td>\n",
       "      <td></td>\n",
       "    </tr>\n",
       "    <tr>\n",
       "      <th>3</th>\n",
       "      <td>915 WALTHAM ST, LEXINGTON, Massachusetts, 0242...</td>\n",
       "      <td></td>\n",
       "      <td></td>\n",
       "      <td></td>\n",
       "    </tr>\n",
       "    <tr>\n",
       "      <th>4</th>\n",
       "      <td>245 EDDY RD, MANCHESTER, New Hampshire, 03102-...</td>\n",
       "      <td></td>\n",
       "      <td></td>\n",
       "      <td></td>\n",
       "    </tr>\n",
       "  </tbody>\n",
       "</table>\n",
       "</div>"
      ],
      "text/plain": [
       "                                               query location_lat  \\\n",
       "0  1241 BOYLSTON ST, BOSTON, Massachusetts, 02215...                \n",
       "1  1975 MAIN ST, TEWKSBURY, Massachusetts, 01876-...                \n",
       "2  190 AMHERST ST, NASHUA, New Hampshire, 03064-1...                \n",
       "3  915 WALTHAM ST, LEXINGTON, Massachusetts, 0242...                \n",
       "4  245 EDDY RD, MANCHESTER, New Hampshire, 03102-...                \n",
       "\n",
       "  location_long location_address  \n",
       "0                                 \n",
       "1                                 \n",
       "2                                 \n",
       "3                                 \n",
       "4                                 "
      ]
     },
     "execution_count": 91,
     "metadata": {},
     "output_type": "execute_result"
    }
   ],
   "source": [
    "df.head()"
   ]
  },
  {
   "cell_type": "code",
   "execution_count": 92,
   "metadata": {},
   "outputs": [],
   "source": [
    "#write the contents thus far to new csv file\n",
    "df.to_csv('geopy_data1.csv')"
   ]
  }
 ],
 "metadata": {
  "interpreter": {
   "hash": "b826cf148fb2f09c5f65344a90ae586b586d8f3ad5dda4a02447cc131891c7aa"
  },
  "kernelspec": {
   "display_name": "Python 3.9.8 64-bit (windows store)",
   "language": "python",
   "name": "python3"
  },
  "language_info": {
   "codemirror_mode": {
    "name": "ipython",
    "version": 3
   },
   "file_extension": ".py",
   "mimetype": "text/x-python",
   "name": "python",
   "nbconvert_exporter": "python",
   "pygments_lexer": "ipython3",
   "version": "3.8.12"
  },
  "orig_nbformat": 4
 },
 "nbformat": 4,
 "nbformat_minor": 2
}
